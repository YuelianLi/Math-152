{
  "nbformat": 4,
  "nbformat_minor": 0,
  "metadata": {
    "kernelspec": {
      "display_name": "Python 3",
      "language": "python",
      "name": "python3"
    },
    "language_info": {
      "codemirror_mode": {
        "name": "ipython",
        "version": 3
      },
      "file_extension": ".py",
      "mimetype": "text/x-python",
      "name": "python",
      "nbconvert_exporter": "python",
      "pygments_lexer": "ipython3",
      "version": "3.6.7"
    },
    "colab": {
      "name": "“P4M_Notebook1.ipynb”hw1",
      "provenance": [],
      "include_colab_link": true
    }
  },
  "cells": [
    {
      "cell_type": "markdown",
      "metadata": {
        "id": "view-in-github",
        "colab_type": "text"
      },
      "source": [
        "<a href=\"https://colab.research.google.com/github/YuelianLi/Math-152/blob/main/%E2%80%9CP4M_Notebook1_ipynb%E2%80%9Dhw1.ipynb\" target=\"_parent\"><img src=\"https://colab.research.google.com/assets/colab-badge.svg\" alt=\"Open In Colab\"/></a>"
      ]
    },
    {
      "cell_type": "markdown",
      "metadata": {
        "id": "aLsfIWSoU5x_"
      },
      "source": [
        "#   Computing with Python:  an Introduction"
      ]
    },
    {
      "cell_type": "markdown",
      "metadata": {
        "id": "AXTRG_T1U5yD"
      },
      "source": [
        "Welcome to programming!\n",
        "\n",
        "What is the difference between *Python* and a calculator?  We begin this first lesson by showing how Python can be used **as** a calculator, and we move into one of the most important programming structures -- the **loop**.  Loops allow computers to carry out repetetive computations, with just a few commands.\n",
        "\n",
        "To navigate this notebook, you might wish to click on the Table of Contents icon (near top-left of the Google Colab window).  Then you can expand the sections to work on each one.\n",
        "\n",
        "Remember to save your work frequently on your personal GitHub repository."
      ]
    },
    {
      "cell_type": "markdown",
      "metadata": {
        "id": "-y8Iz5LaU5yD"
      },
      "source": [
        "# Python as a calculator"
      ]
    },
    {
      "cell_type": "markdown",
      "metadata": {
        "id": "6rbqov7pU5yE"
      },
      "source": [
        "Different kinds of data are stored as different *types* in Python.  For example, if you wish to work with integers, your data is typically stored as an *int*.  A real number might be stored as a *float*.  There are types for booleans (True/False data), strings (like \"Hello World!\"), and many more we will see.  \n",
        "\n",
        "A more complete reference for Python's numerical types and arithmetic operations can be found in the [official Python documentation](https://docs.python.org/3/library/stdtypes.html).  The [official Python tutorial](https://docs.python.org/3/tutorial/introduction.html) is also a great place to start.\n",
        "\n",
        "Python allows you to perform arithmetic operations:  addition, subtraction, multiplication, and division, on numerical types.  The operation symbols are `+`, `-`, `*`, and `/`.   Evaluate each of the following cells to see how Python performs operations on *integers*.  \n",
        "\n",
        "To evaluate the cell, click anywhere within the cell to select it and use the keyboard shortcut *Shift-Enter* to evaluate.  But as you go through this and later lessons, try to *predict* what will happen when you evaluate the cell before you hit Shift-Enter.  Don't just click click click!  Think for a few seconds or a minute, and then Shift-Enter."
      ]
    },
    {
      "cell_type": "code",
      "metadata": {
        "scrolled": true,
        "id": "yqyWbMp-U5yE",
        "colab": {
          "base_uri": "https://localhost:8080/"
        },
        "outputId": "a509d122-a43e-4721-d81e-8026743e5673"
      },
      "source": [
        "2 + 3"
      ],
      "execution_count": null,
      "outputs": [
        {
          "output_type": "execute_result",
          "data": {
            "text/plain": [
              "5"
            ]
          },
          "metadata": {
            "tags": []
          },
          "execution_count": 15
        }
      ]
    },
    {
      "cell_type": "code",
      "metadata": {
        "scrolled": true,
        "id": "ITtBZC2kU5yE"
      },
      "source": [
        "2 * 3"
      ],
      "execution_count": null,
      "outputs": []
    },
    {
      "cell_type": "code",
      "metadata": {
        "id": "mS2JIy1oU5yE"
      },
      "source": [
        "5 - 11"
      ],
      "execution_count": null,
      "outputs": []
    },
    {
      "cell_type": "code",
      "metadata": {
        "id": "WRjeVm8rU5yF"
      },
      "source": [
        "5.0 - 11"
      ],
      "execution_count": null,
      "outputs": []
    },
    {
      "cell_type": "code",
      "metadata": {
        "id": "Q9pdWY_hU5yF",
        "colab": {
          "base_uri": "https://localhost:8080/"
        },
        "outputId": "c53c7c06-771c-4628-8c05-0d83c1eb56cf"
      },
      "source": [
        "5 / 11"
      ],
      "execution_count": null,
      "outputs": [
        {
          "output_type": "execute_result",
          "data": {
            "text/plain": [
              "0.45454545454545453"
            ]
          },
          "metadata": {
            "tags": []
          },
          "execution_count": 16
        }
      ]
    },
    {
      "cell_type": "code",
      "metadata": {
        "id": "TPzva1UXU5yF"
      },
      "source": [
        "6 / 3"
      ],
      "execution_count": null,
      "outputs": []
    },
    {
      "cell_type": "code",
      "metadata": {
        "id": "GUmGnpHVU5yF"
      },
      "source": [
        "5 // 11"
      ],
      "execution_count": null,
      "outputs": []
    },
    {
      "cell_type": "code",
      "metadata": {
        "id": "JEXb5uPQU5yF"
      },
      "source": [
        "6 // 3"
      ],
      "execution_count": null,
      "outputs": []
    },
    {
      "cell_type": "markdown",
      "metadata": {
        "id": "o4t4Yw_XU5yF"
      },
      "source": [
        "The results are probably not too surprising, though the last two require a bit of explanation.  Python *interprets* the input number 5 as an *int* (integer) and 5.0 as a *float*.  \"Float\" stands for \"floating point number,\" which are decimal approximations to real numbers.  The word \"float\" refers to the fact that the decimal (or binary, for computers) point can float around (as in 1.2345 or 12.345 or 123.45 or 1234.5 or 0.00012345).  There are deep computational issues related to how computers handle decimal approximations, and you can [read about the IEEE standards](https://en.wikipedia.org/wiki/IEEE_754) if you're interested.\n",
        "\n",
        "Python enables different kinds of division.  The single-slash division in Python 3.x gives a floating point approximation of the quotient.  That's why `5 / 11` and `6 / 3` both output floats.  On the other hand, `5 // 11` and `6 // 3` yield integer outputs (rounding down) -- this is useful, but one has to be careful!\n",
        "\n",
        "In fact the designers of Python changed their mind.  **This tutorial assumes that you are using Python 3.x.**  If you are using Python 2.x, the command `5 / 11` would output zero."
      ]
    },
    {
      "cell_type": "code",
      "metadata": {
        "id": "msOx7ga_U5yF",
        "colab": {
          "base_uri": "https://localhost:8080/"
        },
        "outputId": "ee740957-5140-451b-885a-630de2f77870"
      },
      "source": [
        "-12 // 5  # What will this output?  Guess before evaluating!"
      ],
      "execution_count": null,
      "outputs": [
        {
          "output_type": "execute_result",
          "data": {
            "text/plain": [
              "-3"
            ]
          },
          "metadata": {
            "tags": []
          },
          "execution_count": 1
        }
      ]
    },
    {
      "cell_type": "markdown",
      "metadata": {
        "id": "6m4OcRYfU5yG"
      },
      "source": [
        "Why use integer division `//` and why use floating point division?  In practice, integer division is typically a faster operation.  So if you only need the rounded result (and that will often be the case), use integer division.  It will run much faster than carrying out floating point division then manually rounding down.\n",
        "\n",
        "Observe that floating point operations involve approximation.  The result of `5.0/11.0` might not be what you expect in the last digit.  Over time, especially with repeated operations, *floating point approximation* errors can add up!"
      ]
    },
    {
      "cell_type": "markdown",
      "metadata": {
        "id": "uAyV-QWrU5yG"
      },
      "source": [
        "You might be wondering about the little [XX] and [XX] prompts in the code cells above.  What is their purpose?  Guess what the following line will do."
      ]
    },
    {
      "cell_type": "code",
      "metadata": {
        "id": "vgnp3B3JU5yG"
      },
      "source": [
        "Out[4] + Out[5]"
      ],
      "execution_count": null,
      "outputs": []
    },
    {
      "cell_type": "markdown",
      "metadata": {
        "id": "GgS8uA14U5yG"
      },
      "source": [
        "Cool, huh?  It's nice to have a record of previous computations, especially if you don't want to type something again.\n",
        "\n",
        "Python allows you to group expressions with parentheses, and follows the order of operations that you learn in school."
      ]
    },
    {
      "cell_type": "code",
      "metadata": {
        "id": "kE_p7LcGU5yG"
      },
      "source": [
        "(3 + 4) * 5"
      ],
      "execution_count": null,
      "outputs": []
    },
    {
      "cell_type": "code",
      "metadata": {
        "id": "n-hUvTxHU5yG"
      },
      "source": [
        "3 + (4 * 5)"
      ],
      "execution_count": null,
      "outputs": []
    },
    {
      "cell_type": "code",
      "metadata": {
        "id": "3E_z7E81U5yG",
        "colab": {
          "base_uri": "https://localhost:8080/"
        },
        "outputId": "ac5d0cf1-d128-4341-f193-57b8f90770a3"
      },
      "source": [
        "3 + 4 * 5   #  What do you think will be the result?  Remember PEMDAS?"
      ],
      "execution_count": null,
      "outputs": [
        {
          "output_type": "execute_result",
          "data": {
            "text/plain": [
              "23"
            ]
          },
          "metadata": {
            "tags": []
          },
          "execution_count": 2
        }
      ]
    },
    {
      "cell_type": "markdown",
      "metadata": {
        "id": "lIFwbvWsU5yG"
      },
      "source": [
        "Now is a good time to try a few computations of your own, in the empty cell below.  You can type any Python commands you want in the empty cell.  If you want to insert a new cell into this notebook, just hover your cursor in the space between cells in Colab."
      ]
    },
    {
      "cell_type": "code",
      "metadata": {
        "id": "Rc5Lv9wLU5yH",
        "colab": {
          "base_uri": "https://localhost:8080/"
        },
        "outputId": "28652dc0-cf5e-4c90-9cfa-c08ac2d3b3f9"
      },
      "source": [
        "#  An empty cell.  Have fun!\n",
        "9 + (12 * 3)"
      ],
      "execution_count": null,
      "outputs": [
        {
          "output_type": "execute_result",
          "data": {
            "text/plain": [
              "45"
            ]
          },
          "metadata": {
            "tags": []
          },
          "execution_count": 4
        }
      ]
    },
    {
      "cell_type": "markdown",
      "metadata": {
        "id": "OkWlZNSSU5yH"
      },
      "source": [
        "For number theory, *division with remainder* is an operation of central importance.  Integer division provides the quotient, and the operation `%` provides the remainder.  It's a bit strange that the percent symbol is used for the remainder, but this [dates at least to the early 1970s](https://softwareengineering.stackexchange.com/questions/294297/in-what-programming-language-did-the-use-of-the-percent-sign-to-mean-modulo) and has become standard across computer languages."
      ]
    },
    {
      "cell_type": "code",
      "metadata": {
        "id": "xTWOi_XxU5yH",
        "colab": {
          "base_uri": "https://localhost:8080/"
        },
        "outputId": "1f0afe0a-fabc-40a7-d648-2378974c9ebb"
      },
      "source": [
        "23 // 5  # Integer division"
      ],
      "execution_count": null,
      "outputs": [
        {
          "output_type": "execute_result",
          "data": {
            "text/plain": [
              "4"
            ]
          },
          "metadata": {
            "tags": []
          },
          "execution_count": 5
        }
      ]
    },
    {
      "cell_type": "code",
      "metadata": {
        "id": "UNjARp_xU5yH",
        "colab": {
          "base_uri": "https://localhost:8080/"
        },
        "outputId": "4bbbe4cd-32a5-4493-c9fe-7f7ab46caf75"
      },
      "source": [
        "23 % 5  # The remainder after division"
      ],
      "execution_count": null,
      "outputs": [
        {
          "output_type": "execute_result",
          "data": {
            "text/plain": [
              "3"
            ]
          },
          "metadata": {
            "tags": []
          },
          "execution_count": 6
        }
      ]
    },
    {
      "cell_type": "markdown",
      "metadata": {
        "id": "WFrRvFgkU5yH"
      },
      "source": [
        "Note in the code above, there are little \"comments\".  To place a short comment on a line of code, just put a hashtag `#` at the end of the line of code, followed by your comment.\n",
        "\n",
        "Python gives a single command for division with remainder.  Its output is a *tuple*."
      ]
    },
    {
      "cell_type": "code",
      "metadata": {
        "id": "F2zJS-tRU5yH"
      },
      "source": [
        "divmod(23,5)"
      ],
      "execution_count": null,
      "outputs": []
    },
    {
      "cell_type": "code",
      "metadata": {
        "id": "y3dckm2dU5yH",
        "colab": {
          "base_uri": "https://localhost:8080/"
        },
        "outputId": "110c2608-da82-403f-c839-3e1082ab0f4e"
      },
      "source": [
        "type(divmod(23,5))"
      ],
      "execution_count": null,
      "outputs": [
        {
          "output_type": "execute_result",
          "data": {
            "text/plain": [
              "tuple"
            ]
          },
          "metadata": {
            "tags": []
          },
          "execution_count": 7
        }
      ]
    },
    {
      "cell_type": "markdown",
      "metadata": {
        "id": "0qVUgNJ2U5yH"
      },
      "source": [
        "All data in Python has a type, but a common complaint about Python is that types are a bit concealed \"under the hood\".  But they are not far under the hood!  Anyone can find out the type of some data with a single command."
      ]
    },
    {
      "cell_type": "code",
      "metadata": {
        "id": "TU1Cho4tU5yI"
      },
      "source": [
        "type(3)"
      ],
      "execution_count": null,
      "outputs": []
    },
    {
      "cell_type": "code",
      "metadata": {
        "id": "OYALDWO5U5yI"
      },
      "source": [
        "type(3.0)"
      ],
      "execution_count": null,
      "outputs": []
    },
    {
      "cell_type": "code",
      "metadata": {
        "id": "SHQ-_qcHU5yI"
      },
      "source": [
        "type('Hello')"
      ],
      "execution_count": null,
      "outputs": []
    },
    {
      "cell_type": "code",
      "metadata": {
        "id": "nhf-YmD3U5yI"
      },
      "source": [
        "type([1,2,3])"
      ],
      "execution_count": null,
      "outputs": []
    },
    {
      "cell_type": "markdown",
      "metadata": {
        "id": "tYWDszLmU5yI"
      },
      "source": [
        "The key to careful computation in Python is always being *aware of the type* of your data, and *knowing* how Python operates differently on data of different types."
      ]
    },
    {
      "cell_type": "code",
      "metadata": {
        "id": "Uc7eYJLWU5yI",
        "colab": {
          "base_uri": "https://localhost:8080/"
        },
        "outputId": "891bfdda-fa7f-4f99-a9dc-31315725384c"
      },
      "source": [
        "3 + 3"
      ],
      "execution_count": null,
      "outputs": [
        {
          "output_type": "execute_result",
          "data": {
            "text/plain": [
              "6"
            ]
          },
          "metadata": {
            "tags": []
          },
          "execution_count": 8
        }
      ]
    },
    {
      "cell_type": "code",
      "metadata": {
        "id": "jv6N6XLQU5yI",
        "colab": {
          "base_uri": "https://localhost:8080/"
        },
        "outputId": "c6c00405-d018-41a9-9c7d-f19f60d2588d"
      },
      "source": [
        "3.0 + 3.0"
      ],
      "execution_count": null,
      "outputs": [
        {
          "output_type": "execute_result",
          "data": {
            "text/plain": [
              "6.0"
            ]
          },
          "metadata": {
            "tags": []
          },
          "execution_count": 9
        }
      ]
    },
    {
      "cell_type": "code",
      "metadata": {
        "id": "KKF4Sv-jU5yI",
        "colab": {
          "base_uri": "https://localhost:8080/",
          "height": 36
        },
        "outputId": "a0397657-27d1-4ba0-db6c-b17d947464dc"
      },
      "source": [
        "'Hello' + 'World!'"
      ],
      "execution_count": null,
      "outputs": [
        {
          "output_type": "execute_result",
          "data": {
            "application/vnd.google.colaboratory.intrinsic+json": {
              "type": "string"
            },
            "text/plain": [
              "'HelloWorld!'"
            ]
          },
          "metadata": {
            "tags": []
          },
          "execution_count": 10
        }
      ]
    },
    {
      "cell_type": "code",
      "metadata": {
        "id": "q9H__Z99U5yI",
        "colab": {
          "base_uri": "https://localhost:8080/"
        },
        "outputId": "0b2f230b-f997-47b0-f7d2-c3126da2b5e4"
      },
      "source": [
        "[1,2,3] + [4,5,6]"
      ],
      "execution_count": null,
      "outputs": [
        {
          "output_type": "execute_result",
          "data": {
            "text/plain": [
              "[1, 2, 3, 4, 5, 6]"
            ]
          },
          "metadata": {
            "tags": []
          },
          "execution_count": 11
        }
      ]
    },
    {
      "cell_type": "code",
      "metadata": {
        "id": "NDDAxeQJU5yJ",
        "colab": {
          "base_uri": "https://localhost:8080/"
        },
        "outputId": "4a0fea98-04b8-491e-d2f8-2c4032bdee27"
      },
      "source": [
        "3 + 3.0"
      ],
      "execution_count": null,
      "outputs": [
        {
          "output_type": "execute_result",
          "data": {
            "text/plain": [
              "6.0"
            ]
          },
          "metadata": {
            "tags": []
          },
          "execution_count": 12
        }
      ]
    },
    {
      "cell_type": "code",
      "metadata": {
        "id": "xuBj_w9_U5yJ",
        "colab": {
          "base_uri": "https://localhost:8080/",
          "height": 176
        },
        "outputId": "40aaf1c5-b0ed-40c7-dd3c-a81f8648b42c"
      },
      "source": [
        "3 + 'Hello!'  # Uh oh!"
      ],
      "execution_count": null,
      "outputs": [
        {
          "output_type": "error",
          "ename": "TypeError",
          "evalue": "ignored",
          "traceback": [
            "\u001b[0;31m---------------------------------------------------------------------------\u001b[0m",
            "\u001b[0;31mTypeError\u001b[0m                                 Traceback (most recent call last)",
            "\u001b[0;32m<ipython-input-13-dacf80a979a3>\u001b[0m in \u001b[0;36m<module>\u001b[0;34m()\u001b[0m\n\u001b[0;32m----> 1\u001b[0;31m \u001b[0;36m3\u001b[0m \u001b[0;34m+\u001b[0m \u001b[0;34m'Hello!'\u001b[0m  \u001b[0;31m# Uh oh!\u001b[0m\u001b[0;34m\u001b[0m\u001b[0;34m\u001b[0m\u001b[0m\n\u001b[0m",
            "\u001b[0;31mTypeError\u001b[0m: unsupported operand type(s) for +: 'int' and 'str'"
          ]
        }
      ]
    },
    {
      "cell_type": "code",
      "metadata": {
        "id": "9P7roKZgU5yJ"
      },
      "source": [
        "#  An empty cell.  Have fun!\n",
        "#  Try operating on ints, floats, and strings, with different operations.  Which ones work?  How?"
      ],
      "execution_count": null,
      "outputs": []
    },
    {
      "cell_type": "markdown",
      "metadata": {
        "id": "1_2D8-NFU5yJ"
      },
      "source": [
        "As you can see, addition (the `+` operator) is interpreted differently in the contexts of numbers, strings, and lists.  The designers of Python allowed us to add *numbers* of different types:  if you try to operate on an *int* and a *float*, the *int* will typically be *coerced* into a float in order to perform the operation.  But the designers of Python did not give meaning to the addition of a number with a string, for example.  That's why you probably received a *TypeError* after trying to add a number to a string. \n",
        "\n",
        "On the other hand, Python does interpret *multiplication* of a natural number with a string or a list."
      ]
    },
    {
      "cell_type": "code",
      "metadata": {
        "id": "MmRfXepMU5yJ",
        "colab": {
          "base_uri": "https://localhost:8080/",
          "height": 36
        },
        "outputId": "3ebd3ada-0ad6-46f6-f8be-d23185f38c0d"
      },
      "source": [
        "3 * 'Hello!'"
      ],
      "execution_count": null,
      "outputs": [
        {
          "output_type": "execute_result",
          "data": {
            "application/vnd.google.colaboratory.intrinsic+json": {
              "type": "string"
            },
            "text/plain": [
              "'Hello!Hello!Hello!'"
            ]
          },
          "metadata": {
            "tags": []
          },
          "execution_count": 49
        }
      ]
    },
    {
      "cell_type": "code",
      "metadata": {
        "id": "gVo2bjWzU5yJ",
        "colab": {
          "base_uri": "https://localhost:8080/",
          "height": 36
        },
        "outputId": "8138b9c6-d11a-482f-d519-0f508305453f"
      },
      "source": [
        "0 * 'Hello!'"
      ],
      "execution_count": null,
      "outputs": [
        {
          "output_type": "execute_result",
          "data": {
            "application/vnd.google.colaboratory.intrinsic+json": {
              "type": "string"
            },
            "text/plain": [
              "''"
            ]
          },
          "metadata": {
            "tags": []
          },
          "execution_count": 40
        }
      ]
    },
    {
      "cell_type": "code",
      "metadata": {
        "id": "OqWWK6VWU5yJ",
        "colab": {
          "base_uri": "https://localhost:8080/"
        },
        "outputId": "30e86664-6558-4d4e-a51d-c10cbde008a4"
      },
      "source": [
        "2 * [1,2,3]"
      ],
      "execution_count": null,
      "outputs": [
        {
          "output_type": "execute_result",
          "data": {
            "text/plain": [
              "[1, 2, 3, 1, 2, 3]"
            ]
          },
          "metadata": {
            "tags": []
          },
          "execution_count": 41
        }
      ]
    },
    {
      "cell_type": "markdown",
      "metadata": {
        "id": "Z28hpoAjU5yJ"
      },
      "source": [
        "Can you create a string with 100 A's (like `AAA...`)?  Use an appropriate operation in the cell below."
      ]
    },
    {
      "cell_type": "code",
      "metadata": {
        "id": "fAxwL5O3U5yJ",
        "colab": {
          "base_uri": "https://localhost:8080/"
        },
        "outputId": "afdabf79-b273-4a6c-b37f-95915ef8b129"
      },
      "source": [
        "#  Practice cell\n",
        "a100 = \"\"  # a string\n",
        "for i in range(100):\n",
        "    a100 += \"A\"\n",
        "\n",
        "print(a100)"
      ],
      "execution_count": null,
      "outputs": [
        {
          "output_type": "stream",
          "text": [
            "AAAAAAAAAAAAAAAAAAAAAAAAAAAAAAAAAAAAAAAAAAAAAAAAAAAAAAAAAAAAAAAAAAAAAAAAAAAAAAAAAAAAAAAAAAAAAAAAAAAA\n"
          ],
          "name": "stdout"
        }
      ]
    },
    {
      "cell_type": "markdown",
      "metadata": {
        "id": "nHp8b6_8U5yJ"
      },
      "source": [
        "Exponents in Python are given by the `**` operator.  The following lines compute 2 to the 1000th power, in two different ways."
      ]
    },
    {
      "cell_type": "code",
      "metadata": {
        "id": "VNDmF-hcU5yK"
      },
      "source": [
        "2**1000"
      ],
      "execution_count": null,
      "outputs": []
    },
    {
      "cell_type": "code",
      "metadata": {
        "id": "DEHGNQ3RU5yK"
      },
      "source": [
        "2.0**1000"
      ],
      "execution_count": null,
      "outputs": []
    },
    {
      "cell_type": "markdown",
      "metadata": {
        "id": "O1bSyFFJU5yK"
      },
      "source": [
        "As before, Python interprets an operation (`**`) differently in different contexts.  When given integer input, Python evaluates `2**1000` **exactly**.  The result is a large integer.  A nice fact about Python, for mathematicians, is that it handles exact integers of arbitrary length!  Many other programming languages (like C++) will give an error message if integers get too large in the midst of a computation.  \n",
        "\n",
        "New in version 3.x, Python implements long integers without giving signals to the programmer or changing types.  In Python 2.x, there were two types: *int* for somewhat small integers (e.g., up to $2^{31}$) and *long* type for all larger integers.  Python 2.x would signal which type of integer was being used, by placing the letter \"L\" at the end of a long integer.  Now, in Python 3.x, the programmer doesn't really see the difference.  There is only the *int* type.  But Python still optimizes computations, using hardware functionality for arithmetic of small integers and custom routines for large integers.  The programmer doesn't have to worry about it most of the time.\n",
        "\n",
        "For scientific applications, one often wants to keep track of only a certain number of significant digits (sig figs).  If one computes the floating point exponent `2.0**1000`, the result is a decimal approximation.  It is still a float.  The expression \"e+301\" stands for \"multiplied by 10 to the 301st power\", i.e., Python uses *scientific notation* for large floats."
      ]
    },
    {
      "cell_type": "code",
      "metadata": {
        "id": "gbiP5lpxU5yK",
        "colab": {
          "base_uri": "https://localhost:8080/"
        },
        "outputId": "91ff70de-8041-4c8a-d2ba-f7d7ce8cc174"
      },
      "source": [
        "type(2**1000)"
      ],
      "execution_count": null,
      "outputs": [
        {
          "output_type": "execute_result",
          "data": {
            "text/plain": [
              "int"
            ]
          },
          "metadata": {
            "tags": []
          },
          "execution_count": 18
        }
      ]
    },
    {
      "cell_type": "code",
      "metadata": {
        "id": "oYFQ7ZxFU5yL",
        "colab": {
          "base_uri": "https://localhost:8080/"
        },
        "outputId": "8254e488-aace-439d-92c0-9457cba7e481"
      },
      "source": [
        "type(2.0**1000)"
      ],
      "execution_count": null,
      "outputs": [
        {
          "output_type": "execute_result",
          "data": {
            "text/plain": [
              "float"
            ]
          },
          "metadata": {
            "tags": []
          },
          "execution_count": 23
        }
      ]
    },
    {
      "cell_type": "code",
      "metadata": {
        "id": "MtmwQzLgU5yL",
        "colab": {
          "base_uri": "https://localhost:8080/"
        },
        "outputId": "b4e1d13c-a2c6-43ca-fec8-2caf913146b0"
      },
      "source": [
        "#  An empty cell.  Have fun!\n",
        "type(2.0**100)"
      ],
      "execution_count": null,
      "outputs": [
        {
          "output_type": "execute_result",
          "data": {
            "text/plain": [
              "float"
            ]
          },
          "metadata": {
            "tags": []
          },
          "execution_count": 24
        }
      ]
    },
    {
      "cell_type": "markdown",
      "metadata": {
        "id": "hu0LPXNLU5yL"
      },
      "source": [
        "Now is a good time for reflection.  Double-click in the cell below to answer the given questions.  Cells like this one are used for text rather than Python code.  Text is entered using *markdown*, but you can typically just enter text as you would in any text editor without problems.  Press *shift-Enter* after editing a text cell to complete the editing process.  "
      ]
    },
    {
      "cell_type": "markdown",
      "metadata": {
        "id": "QLyCVcXoU5yL"
      },
      "source": [
        "### Exercises\n",
        "\n",
        "1.  What data types have you seen, and what kinds of data are they used for?  Can you remember them without looking back?\n",
        "\n",
        "2.  How is division `/` interpreted differently for different types of data?\n",
        "\n",
        "3.  How is multiplication `*` interpreted differently for different types of data?\n",
        "\n",
        "4.  What is the difference between 100 and 100.0, for Python?"
      ]
    },
    {
      "cell_type": "markdown",
      "metadata": {
        "id": "R5dx2nZFf5Cv"
      },
      "source": [
        ""
      ]
    },
    {
      "cell_type": "markdown",
      "metadata": {
        "id": "KDzM72ZXU5yL"
      },
      "source": [
        "Double-click this text cell to edit it, and answer the exercises.  This may be graded, so please complete all questions!  Write in clear, complete, and concise sentences.\n",
        "\n",
        "1.\n",
        "\n",
        "*int*: for integers, and utilizing arithmetic operations, including addition +, subtraction -, multiplication * , and division /.\n",
        "\n",
        "*float*: for decimal approximations to real numbers\n",
        "\n",
        "*booleans*: for True/False data.\n",
        "\n",
        "*strings*: for words, e.x. ‘Hello’.\n",
        "\n",
        "tuple: for division with remainder, and we type (divmod ()). \n",
        "\n",
        "list: for listing numbers, e.x. type([6,6,6])."
      ]
    },
    {
      "cell_type": "markdown",
      "metadata": {
        "id": "gW35HFNihVO2"
      },
      "source": [
        "2.\n",
        "\n",
        "Division / provides float outputs, \n",
        "\n",
        "while division // yields integer outputs (rounding down)."
      ]
    },
    {
      "cell_type": "markdown",
      "metadata": {
        "id": "bRgZbfy_gZ90"
      },
      "source": [
        "Here are examples for division/ :"
      ]
    },
    {
      "cell_type": "code",
      "metadata": {
        "id": "JB9db0ybgRFL",
        "colab": {
          "base_uri": "https://localhost:8080/"
        },
        "outputId": "a5b8a420-f322-4610-d5da-9f2be0187199"
      },
      "source": [
        "10/32\n",
        "#comment do not count as code to run\n"
      ],
      "execution_count": null,
      "outputs": [
        {
          "output_type": "execute_result",
          "data": {
            "text/plain": [
              "0.3125"
            ]
          },
          "metadata": {
            "tags": []
          },
          "execution_count": 47
        }
      ]
    },
    {
      "cell_type": "code",
      "metadata": {
        "id": "PI9JaDLBgyn8",
        "colab": {
          "base_uri": "https://localhost:8080/"
        },
        "outputId": "7d13d75b-eb04-48f2-e656-5c0ea383bf96"
      },
      "source": [
        "10.0/32.0\n"
      ],
      "execution_count": null,
      "outputs": [
        {
          "output_type": "execute_result",
          "data": {
            "text/plain": [
              "0.3125"
            ]
          },
          "metadata": {
            "tags": []
          },
          "execution_count": 46
        }
      ]
    },
    {
      "cell_type": "markdown",
      "metadata": {
        "id": "78DAGK9egf_O"
      },
      "source": [
        "Here is an example for division//:"
      ]
    },
    {
      "cell_type": "code",
      "metadata": {
        "id": "gdvRB6VNgfUj",
        "colab": {
          "base_uri": "https://localhost:8080/"
        },
        "outputId": "bde79297-26bf-4828-e0b9-f230ae755ddf"
      },
      "source": [
        "32//10"
      ],
      "execution_count": null,
      "outputs": [
        {
          "output_type": "execute_result",
          "data": {
            "text/plain": [
              "3"
            ]
          },
          "metadata": {
            "tags": []
          },
          "execution_count": 43
        }
      ]
    },
    {
      "cell_type": "markdown",
      "metadata": {
        "id": "hZM5eZPohY22"
      },
      "source": [
        "3.\n",
        "\n",
        "multiplication * is used to multiply number(s) with number(s) in arithmetic operations, to make a string, and to make a list."
      ]
    },
    {
      "cell_type": "markdown",
      "metadata": {
        "id": "aoYAQUfgk1BV"
      },
      "source": [
        "Here is an example for number times number:"
      ]
    },
    {
      "cell_type": "code",
      "metadata": {
        "id": "Tc1FJ_3MkwED",
        "colab": {
          "base_uri": "https://localhost:8080/"
        },
        "outputId": "21b9eb5f-7270-4dfb-ee29-20608c9dfb44"
      },
      "source": [
        "10 * 32"
      ],
      "execution_count": null,
      "outputs": [
        {
          "output_type": "execute_result",
          "data": {
            "text/plain": [
              "320"
            ]
          },
          "metadata": {
            "tags": []
          },
          "execution_count": 48
        }
      ]
    },
    {
      "cell_type": "markdown",
      "metadata": {
        "id": "pXOi0qCjlCwk"
      },
      "source": [
        "Here is an example for multiplication in string:"
      ]
    },
    {
      "cell_type": "code",
      "metadata": {
        "id": "Qi3Xqvg1k-50",
        "colab": {
          "base_uri": "https://localhost:8080/",
          "height": 55
        },
        "outputId": "859669d0-a5f3-4e56-b59e-ff1b335cf6da"
      },
      "source": [
        "32 * 'Hello!'"
      ],
      "execution_count": null,
      "outputs": [
        {
          "output_type": "execute_result",
          "data": {
            "application/vnd.google.colaboratory.intrinsic+json": {
              "type": "string"
            },
            "text/plain": [
              "'Hello!Hello!Hello!Hello!Hello!Hello!Hello!Hello!Hello!Hello!Hello!Hello!Hello!Hello!Hello!Hello!Hello!Hello!Hello!Hello!Hello!Hello!Hello!Hello!Hello!Hello!Hello!Hello!Hello!Hello!Hello!Hello!'"
            ]
          },
          "metadata": {
            "tags": []
          },
          "execution_count": 51
        }
      ]
    },
    {
      "cell_type": "markdown",
      "metadata": {
        "id": "n6mM4-9nlgJ2"
      },
      "source": [
        "Finally, here is an example for multiplication in number list:"
      ]
    },
    {
      "cell_type": "code",
      "metadata": {
        "id": "9jFIIEN4lnO7",
        "colab": {
          "base_uri": "https://localhost:8080/"
        },
        "outputId": "708dbfe4-e788-4fae-cfde-99b95b3e90e5"
      },
      "source": [
        "32 * [1, 0]"
      ],
      "execution_count": null,
      "outputs": [
        {
          "output_type": "execute_result",
          "data": {
            "text/plain": [
              "[1,\n",
              " 0,\n",
              " 1,\n",
              " 0,\n",
              " 1,\n",
              " 0,\n",
              " 1,\n",
              " 0,\n",
              " 1,\n",
              " 0,\n",
              " 1,\n",
              " 0,\n",
              " 1,\n",
              " 0,\n",
              " 1,\n",
              " 0,\n",
              " 1,\n",
              " 0,\n",
              " 1,\n",
              " 0,\n",
              " 1,\n",
              " 0,\n",
              " 1,\n",
              " 0,\n",
              " 1,\n",
              " 0,\n",
              " 1,\n",
              " 0,\n",
              " 1,\n",
              " 0,\n",
              " 1,\n",
              " 0,\n",
              " 1,\n",
              " 0,\n",
              " 1,\n",
              " 0,\n",
              " 1,\n",
              " 0,\n",
              " 1,\n",
              " 0,\n",
              " 1,\n",
              " 0,\n",
              " 1,\n",
              " 0,\n",
              " 1,\n",
              " 0,\n",
              " 1,\n",
              " 0,\n",
              " 1,\n",
              " 0,\n",
              " 1,\n",
              " 0,\n",
              " 1,\n",
              " 0,\n",
              " 1,\n",
              " 0,\n",
              " 1,\n",
              " 0,\n",
              " 1,\n",
              " 0,\n",
              " 1,\n",
              " 0,\n",
              " 1,\n",
              " 0]"
            ]
          },
          "metadata": {
            "tags": []
          },
          "execution_count": 52
        }
      ]
    },
    {
      "cell_type": "markdown",
      "metadata": {
        "id": "5VHmcOyBly5r"
      },
      "source": [
        "4.\n",
        "For python, 100 is an *int* while 100.0 is a *float*."
      ]
    },
    {
      "cell_type": "markdown",
      "metadata": {
        "id": "0jhkZ5zhU5yL"
      },
      "source": [
        "# Calculating with booleans"
      ]
    },
    {
      "cell_type": "markdown",
      "metadata": {
        "id": "IAb0HST5U5yM"
      },
      "source": [
        "A *boolean* (type *bool*) is the smallest possible piece of data.  While an *int* can be any integer, positive or negative, a *boolean* can only be one of two things:  *True* or *False*.  In this way, booleans are useful for storing the answers to yes/no questions.  \n",
        "\n",
        "Questions about (in)equality of numbers are answered in Python by *operations* with numerical input and boolean output.  Here are some examples.  A more complete reference is [in the official Python documentation](https://docs.python.org/3/library/stdtypes.html#boolean-operations-and-or-not)."
      ]
    },
    {
      "cell_type": "code",
      "metadata": {
        "id": "AqNG6PZBU5yM",
        "colab": {
          "base_uri": "https://localhost:8080/"
        },
        "outputId": "eaf3490e-1f56-4254-9dbc-83ac1a6a7f9e"
      },
      "source": [
        "3 > 2"
      ],
      "execution_count": 1,
      "outputs": [
        {
          "output_type": "execute_result",
          "data": {
            "text/plain": [
              "True"
            ]
          },
          "metadata": {
            "tags": []
          },
          "execution_count": 1
        }
      ]
    },
    {
      "cell_type": "code",
      "metadata": {
        "id": "nOgi4gqUU5yM"
      },
      "source": [
        "type(3 > 2)"
      ],
      "execution_count": null,
      "outputs": []
    },
    {
      "cell_type": "code",
      "metadata": {
        "id": "WabkpXPbU5yM"
      },
      "source": [
        "10 < 3"
      ],
      "execution_count": null,
      "outputs": []
    },
    {
      "cell_type": "code",
      "metadata": {
        "id": "Mohc3o5oU5yM"
      },
      "source": [
        "2.4 < 2.4000001"
      ],
      "execution_count": null,
      "outputs": []
    },
    {
      "cell_type": "code",
      "metadata": {
        "id": "jnrzq17fU5yM"
      },
      "source": [
        "32 >= 32"
      ],
      "execution_count": null,
      "outputs": []
    },
    {
      "cell_type": "code",
      "metadata": {
        "id": "D55td8J7U5yM"
      },
      "source": [
        "32 >= 31"
      ],
      "execution_count": null,
      "outputs": []
    },
    {
      "cell_type": "code",
      "metadata": {
        "id": "L0RlreGLU5yM"
      },
      "source": [
        "2 + 2 == 4"
      ],
      "execution_count": null,
      "outputs": []
    },
    {
      "cell_type": "markdown",
      "metadata": {
        "id": "_f2QoYJ-U5yM"
      },
      "source": [
        "Which number is bigger:  $23^{32}$ or $32^{23}$?  Use the cell below to answer the question!"
      ]
    },
    {
      "cell_type": "code",
      "metadata": {
        "id": "PGlksxncU5yN",
        "colab": {
          "base_uri": "https://localhost:8080/"
        },
        "outputId": "fffc4eee-6cb7-426b-808b-52db37a58393"
      },
      "source": [
        "#  Write your code here.\n",
        "2^23 < 3^32"
      ],
      "execution_count": 3,
      "outputs": [
        {
          "output_type": "execute_result",
          "data": {
            "text/plain": [
              "True"
            ]
          },
          "metadata": {
            "tags": []
          },
          "execution_count": 3
        }
      ]
    },
    {
      "cell_type": "markdown",
      "metadata": {
        "id": "KTiAVQ0qU5yN"
      },
      "source": [
        "The expressions `<`, `>`, `<=`, `>=` are interpreted here as **operations** with numerical input and boolean output.  The symbol `==` (two equal symbols!) gives a True result if the numbers are equal, and False if the numbers are not equal.  An extremely common typo is to confuse `=` with `==`.  But the single equality symbol `=` has an entirely different meaning, as we shall see."
      ]
    },
    {
      "cell_type": "markdown",
      "metadata": {
        "id": "3atYTyAnU5yN"
      },
      "source": [
        "Using the remainder operator `%` and equality, we obtain a divisibility test."
      ]
    },
    {
      "cell_type": "code",
      "metadata": {
        "id": "t1BCq6GFU5yN",
        "colab": {
          "base_uri": "https://localhost:8080/"
        },
        "outputId": "402e4995-9f4f-44cf-f454-d736cc3531cf"
      },
      "source": [
        "63 % 7 == 0  # Is 63 divisible by 7?"
      ],
      "execution_count": 4,
      "outputs": [
        {
          "output_type": "execute_result",
          "data": {
            "text/plain": [
              "True"
            ]
          },
          "metadata": {
            "tags": []
          },
          "execution_count": 4
        }
      ]
    },
    {
      "cell_type": "code",
      "metadata": {
        "id": "kYz8XfraU5yN",
        "colab": {
          "base_uri": "https://localhost:8080/"
        },
        "outputId": "4911854f-1f2e-4f49-bcf9-5af7a9e809c0"
      },
      "source": [
        "101 % 2 == 0  # Is 101 even?"
      ],
      "execution_count": 5,
      "outputs": [
        {
          "output_type": "execute_result",
          "data": {
            "text/plain": [
              "False"
            ]
          },
          "metadata": {
            "tags": []
          },
          "execution_count": 5
        }
      ]
    },
    {
      "cell_type": "markdown",
      "metadata": {
        "id": "0Iikx3JZU5yN"
      },
      "source": [
        "Use the cell below to determine whether 1234567890 is divisible by 3."
      ]
    },
    {
      "cell_type": "code",
      "metadata": {
        "id": "LPqBN_VlU5yN",
        "colab": {
          "base_uri": "https://localhost:8080/"
        },
        "outputId": "482777ae-f92f-40ca-9c94-f3cc0612e6fe"
      },
      "source": [
        "# Your code goes here.\n",
        "1234567890 % 3"
      ],
      "execution_count": 6,
      "outputs": [
        {
          "output_type": "execute_result",
          "data": {
            "text/plain": [
              "0"
            ]
          },
          "metadata": {
            "tags": []
          },
          "execution_count": 6
        }
      ]
    },
    {
      "cell_type": "markdown",
      "metadata": {
        "id": "Tvle2bwdU5yN"
      },
      "source": [
        "Booleans can be operated on by the standard logical operations: and, or, not.  In ordinary English usage, \"and\" and \"or\" are conjunctions, while here in *Boolean algebra*, \"and\" and \"or\" are operations with Boolean inputs and Boolean output.  The precise meanings of \"and\" and \"or\" are given by the following **truth tables**.\n",
        "\n",
        "    \n",
        "| and | True | False |\n",
        "|-----|------|-------|\n",
        "| **True** | True | False |\n",
        "| **False** | False | False|\n",
        "\n",
        "<br>\n",
        "  \n",
        "| or | True | False |\n",
        "|-----|------|-------|\n",
        "| **True** | True | True |\n",
        "| **False** | True | False|"
      ]
    },
    {
      "cell_type": "code",
      "metadata": {
        "id": "eRo1A6IzU5yN",
        "colab": {
          "base_uri": "https://localhost:8080/"
        },
        "outputId": "e1d29261-6018-4b56-f40c-d5b729c243a9"
      },
      "source": [
        "True and False"
      ],
      "execution_count": 7,
      "outputs": [
        {
          "output_type": "execute_result",
          "data": {
            "text/plain": [
              "False"
            ]
          },
          "metadata": {
            "tags": []
          },
          "execution_count": 7
        }
      ]
    },
    {
      "cell_type": "code",
      "metadata": {
        "id": "sFMWK-0HU5yN",
        "colab": {
          "base_uri": "https://localhost:8080/"
        },
        "outputId": "7255e999-c45f-48ec-ddc2-faa9d452c76a"
      },
      "source": [
        "True or False"
      ],
      "execution_count": 8,
      "outputs": [
        {
          "output_type": "execute_result",
          "data": {
            "text/plain": [
              "True"
            ]
          },
          "metadata": {
            "tags": []
          },
          "execution_count": 8
        }
      ]
    },
    {
      "cell_type": "code",
      "metadata": {
        "id": "5bREtxzOU5yN",
        "colab": {
          "base_uri": "https://localhost:8080/"
        },
        "outputId": "fc0c24ab-a5de-48ff-b8bf-ea159965ed9e"
      },
      "source": [
        "True or True"
      ],
      "execution_count": 9,
      "outputs": [
        {
          "output_type": "execute_result",
          "data": {
            "text/plain": [
              "True"
            ]
          },
          "metadata": {
            "tags": []
          },
          "execution_count": 9
        }
      ]
    },
    {
      "cell_type": "code",
      "metadata": {
        "id": "DP0Rw6jDU5yO",
        "colab": {
          "base_uri": "https://localhost:8080/"
        },
        "outputId": "5c818c28-ad17-4d29-8db7-b41ee6685076"
      },
      "source": [
        "not True"
      ],
      "execution_count": 10,
      "outputs": [
        {
          "output_type": "execute_result",
          "data": {
            "text/plain": [
              "False"
            ]
          },
          "metadata": {
            "tags": []
          },
          "execution_count": 10
        }
      ]
    },
    {
      "cell_type": "markdown",
      "metadata": {
        "id": "DRKe3Jv8U5yO"
      },
      "source": [
        "Use the truth tables to predict the result (True or False) of each of the following, before evaluating the code."
      ]
    },
    {
      "cell_type": "code",
      "metadata": {
        "id": "NVKb_6njU5yO",
        "colab": {
          "base_uri": "https://localhost:8080/"
        },
        "outputId": "25358cb0-361c-4a6a-bf52-34e6e87376f1"
      },
      "source": [
        "(2 > 3) and (3 > 2)"
      ],
      "execution_count": 11,
      "outputs": [
        {
          "output_type": "execute_result",
          "data": {
            "text/plain": [
              "False"
            ]
          },
          "metadata": {
            "tags": []
          },
          "execution_count": 11
        }
      ]
    },
    {
      "cell_type": "code",
      "metadata": {
        "id": "JrprEal6U5yO"
      },
      "source": [
        "(1 + 1 == 2) or (1 + 1 == 3)"
      ],
      "execution_count": null,
      "outputs": []
    },
    {
      "cell_type": "code",
      "metadata": {
        "scrolled": true,
        "id": "Ef-ryEGjU5yO"
      },
      "source": [
        "not (-1 + 1 >= 0)"
      ],
      "execution_count": null,
      "outputs": []
    },
    {
      "cell_type": "code",
      "metadata": {
        "id": "FUSY_QuLU5yO"
      },
      "source": [
        "2 + 2 == 4"
      ],
      "execution_count": null,
      "outputs": []
    },
    {
      "cell_type": "code",
      "metadata": {
        "id": "hKTk4LjaU5yO",
        "colab": {
          "base_uri": "https://localhost:8080/"
        },
        "outputId": "4959760b-70db-406b-e135-98286b1c8cd6"
      },
      "source": [
        "2 + 2 != 4  # For \"not equal\", Python uses the operation `!=`."
      ],
      "execution_count": 12,
      "outputs": [
        {
          "output_type": "execute_result",
          "data": {
            "text/plain": [
              "False"
            ]
          },
          "metadata": {
            "tags": []
          },
          "execution_count": 12
        }
      ]
    },
    {
      "cell_type": "code",
      "metadata": {
        "id": "UsJtoToLU5yO",
        "colab": {
          "base_uri": "https://localhost:8080/"
        },
        "outputId": "2a50cd64-7eb1-4450-eaa2-b201796b5e04"
      },
      "source": [
        "2 + 2 != 5  # Is 2+2 *not* equal to 5?"
      ],
      "execution_count": 14,
      "outputs": [
        {
          "output_type": "execute_result",
          "data": {
            "text/plain": [
              "True"
            ]
          },
          "metadata": {
            "tags": []
          },
          "execution_count": 14
        }
      ]
    },
    {
      "cell_type": "code",
      "metadata": {
        "id": "tVfKlWT_U5yO",
        "colab": {
          "base_uri": "https://localhost:8080/"
        },
        "outputId": "5377662b-bea0-4555-d15e-0827bd56b6ef"
      },
      "source": [
        "not (2 + 2 == 5)  # The same as above, but a bit longer to write."
      ],
      "execution_count": 13,
      "outputs": [
        {
          "output_type": "execute_result",
          "data": {
            "text/plain": [
              "True"
            ]
          },
          "metadata": {
            "tags": []
          },
          "execution_count": 13
        }
      ]
    },
    {
      "cell_type": "markdown",
      "metadata": {
        "id": "uwxFqT9uU5yO"
      },
      "source": [
        "Experiment below to see how Python handles a double or triple negative, i.e., something with a `not` `not`."
      ]
    },
    {
      "cell_type": "code",
      "metadata": {
        "id": "nD-RgY0CU5yP",
        "colab": {
          "base_uri": "https://localhost:8080/"
        },
        "outputId": "39b60004-92c2-40ab-bca1-69e4e3769354"
      },
      "source": [
        "# Experiment here.\n",
        "not(not(1 + 1 == 2))"
      ],
      "execution_count": 16,
      "outputs": [
        {
          "output_type": "execute_result",
          "data": {
            "text/plain": [
              "True"
            ]
          },
          "metadata": {
            "tags": []
          },
          "execution_count": 16
        }
      ]
    },
    {
      "cell_type": "markdown",
      "metadata": {
        "id": "5xxO21m1U5yP"
      },
      "source": [
        "Python does give an interpretation to arithmetic operations with booleans and numbers.  Try to guess this interpretation with the following examples.  Change the examples to experiment!"
      ]
    },
    {
      "cell_type": "code",
      "metadata": {
        "id": "Y2lLPpdWU5yP"
      },
      "source": [
        "False * 100"
      ],
      "execution_count": null,
      "outputs": []
    },
    {
      "cell_type": "code",
      "metadata": {
        "id": "5y3rtwrdU5yP"
      },
      "source": [
        "True + 13"
      ],
      "execution_count": null,
      "outputs": []
    },
    {
      "cell_type": "markdown",
      "metadata": {
        "id": "QOkU3A_fU5yP"
      },
      "source": [
        "This ability of Python to interpret operations based on context is a mixed blessing.  On one hand, it leads to handy shortcuts -- quick ways of writing complicated programs.  On the other hand, it can lead to code that is harder to read, especially for a Python novice.  Good programmers aim for code that is easy to read, not just short!\n",
        "\n",
        "The [Zen of Python](https://www.python.org/dev/peps/pep-0020/) is a series of 20 aphorisms for Python programmers.  The first seven are below.\n",
        "\n",
        "> Beautiful is better than ugly.\n",
        "\n",
        "> Explicit is better than implicit.\n",
        "\n",
        "> Simple is better than complex.\n",
        "\n",
        "> Complex is better than complicated.\n",
        "\n",
        "> Flat is better than nested.\n",
        "\n",
        "> Sparse is better than dense.\n",
        "\n",
        "> Readability counts."
      ]
    },
    {
      "cell_type": "markdown",
      "metadata": {
        "id": "_5mUQ1tCU5yP"
      },
      "source": [
        "### Exercises\n",
        "\n",
        "1.  Did you look at the truth tables closely?  Can you remember, from memory, what `True or False` equals, or what `True and False` equals?  \n",
        "\n",
        "2.  How might you easily remember the truth tables?  How do they resemble the standard English usage of the words \"and\" and \"or\"?\n",
        "\n",
        "3.  If you wanted to know whether a number, like 2349872348723, is a multiple of 7 but **not** a multiple of 11, how might you write this in one line of Python code?\n",
        "\n",
        "4.  You can chain together `and` commands, e.g., with an expression like `True and True and True` (which would evaluate to `True`).  You can also group booleans, e.g., with `True and (True or False)`.  Experiment to figure out the order of operations (`and`, `or`, `not`) for booleans.\n",
        "\n",
        "6.  The operation `xor` means \"exclusive or\".  Its truth table is: `True xor True = False` and `False xor False = False` and `True xor False = True` and `False xor True = True`.  How might you implement `xor` in terms of the usual `and`, `or`, and `not`?\n",
        "\n"
      ]
    },
    {
      "cell_type": "markdown",
      "metadata": {
        "id": "owWkn3ieU5yP"
      },
      "source": [
        "###  Solutions\n",
        "\n",
        "\n",
        "\n",
        "1.\n",
        "\n",
        "Yes.\n",
        "\n",
        "`True` or `False` = `True`\n",
        "\n",
        "`True` and `False` = `False`\n",
        "\n",
        "2.\n",
        "\n",
        "For \"or\", one of A, B is true then the result can be `true`. Only when of A, B are `False` can the result be `False`.\n",
        "\n",
        "For \"and\", only when both of A, B are true can make the result `True`. Otherwise the result if `False`.\n",
        "\n",
        "This definitely resemble the standard English use of the words \"and\" and \"or\".\n",
        "Between two statements, \"and\" means both of them, while \"or\" means exactly one of them."
      ]
    },
    {
      "cell_type": "markdown",
      "metadata": {
        "id": "ci1A9tqc-dPb"
      },
      "source": [
        "3.\n",
        "\n",
        "For question 3, the Python code is:"
      ]
    },
    {
      "cell_type": "code",
      "metadata": {
        "colab": {
          "base_uri": "https://localhost:8080/"
        },
        "id": "yDSfJ33w-oj-",
        "outputId": "3bb6721d-5ff6-416b-95b1-b8171c50968b"
      },
      "source": [
        "(2349872348723 % 7 == 0) and  (2349872348723 %11 == 0)\n"
      ],
      "execution_count": 24,
      "outputs": [
        {
          "output_type": "execute_result",
          "data": {
            "text/plain": [
              "False"
            ]
          },
          "metadata": {
            "tags": []
          },
          "execution_count": 24
        }
      ]
    },
    {
      "cell_type": "markdown",
      "metadata": {
        "id": "KAOvFNgoAVRC"
      },
      "source": [
        "4.\n",
        "\n",
        "The order of operations (and, or, not) is:\n",
        "\n",
        "\"not\" is the first one to run,\n",
        "\n",
        "\"and\" is the second,\n",
        "\n",
        "\"or\" is the third.\n",
        "\n",
        "And here is the code for question 4:"
      ]
    },
    {
      "cell_type": "code",
      "metadata": {
        "colab": {
          "base_uri": "https://localhost:8080/"
        },
        "id": "4dEl9wMxATkv",
        "outputId": "44f9453c-95ee-4953-fbfb-d319fae6ed15"
      },
      "source": [
        "False or True and False"
      ],
      "execution_count": 26,
      "outputs": [
        {
          "output_type": "execute_result",
          "data": {
            "text/plain": [
              "True"
            ]
          },
          "metadata": {
            "tags": []
          },
          "execution_count": 26
        }
      ]
    },
    {
      "cell_type": "code",
      "metadata": {
        "colab": {
          "base_uri": "https://localhost:8080/"
        },
        "id": "41ZcQVnQCnjn",
        "outputId": "f17fb214-be8a-4439-a04a-e6319c9ef222"
      },
      "source": [
        "(False or True) and False"
      ],
      "execution_count": 32,
      "outputs": [
        {
          "output_type": "execute_result",
          "data": {
            "text/plain": [
              "False"
            ]
          },
          "metadata": {
            "tags": []
          },
          "execution_count": 32
        }
      ]
    },
    {
      "cell_type": "markdown",
      "metadata": {
        "id": "DToBJhicD-fP"
      },
      "source": [
        "From the two codes above, we can see ( ) makes \"or\" to run at first, otherwise and will run firstly."
      ]
    },
    {
      "cell_type": "code",
      "metadata": {
        "colab": {
          "base_uri": "https://localhost:8080/"
        },
        "id": "kBQZbZHkDGcc",
        "outputId": "4ee7f740-ec76-4fa2-9213-1f8ab7f2ec71"
      },
      "source": [
        "not False and False"
      ],
      "execution_count": 31,
      "outputs": [
        {
          "output_type": "execute_result",
          "data": {
            "text/plain": [
              "False"
            ]
          },
          "metadata": {
            "tags": []
          },
          "execution_count": 31
        }
      ]
    },
    {
      "cell_type": "code",
      "metadata": {
        "colab": {
          "base_uri": "https://localhost:8080/"
        },
        "id": "_0q2LdFLDTGk",
        "outputId": "ee1d2e77-6b6a-4d95-8a8b-46918b9b90cb"
      },
      "source": [
        "not (False and False)"
      ],
      "execution_count": 30,
      "outputs": [
        {
          "output_type": "execute_result",
          "data": {
            "text/plain": [
              "True"
            ]
          },
          "metadata": {
            "tags": []
          },
          "execution_count": 30
        }
      ]
    },
    {
      "cell_type": "markdown",
      "metadata": {
        "id": "RwVQOWKnEWEc"
      },
      "source": [
        "From the two codes above, we can see () makes \"and\" run the first, otherwise \"not\" will run firstly."
      ]
    },
    {
      "cell_type": "markdown",
      "metadata": {
        "id": "iE0l5VF3El-g"
      },
      "source": [
        "Hence, \"not\" is the first one to run, \"and\" is the second, \"or\" is the third."
      ]
    },
    {
      "cell_type": "markdown",
      "metadata": {
        "id": "lqSh8df7FQc7"
      },
      "source": [
        "`xor` in terms of the usual `and`, `or`, and `not` is given by the following `xor`**truth tables**.\n",
        "\n",
        "| **xor** | **True** | **False** |\n",
        "\n",
        "| **True** | False | True |\n",
        "\n",
        "| **False** | True | False|\n",
        "\n",
        "Hence, p `xor` q is `True` when we have \n",
        "\n",
        "(p and not q)\n",
        "\n",
        "or\n",
        "\n",
        "(not p and q).\n",
        "\n",
        "Otherwise,\n",
        "\n",
        "p `xor` q is `False`, when we have\n",
        "\n",
        "(p and q)\n",
        "\n",
        "or\n",
        "\n",
        "(not p and not q)."
      ]
    },
    {
      "cell_type": "markdown",
      "metadata": {
        "id": "k69tL17JU5yP"
      },
      "source": [
        "# Declaring variables"
      ]
    },
    {
      "cell_type": "markdown",
      "metadata": {
        "id": "UjI-5d00U5yP"
      },
      "source": [
        "A central feature of programming is the declaration of variables.  When you declare a variable, you are *storing* data in the computer's *memory* and you are assigning a *name* to that data.  Both storage and name-assignment are carried out with the *single* equality symbol =."
      ]
    },
    {
      "cell_type": "code",
      "metadata": {
        "id": "hkwJHNVpU5yQ"
      },
      "source": [
        "e = 2.71828"
      ],
      "execution_count": null,
      "outputs": []
    },
    {
      "cell_type": "markdown",
      "metadata": {
        "id": "gY-LejB4U5yQ"
      },
      "source": [
        "With this command, the float 2.71828 is stored somewhere inside your computer, and Python can access this stored number by the name \"e\" thereafter.  So if you want to compute \"e squared\", a single command will do."
      ]
    },
    {
      "cell_type": "code",
      "metadata": {
        "id": "2ZJ7VtIwU5yQ"
      },
      "source": [
        "e * e"
      ],
      "execution_count": null,
      "outputs": []
    },
    {
      "cell_type": "code",
      "metadata": {
        "id": "G46Ma5fCU5yQ"
      },
      "source": [
        "type(e)"
      ],
      "execution_count": null,
      "outputs": []
    },
    {
      "cell_type": "markdown",
      "metadata": {
        "id": "cWVyUzZxU5yQ"
      },
      "source": [
        "You can use just about any name you want for a variable, but your name *must* start with a letter, *must* not contain spaces, and your name *must* not be an existing Python word.  Characters in a variable name can include letters (uppercase and lowercase) and numbers and underscores `_`.  \n",
        "\n",
        "So `e` is a valid name for a variable, but `type` is a bad name.  It is very tempting for beginners to use very short abbreviation-style names for variables (like `dx` or `vbn`).  But resist that temptation and use more descriptive names for variables, like `difference_x` or `very_big_number`.  This will make your code readable by you and others!\n",
        "\n",
        "There are different style conventions for variable names.  We use lowercase names, with underscores separating words,  roughly following [Google's style conventions](https://google.github.io/styleguide/pyguide.html#Python_Style_Rules) for Python code."
      ]
    },
    {
      "cell_type": "code",
      "metadata": {
        "id": "yQN7N7ZPU5yQ"
      },
      "source": [
        "my_number = 17"
      ],
      "execution_count": null,
      "outputs": []
    },
    {
      "cell_type": "code",
      "metadata": {
        "id": "FitPq8UNU5yQ"
      },
      "source": [
        "my_number < 23"
      ],
      "execution_count": null,
      "outputs": []
    },
    {
      "cell_type": "markdown",
      "metadata": {
        "id": "ne_mUsdnU5yQ"
      },
      "source": [
        "After you declare a variable, its value remains the same until it is changed.  You can change the value of a variable with a simple assignment.  After the above lines, the value of my_number is 17."
      ]
    },
    {
      "cell_type": "code",
      "metadata": {
        "id": "Eu-rHwt0U5yQ"
      },
      "source": [
        "my_number = 3.14"
      ],
      "execution_count": null,
      "outputs": []
    },
    {
      "cell_type": "markdown",
      "metadata": {
        "id": "cqgxOyyEU5yQ"
      },
      "source": [
        "This command reassigns the value of my_number to 3.14.  Note that it changes the type too!  It effectively overrides the previous value and replaces it with the new value.\n",
        "\n",
        "Often it is useful to change the value of a variable *incrementally* or *recursively*.  Python, like many programming languages, allows one to assign variables in a self-referential way.  What do you think the value of S will be after the following four lines?"
      ]
    },
    {
      "cell_type": "code",
      "metadata": {
        "id": "zW6_fRoxU5yR"
      },
      "source": [
        "S = 0\n",
        "S = S + 1\n",
        "S = S + 2\n",
        "S = S + 3\n",
        "print(S)"
      ],
      "execution_count": null,
      "outputs": []
    },
    {
      "cell_type": "markdown",
      "metadata": {
        "id": "cX1eo3jZU5yR"
      },
      "source": [
        "The first line `S = 0` is the initial declaration:  the value 0 is stored in memory, and the name S is assigned to this value.\n",
        "\n",
        "The next line `S = S + 1` looks like nonsense, as an algebraic sentence.  But reading = as **assignment** rather than **equality**, you should read the line `S = S + 1` as assigning the *value* `S + 1` to the *name* `S`.  When Python interprets `S = S + 1`, it carries out the following steps.\n",
        "\n",
        "1.  Compute the value of the right side, `S+1`.  (The value is 1, since `S` was assigned the value 0 in the previous line.)\n",
        "2.  Assign this value to the left side, `S`.  (Now `S` has the value 1.)\n",
        "\n",
        "Well, this is a slight lie.  Python probably does something more efficient, when given the command `S = S + 1`, since such operations are hard-wired in the computer and the Python interpreter is smart enough to take the most efficient route.  But at this level, it is most useful to think of a self-referential assignment of the form `X = expression(X)` as a two step process as above.\n",
        "\n",
        "1.  Compute the value of `expression(X)`.\n",
        "2.  Assign this value to `X`."
      ]
    },
    {
      "cell_type": "markdown",
      "metadata": {
        "id": "82NT9vo2U5yR"
      },
      "source": [
        "Now consider the following three commands."
      ]
    },
    {
      "cell_type": "code",
      "metadata": {
        "id": "CbT40NiuU5yR"
      },
      "source": [
        "my_number = 17\n",
        "new_number = my_number + 1\n",
        "my_number = 3.14"
      ],
      "execution_count": null,
      "outputs": []
    },
    {
      "cell_type": "markdown",
      "metadata": {
        "id": "yQz42J2dU5yR"
      },
      "source": [
        "What are the values of the variables my_number and new_number, after the execution of these three lines?\n",
        "\n",
        "To access these values, you can use the *print* function."
      ]
    },
    {
      "cell_type": "code",
      "metadata": {
        "id": "5J4rfa08U5yR"
      },
      "source": [
        "print(my_number)\n",
        "print(new_number)"
      ],
      "execution_count": null,
      "outputs": []
    },
    {
      "cell_type": "markdown",
      "metadata": {
        "id": "DbEoFnjnU5yR"
      },
      "source": [
        "Python is an *interpreted* language, which carries out commands line-by-line from top to bottom.  So consider the three lines\n",
        "\n",
        "``` python\n",
        "my_number = 17\n",
        "new_number = my_number + 1\n",
        "my_number = 3.14\n",
        "```\n",
        "\n",
        "Line 1 sets the value of my_number to 17.  Line 2 sets the value of new_number to 18.  Line 3 sets the value of my_number to 3.14.  But Line 3 does *not* change the value of new_number at all.\n",
        "\n",
        "(This will become confusing and complicated later, as we study mutable and immutable types.)"
      ]
    },
    {
      "cell_type": "markdown",
      "metadata": {
        "id": "PFA4Q7SiU5yR"
      },
      "source": [
        "### Exercises\n",
        "\n",
        "1.  What is the difference between `=` and `==` in the Python language?\n",
        "\n",
        "2.  If the variable `x` has value `3`, and you then evaluate the Python command `x = x * x`, what will be the value of `x` after evaluation?\n",
        "\n",
        "3.  Imagine you have two variables `a` and `b`, and you want to switch their values.  How could you do this in Python?\n",
        "\n",
        "4.  Kepler's third law states that for a planet in circular orbit around an object of mass $M$, one has $4 \\pi^2 r^3 = G M t^2$.  We can use this to estimate the mass of the sun, from other astronomically observable quantities.  Look up $G$ (the gravitational constant, estimated by experiment on Earth) and $r$ (the distance from the Earth to the sun, in meters).  Compute $t$, the number of seconds it takes for the Earth to go around the sun (365.25 days).  Finally use all of this to estimate $M$, the mass of the sun.  Your solution should use 5-10 lines of Python code."
      ]
    },
    {
      "cell_type": "markdown",
      "metadata": {
        "id": "sIeJz7hUU5yR"
      },
      "source": [
        "### Solutions\n",
        "\n",
        "(Use this space to work on the exercises.  Place more code and text cells above as needed.)\n",
        "\n",
        "1.\n",
        "“=” is used in equation. It helps operate assignments, which means the result of left-hand side equals to the right-hand side.\n",
        "\n",
        "Comparatively, “==” is usedused to check whether the result of two operands are equal. And we can get either `True` or `False`.\n"
      ]
    },
    {
      "cell_type": "markdown",
      "metadata": {
        "id": "XU4yhQ40e20s"
      },
      "source": [
        "2.\n",
        "\n",
        "For x = 3, \n",
        "x * x = 9"
      ]
    },
    {
      "cell_type": "code",
      "metadata": {
        "colab": {
          "base_uri": "https://localhost:8080/"
        },
        "id": "5di-qw4CfDl9",
        "outputId": "ebecddbd-a8a8-4577-bf52-c74a782347b0"
      },
      "source": [
        "def main():\n",
        "  x = int\n",
        "x = 3\n",
        "x = x * x\n",
        "print(x)"
      ],
      "execution_count": 87,
      "outputs": [
        {
          "output_type": "stream",
          "text": [
            "9\n"
          ],
          "name": "stdout"
        }
      ]
    },
    {
      "cell_type": "markdown",
      "metadata": {
        "id": "IAUSz5HzgAAN"
      },
      "source": [
        "3.\n",
        "\n",
        "For a and b, we want to switch their values."
      ]
    },
    {
      "cell_type": "code",
      "metadata": {
        "colab": {
          "base_uri": "https://localhost:8080/"
        },
        "id": "UQQD5ekvf5TP",
        "outputId": "c27f0798-196b-46c4-f2d7-a289763d7ba7"
      },
      "source": [
        "a= 10\n",
        "b= 32\n",
        "print(\"a= \", a)\n",
        "print(\"b= \", b)"
      ],
      "execution_count": 114,
      "outputs": [
        {
          "output_type": "stream",
          "text": [
            "a=  10\n",
            "b=  32\n"
          ],
          "name": "stdout"
        }
      ]
    },
    {
      "cell_type": "markdown",
      "metadata": {
        "id": "yDDV-qWLmUT3"
      },
      "source": [
        "4.\n",
        "First, we search for `G`, `r`, `t`, and import `pi`.\n",
        "\n",
        "`G` = the gravitional constant= 6.67 * 10^(-11) Newtons kg^（-2） m^2.\n",
        "\n",
        "`r` = the distance from the earth to the sun = 1495997870 km = 1.496 * 10 ^11 m\n",
        "\n",
        "`t`= 365 days/year * 24 hours/day * 60 mins/ hour * 60 seconds/ min = 31536000 s\n",
        "\n",
        "`pi`= 3.1415926...\n",
        "\n",
        "And according to the formula in the question, `M` = (4pi^2 r ^3)/ (G*t^2).\n",
        "\n",
        "Next, we put them in codes, and want to use the formula to find `M`.\n"
      ]
    },
    {
      "cell_type": "code",
      "metadata": {
        "colab": {
          "base_uri": "https://localhost:8080/"
        },
        "id": "MWwtswX7ubwP",
        "outputId": "59ba7cc2-3d5a-4e8b-a18a-3539250ae781"
      },
      "source": [
        "from math import pi\n",
        "G = 6.67 * (10**-11)\n",
        "r = 1.496 * (10**11)\n",
        "t = 31536000\n",
        "M = (4 * (pi**2)*(r**3)) / (G * (t**2))\n",
        "print(M)"
      ],
      "execution_count": 140,
      "outputs": [
        {
          "output_type": "stream",
          "text": [
            "1.9925786356302094e+30\n"
          ],
          "name": "stdout"
        }
      ]
    },
    {
      "cell_type": "markdown",
      "metadata": {
        "id": "b81C2aIPU5yS"
      },
      "source": [
        "# Lists and ranges"
      ]
    },
    {
      "cell_type": "markdown",
      "metadata": {
        "id": "iZoKvbn0U5yS"
      },
      "source": [
        "Python stands out for the central role played by *lists*.  A *list* is what it sounds like -- a list of data.  Data within a list can be of any type.  Multiple types are possible within the same list!  The basic syntax for a list is to use brackets to enclose the list items and commas to separate the list items."
      ]
    },
    {
      "cell_type": "code",
      "metadata": {
        "id": "MQRMJWrgU5yS"
      },
      "source": [
        "type([1,2,3])"
      ],
      "execution_count": null,
      "outputs": []
    },
    {
      "cell_type": "code",
      "metadata": {
        "id": "BkTCBWhsU5yS"
      },
      "source": [
        "type(['Hello',17])"
      ],
      "execution_count": null,
      "outputs": []
    },
    {
      "cell_type": "markdown",
      "metadata": {
        "id": "DH51tlMvU5yS"
      },
      "source": [
        "There is another type called a *tuple* that we will use less often.  Tuples use parentheses for enclosure instead of brackets."
      ]
    },
    {
      "cell_type": "code",
      "metadata": {
        "id": "8m1KBuRNU5yS"
      },
      "source": [
        "type((1,2,3))"
      ],
      "execution_count": null,
      "outputs": []
    },
    {
      "cell_type": "markdown",
      "metadata": {
        "id": "sFZr5TtpU5yS"
      },
      "source": [
        "There's another list-like type in Python 3, called the `range` type.  Ranges are kind of like lists, but instead of plunking every item into a slot of memory, ranges just have to remember three integers:  their *start*, their *stop*, and their *step*.    \n",
        "\n",
        "The `range` command creates a range with a given start, stop, and step.  If you only input one number, the range will ***start at zero*** and use ***steps of one*** and will stop ***just before*** the given stop-number.\n",
        "\n",
        "One can create a list from a range (plunking every term in the range into a slot of memory), by using the `list` command.  Here are a few examples."
      ]
    },
    {
      "cell_type": "code",
      "metadata": {
        "id": "0N_HejMiU5yS"
      },
      "source": [
        "type(range(10)) # Ranges are their own type, in Python 3.x.  Not in Python 2.x!"
      ],
      "execution_count": null,
      "outputs": []
    },
    {
      "cell_type": "code",
      "metadata": {
        "id": "XzlQhL4eU5yS"
      },
      "source": [
        "list(range(10)) # Let's see what's in the range.  Note it starts at zero!  Where does it stop?"
      ],
      "execution_count": null,
      "outputs": []
    },
    {
      "cell_type": "markdown",
      "metadata": {
        "id": "7-TeavRKU5yS"
      },
      "source": [
        "A more complicated two-input form of the range command produces a range of integers **starting at** a given number, and **terminating before** another given number."
      ]
    },
    {
      "cell_type": "code",
      "metadata": {
        "id": "fpHHkb82U5yT"
      },
      "source": [
        "list(range(3,10))"
      ],
      "execution_count": null,
      "outputs": []
    },
    {
      "cell_type": "code",
      "metadata": {
        "id": "O5A8XZFxU5yT"
      },
      "source": [
        "list(range(-4,5))"
      ],
      "execution_count": null,
      "outputs": []
    },
    {
      "cell_type": "markdown",
      "metadata": {
        "id": "dRzyphm5U5yT"
      },
      "source": [
        "This is a common source of difficulty for Python beginners.  While the first parameter (-4) is the starting point of the list, the list ends just before the second parameter (5).  This takes some getting used to, but experienced Python programmers grow to like this convention."
      ]
    },
    {
      "cell_type": "markdown",
      "metadata": {
        "id": "XderpNFAU5yT"
      },
      "source": [
        "The *length* of a list can be accessed by the len command."
      ]
    },
    {
      "cell_type": "code",
      "metadata": {
        "id": "-xjzFOxWU5yT"
      },
      "source": [
        "len([2,4,6])"
      ],
      "execution_count": null,
      "outputs": []
    },
    {
      "cell_type": "code",
      "metadata": {
        "id": "1IG2dOJeU5yT"
      },
      "source": [
        "len(range(10))  # The len command can deal with lists and ranges.  No need to convert."
      ],
      "execution_count": null,
      "outputs": []
    },
    {
      "cell_type": "code",
      "metadata": {
        "id": "N9lCN8-bU5yT"
      },
      "source": [
        "len(range(10,100)) # Can you figure out the length, before evaluating?"
      ],
      "execution_count": null,
      "outputs": []
    },
    {
      "cell_type": "markdown",
      "metadata": {
        "id": "zW4aiYaAU5yT"
      },
      "source": [
        "The final variant of the range command (for now) is the *three-parameter* command of the form `range(a,b,s)`.  This produces a list like `range(a,b)`, but with a \"step size\" of `s`.  In other words, it produces a list of integers, beginning at `a`, increasing by `s` from one entry to the next, and going up to (but not including) `b`.  It is best to experiment a bit to get the feel for it!"
      ]
    },
    {
      "cell_type": "code",
      "metadata": {
        "id": "RjmZQRmtU5yT"
      },
      "source": [
        "list(range(1,10,2))"
      ],
      "execution_count": null,
      "outputs": []
    },
    {
      "cell_type": "code",
      "metadata": {
        "id": "UX91kNpoU5yT"
      },
      "source": [
        "list(range(11,30,2))"
      ],
      "execution_count": null,
      "outputs": []
    },
    {
      "cell_type": "code",
      "metadata": {
        "id": "cU6TYerPU5yU"
      },
      "source": [
        "list(range(-4,5,3))"
      ],
      "execution_count": null,
      "outputs": []
    },
    {
      "cell_type": "code",
      "metadata": {
        "id": "_RueWhdHU5yU"
      },
      "source": [
        "list(range(10,100,17))"
      ],
      "execution_count": null,
      "outputs": []
    },
    {
      "cell_type": "markdown",
      "metadata": {
        "id": "I3otAH2AU5yU"
      },
      "source": [
        "This can be used for descending ranges too, and observe that the final number b in range(a,b,s) is not included."
      ]
    },
    {
      "cell_type": "code",
      "metadata": {
        "id": "LVm1djsTU5yU"
      },
      "source": [
        "list(range(10,0,-1))"
      ],
      "execution_count": null,
      "outputs": []
    },
    {
      "cell_type": "markdown",
      "metadata": {
        "id": "Jp1V-X59U5yU"
      },
      "source": [
        "How many multiples of 7 are between 10 and 100?  We can find out pretty quickly with the range command and the len command (to count)."
      ]
    },
    {
      "cell_type": "code",
      "metadata": {
        "id": "roA4gLoXU5yU"
      },
      "source": [
        "list(range(10,100,7))  # What list will this create?  It won't answer the question..."
      ],
      "execution_count": null,
      "outputs": []
    },
    {
      "cell_type": "code",
      "metadata": {
        "id": "jybN-evPU5yU"
      },
      "source": [
        "list(range(14,100,7))  # Starting at 14 gives the multiples of 7."
      ],
      "execution_count": null,
      "outputs": []
    },
    {
      "cell_type": "code",
      "metadata": {
        "id": "BdvLmGljU5yU"
      },
      "source": [
        "len(range(14,100,7))  # Gives the length of the list, and answers the question!"
      ],
      "execution_count": null,
      "outputs": []
    },
    {
      "cell_type": "markdown",
      "metadata": {
        "id": "dMbcJV5UU5yU"
      },
      "source": [
        "### Exercises\n",
        "\n",
        "1.  If `a` and `b` are integers, what is the length of `range(a,b)`?  Express your answer as a formula involving `a` and `b`.\n",
        "\n",
        "2.  Use a list and range command to produce the list `[1,2,3,4,5,6,7,8,9,10]`.\n",
        "\n",
        "3.  Create the list `[1,2,3,4,5,1,2,3,4,5,1,2,3,4,5,1,2,3,4,5,1,2,3,4,5]` with a single list and range command and another operation.\n",
        "\n",
        "4.  How many multiples of 3 are there between 300 and 3000 (including 300 and 3000)?"
      ]
    },
    {
      "cell_type": "markdown",
      "metadata": {
        "id": "33XSW0EWxjXx"
      },
      "source": [
        "### Solutions:\n",
        "1.\n",
        "We use the formula of len(range(a,b)) = b **加粗文字**- a"
      ]
    },
    {
      "cell_type": "code",
      "metadata": {
        "colab": {
          "base_uri": "https://localhost:8080/"
        },
        "id": "BkJIZYhSxh7T",
        "outputId": "10ff0e13-ca35-41d8-84d5-7fe136628b17"
      },
      "source": [
        "a=10\n",
        "b=32\n",
        "len(range(a,b)) "
      ],
      "execution_count": 136,
      "outputs": [
        {
          "output_type": "execute_result",
          "data": {
            "text/plain": [
              "22"
            ]
          },
          "metadata": {
            "tags": []
          },
          "execution_count": 136
        }
      ]
    },
    {
      "cell_type": "markdown",
      "metadata": {
        "id": "kRW-RrYXyI1q"
      },
      "source": [
        "2.\n",
        "We use the formula of list(range(a,b)) to find the list in a range."
      ]
    },
    {
      "cell_type": "code",
      "metadata": {
        "colab": {
          "base_uri": "https://localhost:8080/"
        },
        "id": "6S_jDwPFyDIz",
        "outputId": "ba8c2b26-02c6-427b-90fb-a60509ba01db"
      },
      "source": [
        "list(range(1,11))"
      ],
      "execution_count": 137,
      "outputs": [
        {
          "output_type": "execute_result",
          "data": {
            "text/plain": [
              "[1, 2, 3, 4, 5, 6, 7, 8, 9, 10]"
            ]
          },
          "metadata": {
            "tags": []
          },
          "execution_count": 137
        }
      ]
    },
    {
      "cell_type": "markdown",
      "metadata": {
        "id": "kxeV2GrpzDT6"
      },
      "source": [
        "3.\n",
        "We use the print formula to create the list."
      ]
    },
    {
      "cell_type": "code",
      "metadata": {
        "colab": {
          "base_uri": "https://localhost:8080/"
        },
        "id": "Jn7nP8d4zCtM",
        "outputId": "c7d6c3ce-c0e5-4653-cfbe-ad3fa6165646"
      },
      "source": [
        "print(5 * list(range(1,6)))"
      ],
      "execution_count": 138,
      "outputs": [
        {
          "output_type": "stream",
          "text": [
            "[1, 2, 3, 4, 5, 1, 2, 3, 4, 5, 1, 2, 3, 4, 5, 1, 2, 3, 4, 5, 1, 2, 3, 4, 5]\n"
          ],
          "name": "stdout"
        }
      ]
    },
    {
      "cell_type": "markdown",
      "metadata": {
        "id": "SC6u4H_Q26d_"
      },
      "source": [
        "4.\n",
        "We use formula of list and len to find there are 901 multiples of 3."
      ]
    },
    {
      "cell_type": "code",
      "metadata": {
        "colab": {
          "base_uri": "https://localhost:8080/"
        },
        "id": "NJfK7R6wDvQ5",
        "outputId": "84ddea42-4f84-40a8-84e0-728f9167ac76"
      },
      "source": [
        "list(range(300,3001,3))\n",
        "len(range(300,3001,3))"
      ],
      "execution_count": 139,
      "outputs": [
        {
          "output_type": "execute_result",
          "data": {
            "text/plain": [
              "901"
            ]
          },
          "metadata": {
            "tags": []
          },
          "execution_count": 139
        }
      ]
    },
    {
      "cell_type": "markdown",
      "metadata": {
        "id": "ccSW2BGyU5yV"
      },
      "source": [
        "# Iterating over a range"
      ]
    },
    {
      "cell_type": "markdown",
      "metadata": {
        "id": "qoOhvB1rU5yV"
      },
      "source": [
        "Computers are excellent at repetitive reliable tasks.  If we wish to perform a similar computation, many times over, a computer a great tool.  Here we look at a common and simple way to carry out a repetetive computation:  the \"for loop\".  The \"for loop\" *iterates* through items in a list or range, carrying out some action for each item.  Two examples will illustrate."
      ]
    },
    {
      "cell_type": "code",
      "metadata": {
        "id": "mwdKBi3kU5yV"
      },
      "source": [
        "for n in [1,2,3,4,5]:\n",
        "    print(n*n)"
      ],
      "execution_count": null,
      "outputs": []
    },
    {
      "cell_type": "code",
      "metadata": {
        "id": "HC031A4LU5yV"
      },
      "source": [
        "for s in ['I','Am','Python']:\n",
        "    print(s + \"!\")"
      ],
      "execution_count": null,
      "outputs": []
    },
    {
      "cell_type": "markdown",
      "metadata": {
        "id": "yuctH9OZU5yV"
      },
      "source": [
        "The first loop, **unraveled**, carries out the following sequence of commands."
      ]
    },
    {
      "cell_type": "code",
      "metadata": {
        "id": "UY4izCfvU5yV"
      },
      "source": [
        "n = 1\n",
        "print(n*n)\n",
        "n = 2\n",
        "print(n*n)\n",
        "n = 3\n",
        "print(n*n)\n",
        "n = 4\n",
        "print(n*n)\n",
        "n = 5\n",
        "print(n*n)"
      ],
      "execution_count": null,
      "outputs": []
    },
    {
      "cell_type": "markdown",
      "metadata": {
        "id": "IgnUBVI0U5yV"
      },
      "source": [
        "But the \"for loop\" is more efficient *and* more readable to programmers.  Indeed, it saves the repetition of writing the same command `print(n*n)` over and over again.  It also makes transparent, from the beginning, the range of values that `n` is assigned to.  \n",
        "\n",
        "When you read and write \"for loops\", you should consider how they look unravelled -- that is how Python will carry out the loop.  And when you find yourself faced with a repetetive task, you might consider whether it may be wrapped up in a for loop.  Most of the time, you should try to write code that *never repeats* the same task.  If there is repetition, wrap it in a loop."
      ]
    },
    {
      "cell_type": "markdown",
      "metadata": {
        "id": "M16fubaDU5yV"
      },
      "source": [
        "Try to unravel the loop below, and predict the result, before evaluating the code."
      ]
    },
    {
      "cell_type": "code",
      "metadata": {
        "id": "vOyvFfJcU5yW"
      },
      "source": [
        "P = 1\n",
        "for n in range(1,6):\n",
        "    P = P * n\n",
        "print(P)"
      ],
      "execution_count": null,
      "outputs": []
    },
    {
      "cell_type": "markdown",
      "metadata": {
        "id": "I79mIz44U5yW"
      },
      "source": [
        "This might have been difficult!  So what if you want to trace through the loop, as it goes?  Sometimes, especially when debugging, it's useful to inspect every step of the loop to see what Python is doing.  We can inspect the loop above, by inserting a print command within the *scope* of the loop."
      ]
    },
    {
      "cell_type": "code",
      "metadata": {
        "id": "C6bVCkZdU5yW"
      },
      "source": [
        "P = 1\n",
        "for n in range(1,6):\n",
        "    P = P * n\n",
        "    print(\"n is\",n,\"and P is\",P)\n",
        "print(P)"
      ],
      "execution_count": null,
      "outputs": []
    },
    {
      "cell_type": "markdown",
      "metadata": {
        "id": "y8kjJUJAU5yW"
      },
      "source": [
        "Here we have used the *print* command with strings and numbers together.  In Python 3.x, you can print multiple things on the same line by separating them by commas.  The \"things\" can be strings (enclosed by single or double-quotes) and numbers (int, float, etc.)."
      ]
    },
    {
      "cell_type": "code",
      "metadata": {
        "id": "wUu0BH2lU5yW"
      },
      "source": [
        "print(\"My favorite number is\",17)"
      ],
      "execution_count": null,
      "outputs": []
    },
    {
      "cell_type": "markdown",
      "metadata": {
        "id": "TPCXSm1LU5yW"
      },
      "source": [
        "If we unravel the loop above, the linear sequence of commands interpreted by Python is the following."
      ]
    },
    {
      "cell_type": "code",
      "metadata": {
        "id": "KzUl3ac7U5yW"
      },
      "source": [
        "P = 1\n",
        "n = 1\n",
        "P = P * n\n",
        "print(\"n is\",n,\"and P is\",P)\n",
        "n = 2\n",
        "P = P * n\n",
        "print(\"n is\",n,\"and P is\",P)\n",
        "n = 3\n",
        "P = P * n\n",
        "print(\"n is\",n,\"and P is\",P)\n",
        "n = 4\n",
        "P = P * n\n",
        "print(\"n is\",n,\"and P is\",P)\n",
        "n = 5\n",
        "P = P * n\n",
        "print(\"n is\",n,\"and P is\",P)\n",
        "print (P)"
      ],
      "execution_count": null,
      "outputs": []
    },
    {
      "cell_type": "markdown",
      "metadata": {
        "id": "44_u1MSrU5yW"
      },
      "source": [
        "Let's analyze the loop syntax in more detail.  \n",
        "```python\n",
        "P = 1\n",
        "for n in range(1,6):\n",
        "    P = P * n  # this command is in the scope of the loop.\n",
        "    print(\"n is\",n,\"and P is\",P)  # this command is in the scope of the loop too!\n",
        "print(P)\n",
        "```\n",
        "The \"for\" command ends with a colon `:`, and the **next two** lines are indented.  The colon and indentation are indicators of **scope**.  The *scope* of the for loop begins after the colon, and includes all indented lines.  The *scope* of the for loop is what is repeated in every step of the loop (in addition to the reassignment of `n`).  "
      ]
    },
    {
      "cell_type": "code",
      "metadata": {
        "id": "jE003_YTU5yW"
      },
      "source": [
        "P = 1\n",
        "for n in range(1,6):\n",
        "    P = P * n  # this command is in the scope of the loop.\n",
        "    print(\"n is\",n,\"and P is\",P)  # this command is in the scope of the loop too!\n",
        "print(P)"
      ],
      "execution_count": null,
      "outputs": []
    },
    {
      "cell_type": "markdown",
      "metadata": {
        "id": "8wXaf4hxU5yW"
      },
      "source": [
        "If we change the indentation, it changes the scope of the for loop.  Predict what the following loop will do, by unraveling, before evaluating it."
      ]
    },
    {
      "cell_type": "code",
      "metadata": {
        "id": "F_FcpC5QU5yX"
      },
      "source": [
        "P = 1\n",
        "for n in range(1,6):\n",
        "    P = P * n\n",
        "print(\"n is\",n,\"and P is\",P)\n",
        "print(P)"
      ],
      "execution_count": null,
      "outputs": []
    },
    {
      "cell_type": "markdown",
      "metadata": {
        "id": "__tEmpKPU5yX"
      },
      "source": [
        "Scopes can be nested by nesting indentation.  What do you think the following loop will do?  Can you unravel it?"
      ]
    },
    {
      "cell_type": "code",
      "metadata": {
        "id": "9fboPJdAU5yX"
      },
      "source": [
        "for x in [1,2,3]:\n",
        "    for y in ['a', 'b']:\n",
        "        print(x,y)"
      ],
      "execution_count": null,
      "outputs": []
    },
    {
      "cell_type": "markdown",
      "metadata": {
        "id": "HmXwPykdU5yX"
      },
      "source": [
        "How might you create a nested loop which prints `1 a` then `2 a` then `3 a` then `1 b` then `2 b` then `3 b`?  Try it below."
      ]
    },
    {
      "cell_type": "code",
      "metadata": {
        "id": "b97leVdkU5yX",
        "colab": {
          "base_uri": "https://localhost:8080/"
        },
        "outputId": "61982a80-290b-49cc-9ef0-736a51a8eea3"
      },
      "source": [
        "for c in ['s', 'k']:\n",
        "  for l in [1,2,5]:\n",
        "    print(c,l)"
      ],
      "execution_count": 141,
      "outputs": [
        {
          "output_type": "stream",
          "text": [
            "s 1\n",
            "s 2\n",
            "s 5\n",
            "k 1\n",
            "k 2\n",
            "k 5\n"
          ],
          "name": "stdout"
        }
      ]
    },
    {
      "cell_type": "markdown",
      "metadata": {
        "id": "ofCBY24EU5yX"
      },
      "source": [
        "Among popular programming languages, Python is particular about indentation.  Other languages indicate scope with open/close braces, for example, and indentation is just a matter of style.  By requiring indentation to indicate scope, Python effectively removes the need for open/close braces, and enforces a readable style.\n",
        "\n",
        "We have now encountered data types, operations, variables, and loops.  Taken together, these are powerful tools for computation!  Now complete the following exercises for more practice."
      ]
    },
    {
      "cell_type": "markdown",
      "metadata": {
        "id": "JBr_HgrSU5yX"
      },
      "source": [
        "## Exercises"
      ]
    },
    {
      "cell_type": "markdown",
      "metadata": {
        "id": "FEQTm_WZU5yX"
      },
      "source": [
        "1.  Describe how Python interprets division with remainder when the divisor and/or dividend is negative.\n",
        "2.  What is the remainder when $2^{90}$ is divided by $91$?\n",
        "3.  How many multiples of 13 are there between 1 and 1000?\n",
        "4.  How many *odd* multiples of 13 are there between 1 and 1000?\n",
        "5.  What is the sum of the numbers from 1 to 1000?\n",
        "6.  What is the sum of the squares, from $1 \\cdot 1$ to $1000 \\cdot 1000$?\n",
        "7.  Euler proved that\n",
        "$$\\frac{1}{1^4} + \\frac{1}{2^4} + \\frac{1}{3^4} + \\cdots = \\frac{\\pi^4}{C},$$\n",
        "for some positive integer $C$.  Use Python to guess what $C$ is."
      ]
    },
    {
      "cell_type": "markdown",
      "metadata": {
        "id": "33TWsCAZSoW3"
      },
      "source": [
        "### Solutions\n",
        "\n",
        "1.\n",
        "\n",
        "For division with remainder when the divisor and/or dividend is negative, Python will use the equation of `x`= `q`*`y` + `r`. We want to get the remainder `r`.\n",
        "\n",
        "Then by the condition of the question, \n",
        "for positive `y`, `r` is in the range from 0 to (`y`+ 1);\n",
        "while for negative `y`, `r` is in the range from (`y` - 1) to 0.\n",
        "\n",
        "Also, it is clear that reminder  `r` has the same positive/negative sign as the divisor `y`.\n",
        "\n",
        "For example, \n",
        "\n",
        "the output of 32 % -10 is 2, where `y` = -10.\n",
        "32 = (-4) * (-10) + (-8).\n",
        "We can see that `r` = -8, `q` = -4.\n",
        "\n",
        " the output of -32 % -10 is -2, where `y` = -10.\n",
        "32 = (-3) * (-10) + (-2).\n",
        "We can see that `r` = -2, `q` = -3.\n",
        "\n",
        " the output of -32 % 10 is 8, where `y` = 10.\n",
        "32 = (-4) * (10) + (8).\n",
        "We can see that `r` = 8, `q` = -4."
      ]
    },
    {
      "cell_type": "code",
      "metadata": {
        "colab": {
          "base_uri": "https://localhost:8080/"
        },
        "id": "EQIr4woKZJkN",
        "outputId": "3c4ae5ab-1dae-4014-f007-74b447010e13"
      },
      "source": [
        "-32 % -10"
      ],
      "execution_count": 144,
      "outputs": [
        {
          "output_type": "execute_result",
          "data": {
            "text/plain": [
              "-2"
            ]
          },
          "metadata": {
            "tags": []
          },
          "execution_count": 144
        }
      ]
    },
    {
      "cell_type": "code",
      "metadata": {
        "colab": {
          "base_uri": "https://localhost:8080/"
        },
        "id": "0HmMz7uhSXhb",
        "outputId": "e2d11209-af6f-4373-e05e-49f51b6cbc52"
      },
      "source": [
        "32 % -10\n"
      ],
      "execution_count": 143,
      "outputs": [
        {
          "output_type": "execute_result",
          "data": {
            "text/plain": [
              "-8"
            ]
          },
          "metadata": {
            "tags": []
          },
          "execution_count": 143
        }
      ]
    },
    {
      "cell_type": "code",
      "metadata": {
        "id": "F870MLhKU5yX",
        "colab": {
          "base_uri": "https://localhost:8080/"
        },
        "outputId": "58d87720-f778-447a-c4d2-e246fd1f7cc5"
      },
      "source": [
        "-32 % 10"
      ],
      "execution_count": 145,
      "outputs": [
        {
          "output_type": "execute_result",
          "data": {
            "text/plain": [
              "8"
            ]
          },
          "metadata": {
            "tags": []
          },
          "execution_count": 145
        }
      ]
    },
    {
      "cell_type": "markdown",
      "metadata": {
        "id": "jBLiA24lcKBN"
      },
      "source": [
        "2.\n",
        "\n",
        "The reminder when $2^{90}$ is divided by $91$ is 64."
      ]
    },
    {
      "cell_type": "code",
      "metadata": {
        "colab": {
          "base_uri": "https://localhost:8080/"
        },
        "id": "rKz1unTvcJE_",
        "outputId": "f3583bf3-7530-42f8-d810-a08c721b9828"
      },
      "source": [
        "2**90% 91 "
      ],
      "execution_count": 146,
      "outputs": [
        {
          "output_type": "execute_result",
          "data": {
            "text/plain": [
              "64"
            ]
          },
          "metadata": {
            "tags": []
          },
          "execution_count": 146
        }
      ]
    },
    {
      "cell_type": "markdown",
      "metadata": {
        "id": "8YeTulPUco-c"
      },
      "source": [
        "3.\n",
        "\n",
        "There are 76 multiples of 13 that between 1 and 1000."
      ]
    },
    {
      "cell_type": "code",
      "metadata": {
        "colab": {
          "base_uri": "https://localhost:8080/"
        },
        "id": "rOVPJzsacw6d",
        "outputId": "028e573b-fe8d-422b-f5d2-2c244e9fba08"
      },
      "source": [
        "len(range(13,1001,13))"
      ],
      "execution_count": 147,
      "outputs": [
        {
          "output_type": "execute_result",
          "data": {
            "text/plain": [
              "76"
            ]
          },
          "metadata": {
            "tags": []
          },
          "execution_count": 147
        }
      ]
    },
    {
      "cell_type": "markdown",
      "metadata": {
        "id": "eTwyhXW4BITG"
      },
      "source": [
        "4.\n",
        "\n",
        "There are 38 muptiples of 13 that between 1 and 1000."
      ]
    },
    {
      "cell_type": "code",
      "metadata": {
        "colab": {
          "base_uri": "https://localhost:8080/"
        },
        "id": "hlvl7GnIe54X",
        "outputId": "475d0afc-2ed2-419b-fd0c-578a3529d565"
      },
      "source": [
        "list1 = (range(13,1001,13))\n",
        "n = [num for num in list1 if num %2 == 1] \n",
        "x = len(n) # x means odd multiples of 13 between 1 and 1000\n",
        "print(x)\n"
      ],
      "execution_count": 177,
      "outputs": [
        {
          "output_type": "stream",
          "text": [
            "38\n"
          ],
          "name": "stdout"
        }
      ]
    },
    {
      "cell_type": "markdown",
      "metadata": {
        "id": "QBsCWAAvCH3J"
      },
      "source": [
        "5.\n",
        "\n",
        "The sum of the numbers from 1 to 1000 is 500500."
      ]
    },
    {
      "cell_type": "code",
      "metadata": {
        "colab": {
          "base_uri": "https://localhost:8080/"
        },
        "id": "dHX2k5MlCwWc",
        "outputId": "0cff7c9b-d376-447f-c5f8-aeaed936812d"
      },
      "source": [
        "print(sum(range(1,1001)))"
      ],
      "execution_count": 233,
      "outputs": [
        {
          "output_type": "stream",
          "text": [
            "500500\n"
          ],
          "name": "stdout"
        }
      ]
    },
    {
      "cell_type": "markdown",
      "metadata": {
        "id": "Yk7apZt1DD6e"
      },
      "source": [
        "6.\n",
        "\n",
        "The sum of the squares, from 1 times 1 to 1000 times 1000 is 333833500.0"
      ]
    },
    {
      "cell_type": "code",
      "metadata": {
        "colab": {
          "base_uri": "https://localhost:8080/"
        },
        "id": "O0VuytUdDDEc",
        "outputId": "b20cf618-1204-4407-84ec-217e54df0dc3"
      },
      "source": [
        "n = 1000\n",
        "sum_of_squares = 1/6 * (n * (n+1) * (2 * n + 1))\n",
        "print (sum_of_squares)"
      ],
      "execution_count": 236,
      "outputs": [
        {
          "output_type": "stream",
          "text": [
            "333833500.0\n"
          ],
          "name": "stdout"
        }
      ]
    },
    {
      "cell_type": "markdown",
      "metadata": {
        "id": "Zh7k4gEEED5m"
      },
      "source": [
        "7.\n",
        "\n",
        "C is 90.00002813670486."
      ]
    },
    {
      "cell_type": "code",
      "metadata": {
        "colab": {
          "base_uri": "https://localhost:8080/"
        },
        "id": "UZ_pFtgDD_Kx",
        "outputId": "700692f2-222b-4ab5-98d9-ba315f707448"
      },
      "source": [
        "sum_of_the_left = 0\n",
        "for n in range(1,100):\n",
        "  sum_of_the_left = sum_of_the_left + (1/(n**4))\n",
        "print(sum_of_the_left)\n",
        "C = (pi**4)/(sum_of_the_left)\n",
        "print(C)"
      ],
      "execution_count": 238,
      "outputs": [
        {
          "output_type": "stream",
          "text": [
            "1.0823228953444728\n",
            "90.00002813670486\n"
          ],
          "name": "stdout"
        }
      ]
    },
    {
      "cell_type": "markdown",
      "metadata": {
        "id": "nS9xYcpCU5yY"
      },
      "source": [
        "# Explorations\n",
        "\n",
        "Now that you have learned the basics of computation in Python and loops, we can start exploring some interesting mathematics!  We are going to look at approximation here -- some ancient questions made easier with programming."
      ]
    },
    {
      "cell_type": "markdown",
      "metadata": {
        "id": "IfPCPAu5U5yY"
      },
      "source": [
        "## Exploration 1:  Approximating square roots.\n",
        "\n",
        "We have seen how Python can do basic arithmetic -- addition, subtraction, multiplication, and division.  But what about other functions, like the square root?  In fact, Python offers a few functions for the square root, but that's not the point.  How can we compute the square root using only basic arithmetic?  \n",
        "\n",
        "Why might we care?\n",
        "\n",
        "1.  We might want to know the square root of a number with more precision than the Python function offers.\n",
        "2.  We might want to understand how the square root is computed... under the hood.\n",
        "3.  Understanding approximations of square roots and other functions is important, because we might want to approximate other functions in the future (that aren't pre-programmed for us).\n",
        "\n",
        "Here is a method for approximating the square root of a number $X$.\n",
        "\n",
        "1.  Begin with a guess $g$.\n",
        "2.  Observe that $g \\cdot (X / g) = X$.  Therefore, among the two numbers $g$ and $(X/g)$, one will be less than or equal to the square root of X, and the other will be greater than or equal to the square root.\n",
        "3.  Take the average of $g$ and $(X/g)$.  This will be closer to the square root than $g$ or $X/g$ (unless your guess is exactly right!) \n",
        "4.  Use this average as a new guess... and go back to the beginning.\n",
        "\n",
        "Now implement this in Python to approximate the square root of 2.  Use a loop, so that you can go through the approximation process 10 times or 100 times or however many you wish.  Explore the effect of different starting guesses.  Would a change in the averaging function improve the approximation?  How quickly does this converge?  How does this change if you try square roots of different positive numbers?\n",
        "\n",
        "Write your code (Python) and findings (in Markdown cells) in a readable form.  Answer the questions in complete sentences.\n",
        "\n"
      ]
    },
    {
      "cell_type": "code",
      "metadata": {
        "id": "PoGqUlqoU5yY",
        "colab": {
          "base_uri": "https://localhost:8080/"
        },
        "outputId": "26724319-3a29-4dd7-a589-4439e449416b"
      },
      "source": [
        "# guess \n",
        "g=1\n",
        "#number to find the square root of\n",
        "x=2\n",
        "for i in range (10):\n",
        "  g=(g+(x/g))/2\n",
        "  print(\"The square root of\",x,\"is\",g)\n",
        "\n"
      ],
      "execution_count": 5,
      "outputs": [
        {
          "output_type": "stream",
          "text": [
            "The square root of 2 is 1.5\n",
            "The square root of 2 is 1.4166666666666665\n",
            "The square root of 2 is 1.4142156862745097\n",
            "The square root of 2 is 1.4142135623746899\n",
            "The square root of 2 is 1.414213562373095\n",
            "The square root of 2 is 1.414213562373095\n",
            "The square root of 2 is 1.414213562373095\n",
            "The square root of 2 is 1.414213562373095\n",
            "The square root of 2 is 1.414213562373095\n",
            "The square root of 2 is 1.414213562373095\n"
          ],
          "name": "stdout"
        }
      ]
    },
    {
      "cell_type": "code",
      "metadata": {
        "colab": {
          "base_uri": "https://localhost:8080/"
        },
        "id": "2ZfWb3mMHg-M",
        "outputId": "d542cbe2-f7c3-4caa-f720-874f8f764fe3"
      },
      "source": [
        "# guess \n",
        "g=3\n",
        "#number to find the square root of\n",
        "x=32\n",
        "for i in range (100):\n",
        "  g=(g+(x/g))/2\n",
        "  print(\"The square root of\",x,\"is\",g)"
      ],
      "execution_count": 244,
      "outputs": [
        {
          "output_type": "stream",
          "text": [
            "The square root of 32 is 6.833333333333333\n",
            "The square root of 32 is 5.758130081300813\n",
            "The square root of 32 is 5.657744885338017\n",
            "The square root of 32 is 5.656854319593828\n",
            "The square root of 32 is 5.656854249492381\n",
            "The square root of 32 is 5.65685424949238\n",
            "The square root of 32 is 5.65685424949238\n",
            "The square root of 32 is 5.65685424949238\n",
            "The square root of 32 is 5.65685424949238\n",
            "The square root of 32 is 5.65685424949238\n",
            "The square root of 32 is 5.65685424949238\n",
            "The square root of 32 is 5.65685424949238\n",
            "The square root of 32 is 5.65685424949238\n",
            "The square root of 32 is 5.65685424949238\n",
            "The square root of 32 is 5.65685424949238\n",
            "The square root of 32 is 5.65685424949238\n",
            "The square root of 32 is 5.65685424949238\n",
            "The square root of 32 is 5.65685424949238\n",
            "The square root of 32 is 5.65685424949238\n",
            "The square root of 32 is 5.65685424949238\n",
            "The square root of 32 is 5.65685424949238\n",
            "The square root of 32 is 5.65685424949238\n",
            "The square root of 32 is 5.65685424949238\n",
            "The square root of 32 is 5.65685424949238\n",
            "The square root of 32 is 5.65685424949238\n",
            "The square root of 32 is 5.65685424949238\n",
            "The square root of 32 is 5.65685424949238\n",
            "The square root of 32 is 5.65685424949238\n",
            "The square root of 32 is 5.65685424949238\n",
            "The square root of 32 is 5.65685424949238\n",
            "The square root of 32 is 5.65685424949238\n",
            "The square root of 32 is 5.65685424949238\n",
            "The square root of 32 is 5.65685424949238\n",
            "The square root of 32 is 5.65685424949238\n",
            "The square root of 32 is 5.65685424949238\n",
            "The square root of 32 is 5.65685424949238\n",
            "The square root of 32 is 5.65685424949238\n",
            "The square root of 32 is 5.65685424949238\n",
            "The square root of 32 is 5.65685424949238\n",
            "The square root of 32 is 5.65685424949238\n",
            "The square root of 32 is 5.65685424949238\n",
            "The square root of 32 is 5.65685424949238\n",
            "The square root of 32 is 5.65685424949238\n",
            "The square root of 32 is 5.65685424949238\n",
            "The square root of 32 is 5.65685424949238\n",
            "The square root of 32 is 5.65685424949238\n",
            "The square root of 32 is 5.65685424949238\n",
            "The square root of 32 is 5.65685424949238\n",
            "The square root of 32 is 5.65685424949238\n",
            "The square root of 32 is 5.65685424949238\n",
            "The square root of 32 is 5.65685424949238\n",
            "The square root of 32 is 5.65685424949238\n",
            "The square root of 32 is 5.65685424949238\n",
            "The square root of 32 is 5.65685424949238\n",
            "The square root of 32 is 5.65685424949238\n",
            "The square root of 32 is 5.65685424949238\n",
            "The square root of 32 is 5.65685424949238\n",
            "The square root of 32 is 5.65685424949238\n",
            "The square root of 32 is 5.65685424949238\n",
            "The square root of 32 is 5.65685424949238\n",
            "The square root of 32 is 5.65685424949238\n",
            "The square root of 32 is 5.65685424949238\n",
            "The square root of 32 is 5.65685424949238\n",
            "The square root of 32 is 5.65685424949238\n",
            "The square root of 32 is 5.65685424949238\n",
            "The square root of 32 is 5.65685424949238\n",
            "The square root of 32 is 5.65685424949238\n",
            "The square root of 32 is 5.65685424949238\n",
            "The square root of 32 is 5.65685424949238\n",
            "The square root of 32 is 5.65685424949238\n",
            "The square root of 32 is 5.65685424949238\n",
            "The square root of 32 is 5.65685424949238\n",
            "The square root of 32 is 5.65685424949238\n",
            "The square root of 32 is 5.65685424949238\n",
            "The square root of 32 is 5.65685424949238\n",
            "The square root of 32 is 5.65685424949238\n",
            "The square root of 32 is 5.65685424949238\n",
            "The square root of 32 is 5.65685424949238\n",
            "The square root of 32 is 5.65685424949238\n",
            "The square root of 32 is 5.65685424949238\n",
            "The square root of 32 is 5.65685424949238\n",
            "The square root of 32 is 5.65685424949238\n",
            "The square root of 32 is 5.65685424949238\n",
            "The square root of 32 is 5.65685424949238\n",
            "The square root of 32 is 5.65685424949238\n",
            "The square root of 32 is 5.65685424949238\n",
            "The square root of 32 is 5.65685424949238\n",
            "The square root of 32 is 5.65685424949238\n",
            "The square root of 32 is 5.65685424949238\n",
            "The square root of 32 is 5.65685424949238\n",
            "The square root of 32 is 5.65685424949238\n",
            "The square root of 32 is 5.65685424949238\n",
            "The square root of 32 is 5.65685424949238\n",
            "The square root of 32 is 5.65685424949238\n",
            "The square root of 32 is 5.65685424949238\n",
            "The square root of 32 is 5.65685424949238\n",
            "The square root of 32 is 5.65685424949238\n",
            "The square root of 32 is 5.65685424949238\n",
            "The square root of 32 is 5.65685424949238\n",
            "The square root of 32 is 5.65685424949238\n"
          ],
          "name": "stdout"
        }
      ]
    },
    {
      "cell_type": "markdown",
      "metadata": {
        "id": "gHxmSYaoc8v0"
      },
      "source": [
        "Describe your findings here.\n",
        "\n",
        "1.\n",
        "From the first try, every time the square root is getting closer to 1.414, and finally we get the most precise result.\n",
        "\n",
        "2.\n",
        "when finding the square root of some integer x, the initial guess g should be have a potential relationship with the interger n itself, which is, g= (n+(n/2)/2. In this way, the initial guess will be closer to the square root of this integer.\n",
        "\n",
        "3.\n",
        "The guesses and the results together show a wide range of loop convergence. Before the loop converges, there are several times of iterations. The larger the difference between g and (n+(n/2)/2, the more times the iterations will be.\n",
        "\n",
        "4.\n",
        "However, the iterations should be around 4 times, and loop counter should be less than 10, in order to get the most precise result, because the result cannot be more precise than the 14 or more digits.\n"
      ]
    },
    {
      "cell_type": "markdown",
      "metadata": {
        "id": "fOUbCcfxU5yY"
      },
      "source": [
        "## Exploration 2:  Approximating e and pi.\n",
        "\n",
        "Now we approximate two of the most important constants in mathematics:  e and pi.  There are multiple approaches, but e is pretty easy with the series expansion of e^x.  First, approximate e by evaluating the Taylor series expansion of e^x at x=1.  I.e., remember from calculus that\n",
        "$$e^x = 1 + x + \\frac{1}{2} x^2 + \\frac{1}{3!} x^3 + \\frac{1}{4!} x^4 + \\cdots.$$\n",
        "How many terms are necessary before the float stabilizes?  Use a loop, with a running product for the factorials and running sums for the series."
      ]
    },
    {
      "cell_type": "markdown",
      "metadata": {
        "id": "hWEZd0ntaCqS"
      },
      "source": [
        "Approximating e:"
      ]
    },
    {
      "cell_type": "markdown",
      "metadata": {
        "id": "0rPbuBXZtl12"
      },
      "source": [
        "Hi TA, for this qestion, the other student used an inverse way, and you only helped her revised during the office hour. I don't want to use the same way you clarified to her, so i changed into another way. (though it is also very strange for me at least now and i learnt it after your office hour)"
      ]
    },
    {
      "cell_type": "code",
      "metadata": {
        "id": "cH0ApCftU5yY",
        "colab": {
          "base_uri": "https://localhost:8080/"
        },
        "outputId": "af78221f-3b7a-417c-e641-c5d2bc7ec5c0"
      },
      "source": [
        "def factorial(x):\n",
        "    s = 1\n",
        "    for i in range(1,x+1):\n",
        "        s *= i\n",
        "    return s\n",
        "\n",
        "def e_calculate(n):\n",
        "    s = 0\n",
        "    for i in range(n):\n",
        "        s+=1 / float(factorial(i))\n",
        "        print(\"e is equal to:\", s)\n",
        "    return s\n",
        "print(e_calculate(18))\n",
        "\n"
      ],
      "execution_count": 59,
      "outputs": [
        {
          "output_type": "stream",
          "text": [
            "e is equal to: 1.0\n",
            "e is equal to: 2.0\n",
            "e is equal to: 2.5\n",
            "e is equal to: 2.6666666666666665\n",
            "e is equal to: 2.708333333333333\n",
            "e is equal to: 2.7166666666666663\n",
            "e is equal to: 2.7180555555555554\n",
            "e is equal to: 2.7182539682539684\n",
            "e is equal to: 2.71827876984127\n",
            "e is equal to: 2.7182815255731922\n",
            "e is equal to: 2.7182818011463845\n",
            "e is equal to: 2.718281826198493\n",
            "e is equal to: 2.7182818282861687\n",
            "e is equal to: 2.7182818284467594\n",
            "e is equal to: 2.71828182845823\n",
            "e is equal to: 2.718281828458995\n",
            "e is equal to: 2.718281828459043\n",
            "e is equal to: 2.7182818284590455\n",
            "2.7182818284590455\n"
          ],
          "name": "stdout"
        }
      ]
    },
    {
      "cell_type": "markdown",
      "metadata": {
        "id": "IVVXAwTfAF0o"
      },
      "source": [
        "So the term is 18."
      ]
    },
    {
      "cell_type": "markdown",
      "metadata": {
        "id": "YYhT-tDRU5yY"
      },
      "source": [
        "Next we will approximate pi, which is much more interesting.  We can try a few approaches.  For a series-approach (like e), we need a series that converges to pi.  A simple example is the arctangent atan(x).  Recall (precalculus!) that $atan(1) = \\pi/4$.  Moreover, the derivative of $atan(x)$ is $1 / (1+x^2)$.  \n",
        "\n",
        "1.  Figure out the Taylor series of $1 / (1+x^2)$ near $x=0$.  Note that this is a geometric series! \n",
        "\n",
        "2.  Figure out the Taylor series of $atan(x)$ near $x=0$ by taking the antiderivative, term by term, of the above.\n",
        "\n",
        "3.  Try to estimate $\\pi$ with this series, using many terms of the series."
      ]
    },
    {
      "cell_type": "markdown",
      "metadata": {
        "id": "QnhXwEXL95gg"
      },
      "source": [
        "1.\n",
        "\n",
        "$f(x)=$arctan$(x)$\n",
        "\n",
        "Taking derivatives, we get\n",
        "\n",
        "$f'(x)=\\frac{1}{1+x^{2}}$.\n",
        "\n",
        "Since geometric series $\\frac{1}{1-x^{2}}=\\sum_{n=0}^{\\infty}x^{n}$, \n",
        "\n",
        "$f'(x)=\\frac{1}{1-(-x)^{2}} = \\sum_{n=0}^{\\infty}(-1)^{n}x^{2n}$.\n",
        "\n",
        "Plugging $x=0$ into $f(x)= \\sum_{n=0}^{\\infty}(-1)^{n}x^{2n} + C$, it implies C=0.\n",
        "\n",
        "So the taypor series of $\\frac{1}{1+x^{2}}$ near $x=0$ equals to $\\sum_{n=0}^{\\infty}(-1)^{n}x^{2n}$.\n",
        "\n",
        "2.\n",
        "\n",
        "$\\sum_{n=0}^{\\infty}(-1)^{n}x^{2n}$ = 1 - $x^2$ + $x^4$ - ...\n",
        "\n",
        "Integrating this geometric series, we get\n",
        "\n",
        "$atan(x)$= $C$ + $x$ - $\\frac{3}{x^{3}} $+ $\\frac{5}{x^{5}}$ - ...\n",
        "\n",
        "Again, since it nears $x=0$, $C=0$.\n",
        "\n",
        "Hence, $atan(x)$= $x$ - $\\frac{3}{x^{3}} $+ $\\frac{5}{x^{5}}$ - ...\n",
        "\n",
        "(Thus, this provides us the fomula to approximate $\\pi$).\n",
        "\n",
        "\n"
      ]
    },
    {
      "cell_type": "code",
      "metadata": {
        "id": "wYlwMQxBU5yY",
        "colab": {
          "base_uri": "https://localhost:8080/"
        },
        "outputId": "0c179ce6-71ac-4cf6-ace3-d2e00140d6ae"
      },
      "source": [
        "# approximate pi\n",
        "def pi_calculate(x,n):\n",
        "# n must be odd\n",
        "    return 4* sum((1 / i)*((-1)**int((i-1)/2))*x**i for i in range(1, n+1, 2 ))\n",
        "    # return sum(1 / float(math.factorial(i)) for i in range(n))\n",
        "\n",
        "print(pi_calculate(1,2000001))\n",
        "print(i)\n"
      ],
      "execution_count": 81,
      "outputs": [
        {
          "output_type": "stream",
          "text": [
            "3.1415936535887745\n",
            "30\n"
          ],
          "name": "stdout"
        }
      ]
    },
    {
      "cell_type": "markdown",
      "metadata": {
        "id": "n3aHPIFmPosE"
      },
      "source": [
        "To further explain, hopefully 2000001 is big enough to ensure that the result is precise. "
      ]
    },
    {
      "cell_type": "markdown",
      "metadata": {
        "id": "77BvRTGFU5yY"
      },
      "source": [
        "Now we'll accelerate things a bit.  There's a famous formula of Machin (1706) who computed the first hundred digits of $\\pi$.  We'll use his identity:\n",
        "\n",
        "$\\pi/4 = 4 \\cdot atan(1/5) - atan(1 / 239)$.  \n",
        "\n",
        "This isn't obvious, but there's a tedious proof using sum/difference identities in trig.\n",
        "\n",
        "Try using this formula now to approximate $\\pi$, using your Taylor series for $atan(x)$.  It should require fewer terms."
      ]
    },
    {
      "cell_type": "code",
      "metadata": {
        "colab": {
          "base_uri": "https://localhost:8080/"
        },
        "id": "MTXXiTQhhHZr",
        "outputId": "8d87e0ac-d009-41c7-cec0-7dcc2b123e57"
      },
      "source": [
        "# the first try which is less precise （which i learnt through the office hour)\n",
        "import math\n",
        "pi_new = 4 * (4 * atan(1/5)) - atan(1/239)\n",
        "print (pi_new)"
      ],
      "execution_count": 86,
      "outputs": [
        {
          "output_type": "stream",
          "text": [
            "3.15414488159601758121907772089254485816359891433617276878994443982170091701525186537031261303650422\n",
            "30\n"
          ],
          "name": "stdout"
        }
      ]
    },
    {
      "cell_type": "code",
      "metadata": {
        "id": "71EwcYnMU5yY",
        "colab": {
          "base_uri": "https://localhost:8080/"
        },
        "outputId": "0c4d8093-c54e-46c2-a3fa-69074d830774"
      },
      "source": [
        "# the second try which is more precise (which i wrote by myself)\n",
        "pi_new = 4*pi_calculate(1/5,100001)-pi_calculate(1/239,100001)\n",
        "print(pi_new)"
      ],
      "execution_count": 84,
      "outputs": [
        {
          "output_type": "stream",
          "text": [
            "3.141592653589794\n",
            "30\n"
          ],
          "name": "stdout"
        }
      ]
    },
    {
      "cell_type": "markdown",
      "metadata": {
        "id": "NazcANnNU5yY"
      },
      "source": [
        "Now let's compare this to **Archimedes' method**.  Archimedes approximated pi by looking at the perimeters $p(n)$ and $P(n)$ of ($2^n$)-gons inscribed in and circumscribed around a unit circle.  So $p(2)$ is the perimeter of a square inscribed in the unit circle.  $P(2)$ is the perimeter of a square circumscribed around a unit circle.\n",
        "\n",
        "Archimedes proved the following (not in the formulaic language of algebra):  For all $n \\geq 2$,\n",
        "\n",
        "(P-formula)  $P(n+1) = \\frac{2  p(n) P(n)}{p(n) + P(n)}$.\n",
        "\n",
        "(p-formula)  $p(n+1) = \\sqrt{ p(n)  P(n+1) }$.\n",
        "\n",
        "1.  Compute $p(2)$ and $P(2)$.\n",
        "\n",
        "2.  Use these formulas to compute $p(10)$ and $P(10)$.  Use this to get a good approximation for $\\pi$!\n",
        "\n",
        "We could use our previous sqrt function if you want, we'll take a fancier high-precision approach.  \"mpmath\" is a Python package for high-precision calculation.  It should be accessible through Google Colab.  You can read the full documentation at http://mpmath.org/doc/current/\n",
        "\n",
        "First we load the package and print its status."
      ]
    },
    {
      "cell_type": "code",
      "metadata": {
        "id": "uJZZ9M_PU5yZ",
        "colab": {
          "base_uri": "https://localhost:8080/"
        },
        "outputId": "e4fee676-7018-4591-a081-fdd303081e19"
      },
      "source": [
        "from mpmath import *\n",
        "print(mp)"
      ],
      "execution_count": 119,
      "outputs": [
        {
          "output_type": "stream",
          "text": [
            "Mpmath settings:\n",
            "  mp.prec = 53                [default: 53]\n",
            "  mp.dps = 15                 [default: 15]\n",
            "  mp.trap_complex = False     [default: False]\n"
          ],
          "name": "stdout"
        }
      ]
    },
    {
      "cell_type": "markdown",
      "metadata": {
        "id": "17mWwbgyU5yZ"
      },
      "source": [
        "The number mp.dps is (roughly) the number of decimal digits that mpmath will keep track of in its computations.  mp.prec is the binary precision, a bit more than 3 times the decimal precision.  We can change this to whatever we want."
      ]
    },
    {
      "cell_type": "code",
      "metadata": {
        "id": "f2aNKEWeU5yZ",
        "colab": {
          "base_uri": "https://localhost:8080/"
        },
        "outputId": "dbb61331-1bdc-4c8e-ce2e-5f3e3cbcebe4"
      },
      "source": [
        "mp.dps = 50 # Let's try 50 digits precision to start.\n",
        "print(mp)"
      ],
      "execution_count": 120,
      "outputs": [
        {
          "output_type": "stream",
          "text": [
            "Mpmath settings:\n",
            "  mp.prec = 169               [default: 53]\n",
            "  mp.dps = 50                 [default: 15]\n",
            "  mp.trap_complex = False     [default: False]\n"
          ],
          "name": "stdout"
        }
      ]
    },
    {
      "cell_type": "markdown",
      "metadata": {
        "id": "AVFYKq9hU5yZ"
      },
      "source": [
        "mpmath has a nice function for square roots.  Compare this to your approximation from before!"
      ]
    },
    {
      "cell_type": "code",
      "metadata": {
        "scrolled": true,
        "id": "IynhKMaLU5yZ",
        "colab": {
          "base_uri": "https://localhost:8080/"
        },
        "outputId": "bc712bee-a2a1-4655-f3e0-0bcc5e6885e8"
      },
      "source": [
        "sqrt(2)  # mpf(...) stands for an mp-float.  "
      ],
      "execution_count": 121,
      "outputs": [
        {
          "output_type": "execute_result",
          "data": {
            "text/plain": [
              "mpf('1.4142135623730950488016887242096980785696718753769468')"
            ]
          },
          "metadata": {
            "tags": []
          },
          "execution_count": 121
        }
      ]
    },
    {
      "cell_type": "code",
      "metadata": {
        "id": "quMwWJJ3U5yZ",
        "colab": {
          "base_uri": "https://localhost:8080/"
        },
        "outputId": "caebe006-1423-485d-fff8-be3854c4adb0"
      },
      "source": [
        "type(sqrt(2)) # mpmath stores numbers in its own types!"
      ],
      "execution_count": 122,
      "outputs": [
        {
          "output_type": "execute_result",
          "data": {
            "text/plain": [
              "mpmath.ctx_mp_python.mpf"
            ]
          },
          "metadata": {
            "tags": []
          },
          "execution_count": 122
        }
      ]
    },
    {
      "cell_type": "code",
      "metadata": {
        "id": "3WEkkeNNU5yZ",
        "colab": {
          "base_uri": "https://localhost:8080/"
        },
        "outputId": "b4795aa4-590e-4606-8daa-38c6b65bda4c"
      },
      "source": [
        "4*mp.atan(1) # mpmath has the arctan built in.  This should be pretty close to pi!"
      ],
      "execution_count": 123,
      "outputs": [
        {
          "output_type": "execute_result",
          "data": {
            "text/plain": [
              "mpf('3.1415926535897932384626433832795028841971693993751068')"
            ]
          },
          "metadata": {
            "tags": []
          },
          "execution_count": 123
        }
      ]
    },
    {
      "cell_type": "markdown",
      "metadata": {
        "id": "8oMFGUkiU5yZ"
      },
      "source": [
        "Now try Archimedes' approximation of pi.  Use the mpmath sqrt function along the way.  How many iterations do you need to get pi correct to 100 digits?  Compare this to the arctan-series (not the mpmath atan function) via Machin's formula."
      ]
    },
    {
      "cell_type": "code",
      "metadata": {
        "colab": {
          "base_uri": "https://localhost:8080/"
        },
        "id": "I_snhx3vodu_",
        "outputId": "9f7fdf3f-ada1-4292-9b57-0e505d616d3a"
      },
      "source": [
        "from math import sqrt\n",
        "from math import pi\n",
        "from mpmath import *\n",
        "p = 4*sqrt(2)\n",
        "P = 8\n",
        "for i in range (1,9):\n",
        "  P =(2 * p * P) / (p + P)\n",
        "  p = sqrt(p * P)\n",
        "print(P)\n",
        "print(p)"
      ],
      "execution_count": 64,
      "outputs": [
        {
          "output_type": "stream",
          "text": [
            "6.283205020513617893527379316985320023584546916205193166818659690885444537083323602708683544642352298\n",
            "6.283175450554319401257708525403837478798561717149686573356842801102433409066293563015358388960204557\n"
          ],
          "name": "stdout"
        }
      ]
    },
    {
      "cell_type": "code",
      "metadata": {
        "colab": {
          "base_uri": "https://localhost:8080/"
        },
        "id": "05iauRVd7NfX",
        "outputId": "019d5e8f-12ac-49bb-e2c6-d3b1670204fd"
      },
      "source": [
        "from mpmath import sqrt\n",
        "from math import pi\n",
        "from mpmath import *\n",
        "mp.dps = 100 # Let's try 100 digits precision to start.\n",
        "print(mp)\n",
        "p = 4*sqrt(2)\n",
        "P = 8\n",
        "for i in range (3,31):\n",
        "  P =(2 * p * P) / (p + P)\n",
        "  p = sqrt(p * P)\n",
        "pi=P/2\n",
        "print(pi)"
      ],
      "execution_count": 79,
      "outputs": [
        {
          "output_type": "stream",
          "text": [
            "Mpmath settings:\n",
            "  mp.prec = 336               [default: 53]\n",
            "  mp.dps = 100                [default: 15]\n",
            "  mp.trap_complex = False     [default: False]\n",
            "3.141592653589793247427196059937556103109196094437935659940498223592094867038852025228332688184796754\n",
            "30\n"
          ],
          "name": "stdout"
        }
      ]
    },
    {
      "cell_type": "markdown",
      "metadata": {
        "id": "gKGa2g0nZ6sL"
      },
      "source": [
        "Comparison and Conclusion:\n",
        "\n",
        "The digits of the results of Archimede and Machin are different. The former one is more precise.\n",
        "\n",
        "30 digits is enough accurate for 64-float in python. But 100 digit cannot be shown in python.\n",
        "\n",
        "Archimede needs far less iterations than Machin.(because compared with 2000001, i is far smaller in Archimede).\n",
        "\n",
        "Archimede convergent more quickly."
      ]
    }
  ]
}