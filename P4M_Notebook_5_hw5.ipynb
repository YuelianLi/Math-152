{
  "nbformat": 4,
  "nbformat_minor": 0,
  "metadata": {
    "colab": {
      "name": "“P4M Notebook 5.hw5",
      "provenance": [],
      "include_colab_link": true
    },
    "kernelspec": {
      "name": "python3",
      "display_name": "Python 3"
    }
  },
  "cells": [
    {
      "cell_type": "markdown",
      "metadata": {
        "id": "view-in-github",
        "colab_type": "text"
      },
      "source": [
        "<a href=\"https://colab.research.google.com/github/YuelianLi/Math-152/blob/main/P4M_Notebook_5_hw5.ipynb\" target=\"_parent\"><img src=\"https://colab.research.google.com/assets/colab-badge.svg\" alt=\"Open In Colab\"/></a>"
      ]
    },
    {
      "cell_type": "markdown",
      "metadata": {
        "id": "3Vh71OubDeRq"
      },
      "source": [
        "# Part 5:  Putting it together...\n",
        "\n",
        "To wrap things up, we are going to bring together the techniques we have seen, and attempt a few challenges.\n",
        "\n",
        "Please submit this notebook by 5pm (California time) on Wednesday, March 17th.  Your submission should include answers to all three questions from the first (Repetition and benchmarking) section, and **two** of the challenging problems."
      ]
    },
    {
      "cell_type": "markdown",
      "metadata": {
        "id": "tmXRsSLiDw2i"
      },
      "source": [
        "## Repetition and benchmarking\n",
        "\n",
        "Computers are very good at repetition.  As your programming skills improve, you can more easily coax your computer into performing more repetitions.  We have seen at least three ways of performing repetition:  with loops (e.g, for and while loops), with lists (especially slicing and comprehension), and with numpy arrays (especially vectorized functions).  \n",
        "\n",
        "It is good to see this, in a simple example, to reflect on what you've learned this quarter.  Our simple example will be producing a list of squares $n^2$ for $n$ in a range of numbers.\n",
        "\n",
        "The first things we learned were how to use Python as a calculator, printing \"answers\" to the screen, and using a \"for loop\" to repeat things.  Here is a bit of code in that spirit."
      ]
    },
    {
      "cell_type": "code",
      "metadata": {
        "id": "1_Gk52ZaDd1M",
        "colab": {
          "base_uri": "https://localhost:8080/"
        },
        "outputId": "ccc45244-8c2d-49b7-df8a-6769828b28e6"
      },
      "source": [
        "for n in range(10):\n",
        "  print(n*n)"
      ],
      "execution_count": 1,
      "outputs": [
        {
          "output_type": "stream",
          "text": [
            "0\n",
            "1\n",
            "4\n",
            "9\n",
            "16\n",
            "25\n",
            "36\n",
            "49\n",
            "64\n",
            "81\n"
          ],
          "name": "stdout"
        }
      ]
    },
    {
      "cell_type": "markdown",
      "metadata": {
        "id": "CI7QBmfi8jn1"
      },
      "source": [
        "Then we learned about lists.  Here are two ways to make a list of the squares, from $0^2$ up to $9^2$.  We print the list at the end of each code block."
      ]
    },
    {
      "cell_type": "code",
      "metadata": {
        "id": "_pSgH2YtEoDT",
        "colab": {
          "base_uri": "https://localhost:8080/"
        },
        "outputId": "f415741e-88fa-4115-e0a5-8c58d073b858"
      },
      "source": [
        "L = []\n",
        "for n in range(10):\n",
        "  L.append(n*n)\n",
        "print(L)"
      ],
      "execution_count": 2,
      "outputs": [
        {
          "output_type": "stream",
          "text": [
            "[0, 1, 4, 9, 16, 25, 36, 49, 64, 81]\n"
          ],
          "name": "stdout"
        }
      ]
    },
    {
      "cell_type": "code",
      "metadata": {
        "id": "7arqtxfWESCf",
        "colab": {
          "base_uri": "https://localhost:8080/"
        },
        "outputId": "b5b11d69-5ac8-4ecf-a87b-9f8f3342aad2"
      },
      "source": [
        "L = [0]*10\n",
        "for n in range(10):\n",
        "  L[n] = n*n\n",
        "print(L)"
      ],
      "execution_count": 3,
      "outputs": [
        {
          "output_type": "stream",
          "text": [
            "[0, 1, 4, 9, 16, 25, 36, 49, 64, 81]\n"
          ],
          "name": "stdout"
        }
      ]
    },
    {
      "cell_type": "markdown",
      "metadata": {
        "id": "BG8Z6La18uv4"
      },
      "source": [
        "Hopefully you learned to give your lists better names, like `square_list`.  A very slick Pythonic way of producing a list is with \"list comprehension\".  Such an approach is in the code below."
      ]
    },
    {
      "cell_type": "code",
      "metadata": {
        "id": "uTel6wOOEZrm",
        "colab": {
          "base_uri": "https://localhost:8080/"
        },
        "outputId": "2b24d8c1-d15a-4fe7-edae-13b2d5149183"
      },
      "source": [
        "square_list = [n*n for n in range(10)]\n",
        "print(square_list)"
      ],
      "execution_count": 4,
      "outputs": [
        {
          "output_type": "stream",
          "text": [
            "[0, 1, 4, 9, 16, 25, 36, 49, 64, 81]\n"
          ],
          "name": "stdout"
        }
      ]
    },
    {
      "cell_type": "markdown",
      "metadata": {
        "id": "EDUFarMO836b"
      },
      "source": [
        "Finally, we learned about the numpy package, which pumps arrays through the processor very quickly.  A numpy approach is below."
      ]
    },
    {
      "cell_type": "code",
      "metadata": {
        "id": "KWyPzv53EfRW"
      },
      "source": [
        "import numpy as np # First we have to load the package."
      ],
      "execution_count": 5,
      "outputs": []
    },
    {
      "cell_type": "code",
      "metadata": {
        "id": "sCWmWLfWEgqV",
        "colab": {
          "base_uri": "https://localhost:8080/"
        },
        "outputId": "a00eabc8-0ea1-4ed7-c62b-5437cd433371"
      },
      "source": [
        "A = np.arange(10)\n",
        "print(A*A)"
      ],
      "execution_count": 6,
      "outputs": [
        {
          "output_type": "stream",
          "text": [
            "[ 0  1  4  9 16 25 36 49 64 81]\n"
          ],
          "name": "stdout"
        }
      ]
    },
    {
      "cell_type": "markdown",
      "metadata": {
        "id": "WEKhWP4oE1GJ"
      },
      "source": [
        "Let's consider the question:  what is the fastest way to produce a list (or array) of squares?  To answer it, we will wrap things in different functions, and carry out some time analysis.  \n",
        "\n",
        "Notice that the functions are as identical as possible.  The method of creating a list/array is the different in each function.  But all the functions take a single input `N` and return a list or array with the squares of 0,...,N-1.  Note that there are **no print statements**!  Printing takes time, and we don't care about how much time it takes to *print* a list on your screen.  Also, if we run %timeit, then a print statement will fill your screen with tens of thousands of printed messages!"
      ]
    },
    {
      "cell_type": "code",
      "metadata": {
        "id": "8fDM7N4UEkj1"
      },
      "source": [
        "def make_sq_1(N):\n",
        "  L = []\n",
        "  for n in range(N):\n",
        "    L.append(n*n)\n",
        "  return L"
      ],
      "execution_count": 7,
      "outputs": []
    },
    {
      "cell_type": "code",
      "metadata": {
        "id": "qEZsZmViFJAE"
      },
      "source": [
        "def make_sq_2(N):\n",
        "  L = [0] * N\n",
        "  for n in range(N):\n",
        "    L[n] = n*n\n",
        "  return L"
      ],
      "execution_count": 8,
      "outputs": []
    },
    {
      "cell_type": "code",
      "metadata": {
        "id": "NhGyT-BYFOpM"
      },
      "source": [
        "def make_sq_3(N):\n",
        "  return [n*n for n in range(N)]"
      ],
      "execution_count": 9,
      "outputs": []
    },
    {
      "cell_type": "code",
      "metadata": {
        "id": "Api8iz1eFRlN"
      },
      "source": [
        "def make_sq_4(N):\n",
        "  A = np.arange(N)\n",
        "  return A*A"
      ],
      "execution_count": 10,
      "outputs": []
    },
    {
      "cell_type": "code",
      "metadata": {
        "id": "lZGA3AmEFVs0",
        "colab": {
          "base_uri": "https://localhost:8080/"
        },
        "outputId": "697c20c0-8812-4501-bb59-a56db6b24d5b"
      },
      "source": [
        "%timeit make_sq_1(1000)"
      ],
      "execution_count": 11,
      "outputs": [
        {
          "output_type": "stream",
          "text": [
            "10000 loops, best of 5: 101 µs per loop\n"
          ],
          "name": "stdout"
        }
      ]
    },
    {
      "cell_type": "code",
      "metadata": {
        "id": "FVUJxnmfFYSU",
        "colab": {
          "base_uri": "https://localhost:8080/"
        },
        "outputId": "d0087b7d-ae9d-490f-bfdf-1cef7a0dd9d1"
      },
      "source": [
        "%timeit make_sq_2(1000)"
      ],
      "execution_count": 12,
      "outputs": [
        {
          "output_type": "stream",
          "text": [
            "10000 loops, best of 5: 77.3 µs per loop\n"
          ],
          "name": "stdout"
        }
      ]
    },
    {
      "cell_type": "code",
      "metadata": {
        "id": "Zt1l8hOsFZxs",
        "colab": {
          "base_uri": "https://localhost:8080/"
        },
        "outputId": "89423d9d-95e1-40ac-956e-cac73a088c0e"
      },
      "source": [
        "%timeit make_sq_3(1000)"
      ],
      "execution_count": 13,
      "outputs": [
        {
          "output_type": "stream",
          "text": [
            "The slowest run took 63.50 times longer than the fastest. This could mean that an intermediate result is being cached.\n",
            "10000 loops, best of 5: 64.3 µs per loop\n"
          ],
          "name": "stdout"
        }
      ]
    },
    {
      "cell_type": "code",
      "metadata": {
        "id": "pSVmRwAdFb5s",
        "colab": {
          "base_uri": "https://localhost:8080/"
        },
        "outputId": "00989239-8e49-4efc-fbc5-e6a6c075fde5"
      },
      "source": [
        "%timeit make_sq_4(1000)"
      ],
      "execution_count": 14,
      "outputs": [
        {
          "output_type": "stream",
          "text": [
            "The slowest run took 21.33 times longer than the fastest. This could mean that an intermediate result is being cached.\n",
            "100000 loops, best of 5: 2.93 µs per loop\n"
          ],
          "name": "stdout"
        }
      ]
    },
    {
      "cell_type": "markdown",
      "metadata": {
        "id": "wtjJCpIvF965"
      },
      "source": [
        "These benchmarks are useful, but let's do a graphical analysis.  This is the last thing we studied."
      ]
    },
    {
      "cell_type": "code",
      "metadata": {
        "id": "CNgnxRhFGIz9"
      },
      "source": [
        "import matplotlib.pyplot as plt\n",
        "import seaborn as sns # In case we want some modern stylings.\n",
        "import time as time"
      ],
      "execution_count": 16,
      "outputs": []
    },
    {
      "cell_type": "markdown",
      "metadata": {
        "id": "_nCiB6uSJT2C"
      },
      "source": [
        "Now we are going to create a graph to benchmark the performance of these three functions.  This will use a few new programming techniques."
      ]
    },
    {
      "cell_type": "code",
      "metadata": {
        "id": "3Qbzo01tFdi8",
        "colab": {
          "base_uri": "https://localhost:8080/",
          "height": 373
        },
        "outputId": "51869f4c-3330-453c-ab3d-b29cce452794"
      },
      "source": [
        "fig,ax = plt.subplots(1,1,figsize=(8,5)) # Initialize a plot.\n",
        "N_array = np.array([2**n for n in range(1,21)]) # We'll try N in the array [2,4,8,..,~1 million]\n",
        "for method in [make_sq_1, make_sq_2, make_sq_3, make_sq_4]: # A list of functions, oh my!\n",
        "  time_array = np.zeros(len(N_array)) # Initialize an array of zeros\n",
        "  for j,N in enumerate(N_array):  # See notes afterwards about the enumerate command.\n",
        "    time_tot = 0\n",
        "    for reps in range(10): # Average of 10 repetitions.\n",
        "      start_time = time.time()\n",
        "      method(N)\n",
        "      end_time = time.time()\n",
        "      time_tot += end_time - start_time\n",
        "    time_ave = time_tot / 10\n",
        "    time_array[j] = time_ave\n",
        "  plt.plot(N_array, time_array, label='Time using function '+method.__name__)\n",
        "plt.legend()\n",
        "plt.xscale('log')\n",
        "plt.yscale('log')\n",
        "plt.suptitle('Time to create a list of squares from 1 to N')\n",
        "plt.xlabel('Length of list (N)')\n",
        "plt.ylabel('Time (seconds)')\n",
        "plt.show()"
      ],
      "execution_count": 17,
      "outputs": [
        {
          "output_type": "display_data",
          "data": {
            "image/png": "[encoded data removed]",
            "text/plain": [
              "<Figure size 576x360 with 1 Axes>"
            ]
          },
          "metadata": {
            "tags": [],
            "needs_background": "light"
          }
        }
      ]
    },
    {
      "cell_type": "code",
      "metadata": {
        "id": "D7YqhyfZHgW5"
      },
      "source": [
        ""
      ],
      "execution_count": 17,
      "outputs": []
    },
    {
      "cell_type": "markdown",
      "metadata": {
        "id": "eWyplW1_Jfak"
      },
      "source": [
        "Let's do a line-by-line analysis.\n",
        "\n",
        "1.  `fig,ax = plt.subplots(1,1,figsize=(8,5))`\n",
        "\n",
        "2.  `N_array = np.array([2**n for n in range(1,21)])`\n",
        "\n",
        "3.  `for method in [make_sq_1, make_sq_2, make_sq_3, make_sq_4]:`\n",
        "\n",
        "4.  `  time_array = np.zeros(len(N_array)) # Initialize an array of zeros`\n",
        "\n",
        "5.  `  for j,N in enumerate(N_array):`\n",
        "\n",
        "6.  `    time_tot = 0`\n",
        "    `for reps in range(10):`\n",
        "      `start_time = time.time()`\n",
        "      `method(N)`\n",
        "      `end_time = time.time()`\n",
        "      `time_tot += end_time - start_time`\n",
        "    `time_ave = time_tot / 10`\n",
        "\n",
        "    `time_array[j] = time_ave`\n",
        "7.    `plt.plot(N_array, time_array, label='Time using function '+method.__name__)`\n",
        "\n",
        "8.  `plt.legend()`\n",
        "\n",
        "9.  `plt.xscale('log')`\n",
        "10. `plt.yscale('log')`"
      ]
    },
    {
      "cell_type": "markdown",
      "metadata": {
        "id": "0Ucwm_uHKL1w"
      },
      "source": [
        "Line 1 initializes a plot, with figure size 8 inches by 5 inches.  The \"1,1\" means that the plot has no subplots, or more precisely, it is a 1 by 1 grid of plots.  (Only one plot).\n",
        "\n",
        "In line 2, we use a list comprehension to make a list [2,4,8,16,..., 2^20].  Note that 2^20 is about one million.  These are the N's that we're going to work with.\n",
        "\n",
        "Line 3 might be surprising and interesting.  The variable `method` is iterated through an array of four *functions*!  Yes, we can have a list of functions!  And then we can use those functions!  Functions are Python objects like any other, and they can be treated as such.\n",
        "\n",
        "Lines 4-6 create an array of times.  Instead of using the %timeit magic, we store our times in an array, and we carry out a timing experiment from scratch.  Line 4 just initializes a numpy array of zeros to fill later.\n",
        "\n",
        "Line 5 has a new command `enumerate` in the loop.  This makes `N` iterate through our `N_array`, and meanwhile `j` will simply \"count up\".  It's equivalent to setting `j=0` before the loop, and putting a `j = j + 1` within the loop to count.\n",
        "\n",
        "Line 6 carries out the timing experiment.  It runs a function (`method`) to create a list of squares up to `N`.  It does this 10 times, checking the time before and after each time.  Then it computes the average amount of time elapsed (among the 10 repetitions) and records this in the `time_array`.\n",
        "\n",
        "Line 7 plots `N` on the x-axis and time (`time_array`) on the y-axis with a line plot.  It assigns this plot a label, which is the name of the method.  To find the name of the function `method`, you can use `method.__name__`.  That's a bit fancier Python.\n",
        "\n",
        "Finally, Line 8 produces the legend from the labels.  \n",
        "\n",
        "Lines 9 and 10 make the x-axis and y-axis log-scaled, which is helpful since the variable `N` is increasing exponentially, and some times are as short as microseconds while others are closer to milliseconds or seconds.\n",
        "\n",
        "The rest is styling."
      ]
    },
    {
      "cell_type": "markdown",
      "metadata": {
        "id": "6anmwPIoLwdu"
      },
      "source": [
        "## Exercises\n",
        "\n",
        "1.  Interpret the plot above.  Which method is fastest for long lists?  Which method is fastest for short lists?  At what size `N` should you switch from one method to the other?\n",
        "\n",
        "2.  Add another method to the plot, by defining your own function `make_sq_5` that mirros the basic structure of the other `make_sq` functions.  Note that your function must create the list in a different way, but it should still take the same parameter `N` and return a list or numpy array.  Create the plot with your function added to the other four, and compare the performance of your method to the others.\n",
        "\n",
        "3.  Create a function with `def inflate(S):` which takes as input a string `S` and returns a string in which the 1st letter of `S` appears once, and the second letter appears twice, the third letter appears three times, etc.  For example, `inflate('Hello')` should return the string `'Heelllllllooooo'`.  You must use a loop of the form `for j,letter in enumerate(S):`, and *no other loops*!"
      ]
    },
    {
      "cell_type": "markdown",
      "metadata": {
        "id": "5cc5rYeH9rcr"
      },
      "source": [
        "Put your solutions here."
      ]
    },
    {
      "cell_type": "markdown",
      "metadata": {
        "id": "tqNHkDMRhnGh"
      },
      "source": [
        "###Solution to question1:"
      ]
    },
    {
      "cell_type": "markdown",
      "metadata": {
        "id": "hBHJkn8NiAcG"
      },
      "source": [
        "make_sq_4 is the fastest method for long lists. make_sq_3 is the fastest method for short lists. \n",
        "\n",
        "Switch at N=55."
      ]
    },
    {
      "cell_type": "markdown",
      "metadata": {
        "id": "RFatVQhwjUCY"
      },
      "source": [
        "###Solution to question2:"
      ]
    },
    {
      "cell_type": "code",
      "metadata": {
        "id": "ymZhk-YQiQiP"
      },
      "source": [
        "def make_sq_5(N):\n",
        "  L = list(range(N))\n",
        "  for n in range(N):\n",
        "    L[n] *= n\n",
        "  return L"
      ],
      "execution_count": 64,
      "outputs": []
    },
    {
      "cell_type": "code",
      "metadata": {
        "colab": {
          "base_uri": "https://localhost:8080/"
        },
        "id": "6CKCH81lidcy",
        "outputId": "669ea883-f640-45e1-f4af-64969acaf46f"
      },
      "source": [
        "make_sq_5(3) #the sqaure of 0, 1, 2"
      ],
      "execution_count": 65,
      "outputs": [
        {
          "output_type": "execute_result",
          "data": {
            "text/plain": [
              "[0, 1, 4]"
            ]
          },
          "metadata": {
            "tags": []
          },
          "execution_count": 65
        }
      ]
    },
    {
      "cell_type": "code",
      "metadata": {
        "id": "UiGbOKiJigXf"
      },
      "source": [
        "#then use the same code for graphing as what the professor posted\n",
        "import matplotlib.pyplot as plt\n",
        "import seaborn as sns # In case we want some modern stylings.\n",
        "import time as time"
      ],
      "execution_count": 66,
      "outputs": []
    },
    {
      "cell_type": "code",
      "metadata": {
        "colab": {
          "base_uri": "https://localhost:8080/",
          "height": 373
        },
        "id": "TmdLGFSeiivW",
        "outputId": "c6bcc742-25c5-40be-f8d8-0a5ebaa3f4e2"
      },
      "source": [
        "fig,ax = plt.subplots(1,1,figsize=(8,5)) # Initialize a plot.\n",
        "N_array = np.array([2**n for n in range(1,21)]) # We'll try N in the array [2,4,8,..,~1 million]\n",
        "for method in [make_sq_1, make_sq_2, make_sq_3, make_sq_4, make_sq_5]: # A list of functions, oh my!\n",
        "  time_array = np.zeros(len(N_array)) # Initialize an array of zeros\n",
        "  for j,N in enumerate(N_array):  # See notes afterwards about the enumerate command.\n",
        "    time_tot = 0\n",
        "    for reps in range(10): # Average of 10 repetitions.\n",
        "      start_time = time.time()\n",
        "      method(N)\n",
        "      end_time = time.time()\n",
        "      time_tot += end_time - start_time\n",
        "    time_ave = time_tot / 10\n",
        "    time_array[j] = time_ave\n",
        "  plt.plot(N_array, time_array, label='Time using function '+method.__name__)\n",
        "plt.legend()\n",
        "plt.xscale('log')\n",
        "plt.yscale('log')\n",
        "plt.suptitle('Time to create a list of squares from 1 to N')\n",
        "plt.xlabel('Length of list (N)')\n",
        "plt.ylabel('Time (seconds)')\n",
        "plt.show()"
      ],
      "execution_count": 67,
      "outputs": [
        {
          "output_type": "display_data",
          "data": {
            "image/png": "[encoded data removed]",
            "text/plain": [
              "<Figure size 576x360 with 1 Axes>"
            ]
          },
          "metadata": {
            "tags": [],
            "needs_background": "light"
          }
        }
      ]
    },
    {
      "cell_type": "markdown",
      "metadata": {
        "id": "XGUs857Rm7kJ"
      },
      "source": [
        "Mine performance is the purple one, which not only does not have any advantage in speed, but also is the slowest one for long lists."
      ]
    },
    {
      "cell_type": "markdown",
      "metadata": {
        "id": "u0etHMKWjW0l"
      },
      "source": [
        "###Solution to question3:"
      ]
    },
    {
      "cell_type": "code",
      "metadata": {
        "id": "xmnd6HO0jmfN"
      },
      "source": [
        "def inflate(S):\n",
        "  new_s = ('')\n",
        "  for j,letter in enumerate(S):\n",
        "      new_s = new_s+letter*(j+1)\n",
        "\n",
        "  return new_s"
      ],
      "execution_count": 6,
      "outputs": []
    },
    {
      "cell_type": "code",
      "metadata": {
        "colab": {
          "base_uri": "https://localhost:8080/",
          "height": 36
        },
        "id": "Cwh7zio4mB9w",
        "outputId": "bb6b157f-936b-451a-df0a-ead3c75a7354"
      },
      "source": [
        "inflate('Miao') #1M 2i 3a 4o, so it works"
      ],
      "execution_count": 7,
      "outputs": [
        {
          "output_type": "execute_result",
          "data": {
            "application/vnd.google.colaboratory.intrinsic+json": {
              "type": "string"
            },
            "text/plain": [
              "'Miiaaaoooo'"
            ]
          },
          "metadata": {
            "tags": []
          },
          "execution_count": 7
        }
      ]
    },
    {
      "cell_type": "markdown",
      "metadata": {
        "id": "F3CDgf54dWoL"
      },
      "source": [
        "# Final challenges!\n",
        "\n",
        "Please turn in your notebooks with your attempts on **two** of the challenges below.  **Only two** will be graded."
      ]
    },
    {
      "cell_type": "markdown",
      "metadata": {
        "id": "HJJWMj_8VdXg"
      },
      "source": [
        "## Challenge 1\n",
        "\n",
        "If $N$ is a positive integer, then $r_3(N)$ is the number of ways that $N$ can be expressed as the sum of three squares.  Order and sign matter, so for example\n",
        "$$6 = 1^2 + 1^2 + 2^2 = (-1)^2 + 1^2 + 2^2 = 2^2 + (-1)^2 + (-1)^2 = \\cdots$$\n",
        "These are all different ways of expressing 6 as the sum of three squares.  In fact, $r_3(6) = 8 \\cdot 3 = 24$.  The 8 comes from the fact that there are eight sign-choices, and the 3 comes from the three orderings (1,1,2) and (1,2,1) and (2,1,1).\n",
        "\n",
        "In other words, $r_3(N)$ is the number of elements in the following set:\n",
        "$$\\{ (a,b,c) \\in {\\mathbb Z}^3 : a^2 + b^2 + c^2 = N \\}.$$\n",
        "\n",
        "Write a function that computes $r_3(N)$ as efficiently as you can, for somewhat large values of $N$ (e.g., $N \\approx 1000$).\n",
        "\n",
        "You can check whether your function is behaving correctly, by comparing to the values found at the [Online Encyclopedia of Integer Sequences](https://oeis.org/A005875).\n",
        "\n",
        "\n"
      ]
    },
    {
      "cell_type": "markdown",
      "metadata": {
        "id": "ff_CVbvTq1CL"
      },
      "source": [
        "###Solution to challenge1:"
      ]
    },
    {
      "cell_type": "code",
      "metadata": {
        "id": "MqXUlGr6UbAI"
      },
      "source": [
        "def rep_three(N):\n",
        "  return R # The result of your function should be R."
      ],
      "execution_count": 35,
      "outputs": []
    },
    {
      "cell_type": "code",
      "metadata": {
        "id": "CCzEYimdUa9Z"
      },
      "source": [
        "rep_three(6) # This should output 24."
      ],
      "execution_count": null,
      "outputs": []
    },
    {
      "cell_type": "code",
      "metadata": {
        "id": "Yoqn17uMUax1"
      },
      "source": [
        "import numpy as np"
      ],
      "execution_count": 31,
      "outputs": []
    },
    {
      "cell_type": "code",
      "metadata": {
        "id": "wdeujmbJpcRk"
      },
      "source": [
        "def rep_three(N):\n",
        "  abc = list()\n",
        "  for a in range(0, int(np.sqrt(N))+1):\n",
        "    for b in range(0,int(np.sqrt(N))+1):\n",
        "      for c in range(0,int(np.sqrt(N))+1):\n",
        "        if a**2 + b**2 + c**2 == N:\n",
        "          abc.append((a,b,c))\n",
        "\n",
        "#print(abcs)\n",
        "  R = 0\n",
        "  for n in abc:\n",
        "    if (n[0] == 0) & (n[1] == 0) & (n[2] == 0):\n",
        "      R += 1\n",
        "    elif (n[0] == n[1] == 0) | (n[1] == n[2] == 0) | (n[0] == n[2] == 0):\n",
        "      R += 2\n",
        "    elif (n[0] == 0) | (n[1] == 0) | (n[2] == 0):\n",
        "      R += 4\n",
        "    else:\n",
        "      R += 8\n",
        "\n",
        "  return R, abc # The result of your function should be R."
      ],
      "execution_count": 38,
      "outputs": []
    },
    {
      "cell_type": "code",
      "metadata": {
        "colab": {
          "base_uri": "https://localhost:8080/"
        },
        "id": "8wW_QtpxpqUs",
        "outputId": "5f634c7e-90ce-4567-c2c9-7675f5bf508e"
      },
      "source": [
        "rep_three(6)"
      ],
      "execution_count": 39,
      "outputs": [
        {
          "output_type": "execute_result",
          "data": {
            "text/plain": [
              "(24, [(1, 1, 2), (1, 2, 1), (2, 1, 1)])"
            ]
          },
          "metadata": {
            "tags": []
          },
          "execution_count": 39
        }
      ]
    },
    {
      "cell_type": "code",
      "metadata": {
        "colab": {
          "base_uri": "https://localhost:8080/"
        },
        "id": "48Re-ENspwuQ",
        "outputId": "ba856c62-6d71-4695-ee13-177314835b30"
      },
      "source": [
        "rep_three(100)"
      ],
      "execution_count": 41,
      "outputs": [
        {
          "output_type": "execute_result",
          "data": {
            "text/plain": [
              "(30,\n",
              " [(0, 0, 10),\n",
              "  (0, 6, 8),\n",
              "  (0, 8, 6),\n",
              "  (0, 10, 0),\n",
              "  (6, 0, 8),\n",
              "  (6, 8, 0),\n",
              "  (8, 0, 6),\n",
              "  (8, 6, 0),\n",
              "  (10, 0, 0)])"
            ]
          },
          "metadata": {
            "tags": []
          },
          "execution_count": 41
        }
      ]
    },
    {
      "cell_type": "markdown",
      "metadata": {
        "id": "qRLhmGVkXd8K"
      },
      "source": [
        "# Challenge 2\n",
        "\n",
        "If $r$ is a positive real number, then the area of the circle of radius $r$ is $\\pi r^2$.  If you place this circle around the origin, on a sheet of graph paper, then you will find *about* $\\pi r^2$ \"grid points\" inside this circle.  The grid points inside the circle form the set\n",
        "$$S = \\{ (x,y) \\in {\\mathbb Z}^2 : x^2 + y^2 < r^2 \\}.$$\n",
        "\n",
        "Define $E(r) = \\pi r^2 - \\# S$ to be the \"error\" -- the difference between the area of the circle and the number of grid points within the circle.  \n",
        "\n",
        "Create a plot with $r$ on the horizontal axis and $E(r)$ on the y-axis.  Try to accomplish this as efficiently as possible, where $r$ ranges from $0$ to $1000$.\n",
        "\n",
        "Can you come up with a good bound $\\vert E(r) \\vert \\leq f(r)$ for some nice function $f(r)$, just by looking at your plot?  I.e., your plot of $E(r)$ should be bounded above by the graph of $y = f(r)$ and below by the graph of $y = -f(r)$.  If you can come up with such a bound, plot it too."
      ]
    },
    {
      "cell_type": "code",
      "metadata": {
        "id": "_gyzNqCaUavY"
      },
      "source": [
        ""
      ],
      "execution_count": null,
      "outputs": []
    },
    {
      "cell_type": "markdown",
      "metadata": {
        "id": "kYWSMHMsY853"
      },
      "source": [
        "# Challenge 3\n",
        "\n",
        "The following result was found by Euler, but I've changed his numbers to $A$ and $B$ to make your life hard.\n",
        "\n",
        "Theorem:  A prime number $p$ can be expressed in the form $x^2 + 3 y^2$ if and only if $p$ is congruent to $A$ modulo $B$ (i.e., `p % B == A`).  \n",
        "\n",
        "Use experimental techniques to determine $A$ and $B$.  Now try the same for $3$ replaced by $4,5,6,7,8,9$. "
      ]
    },
    {
      "cell_type": "markdown",
      "metadata": {
        "id": "Zg0Nc1e6aDi7"
      },
      "source": [
        "# Challenge 4\n",
        "\n",
        "Pascal's triangle has $1$ in the first row, then $1, 1$ in the second rod, then $1,2,1$ in the third row, etc.  One can place these numbers in a triangle, with \"rows\" as diagonals, as drawn below.\n",
        "\n",
        "1 1 1 1 1 1\n",
        "\n",
        "1 2 3 4 5\n",
        "\n",
        "1 3 6 10\n",
        "\n",
        "1 4 10\n",
        "\n",
        "1 5\n",
        "\n",
        "1\n",
        "\n",
        "Et cetera.\n",
        "\n",
        "Turn these numbers into black and white dots, depending on whether they are even (black) or odd (white).  This produces an image like the following:\n",
        "\n",
        "X X X X X X\n",
        "\n",
        "X O X O X\n",
        "\n",
        "X X O O\n",
        "\n",
        "X O O\n",
        "\n",
        "X X\n",
        "\n",
        "X\n",
        "\n",
        "Now perform this in PIL, to create an image that fills the top-left triangle in an image of at least 200 x 200 pixels.  You should *not* be computing giant numbers like 200 factorial!  Each row of Pascal's triangle can be computed from the previous by addition... and you can perform this \"mod 2\" all the way through.\n",
        "\n",
        "Extra fun:  instead of black/white dots for even/odd, try colors based on remainders after dividing by three, by four, etc.\n"
      ]
    },
    {
      "cell_type": "markdown",
      "metadata": {
        "id": "20WbBxEzqmhP"
      },
      "source": [
        "###Solution to challenge4:"
      ]
    },
    {
      "cell_type": "markdown",
      "metadata": {
        "id": "z57nIphhq4Xg"
      },
      "source": [
        "The first part and the second part got the same result. I wrote the first part in case the second part is similar to others' code who also attended the office hour."
      ]
    },
    {
      "cell_type": "code",
      "metadata": {
        "colab": {
          "base_uri": "https://localhost:8080/"
        },
        "id": "W86zmOZmp6qq",
        "outputId": "359390d9-bf02-4841-e234-c98367eed8c1"
      },
      "source": [
        "r = 10\n",
        "lup = [1] * r\n",
        "print(lup)"
      ],
      "execution_count": 43,
      "outputs": [
        {
          "output_type": "stream",
          "text": [
            "[1, 1, 1, 1, 1, 1, 1, 1, 1, 1]\n"
          ],
          "name": "stdout"
        }
      ]
    },
    {
      "cell_type": "code",
      "metadata": {
        "colab": {
          "base_uri": "https://localhost:8080/"
        },
        "id": "Y3V4LHvtp_F7",
        "outputId": "905be348-d94f-4af3-d575-1bee70ca3220"
      },
      "source": [
        "r = 6\n",
        "lup = [1] * r\n",
        "for j in range(r):\n",
        "  n = r-1 - j\n",
        "  lnew = [1]\n",
        "  print('')\n",
        "  if n != 1:\n",
        "    print('')\n",
        "    print(\"X\", end = '')\n",
        "  for k in range(1,n): \n",
        "    num = lnew[k-1]+lup[k]\n",
        "    lnew.append(num)\n",
        "    if num%2 == 0:\n",
        "      print(\"O\", end = '')\n",
        "    else:\n",
        "      print(\"X\", end = '')\n",
        "  lup = lnew"
      ],
      "execution_count": 44,
      "outputs": [
        {
          "output_type": "stream",
          "text": [
            "\n",
            "\n",
            "XOXOX\n",
            "\n",
            "XXOO\n",
            "\n",
            "XOO\n",
            "\n",
            "XX\n",
            "\n",
            "\n",
            "X"
          ],
          "name": "stdout"
        }
      ]
    },
    {
      "cell_type": "code",
      "metadata": {
        "colab": {
          "base_uri": "https://localhost:8080/"
        },
        "id": "JJt_KWV2p_sM",
        "outputId": "99ccacfa-0454-4346-fb9a-8ea15f543096"
      },
      "source": [
        "r = 6\n",
        "lup = [1] * r\n",
        "print('X'*r, end='')\n",
        "for j in range(r):\n",
        "  n = r-1 - j\n",
        "  lnew = [1]\n",
        "  print('')\n",
        "  if n != 1:\n",
        "    #print('')\n",
        "    print(\"X\", end = '')\n",
        "  for k in range(1,n): \n",
        "    num = lnew[k-1]+lup[k]\n",
        "    lnew.append(num)\n",
        "    if num%2 == 0:\n",
        "      print(\"O\", end = '')\n",
        "    else:\n",
        "      print(\"X\", end = '')\n",
        "  print(lnew)\n",
        "  lup = lnew"
      ],
      "execution_count": 45,
      "outputs": [
        {
          "output_type": "stream",
          "text": [
            "XXXXXX\n",
            "XOXOX[1, 2, 3, 4, 5]\n",
            "\n",
            "XXOO[1, 3, 6, 10]\n",
            "\n",
            "XOO[1, 4, 10]\n",
            "\n",
            "XX[1, 5]\n",
            "\n",
            "[1]\n",
            "\n",
            "X[1]\n"
          ],
          "name": "stdout"
        }
      ]
    },
    {
      "cell_type": "code",
      "metadata": {
        "colab": {
          "base_uri": "https://localhost:8080/"
        },
        "id": "WYDx0OsRqKHW",
        "outputId": "e43a951f-a0c4-4255-da13-217e4e1c3878"
      },
      "source": [
        "r = 6\n",
        "lup = [1] * r\n",
        "tri = [lup]\n",
        "tri_m2 = [lup]\n",
        "\n",
        "for j in range(1,r):\n",
        "  n = r - j\n",
        "  lnew = [1]\n",
        "  lnew_m2 = [1]\n",
        "\n",
        "  for k in range(1,n): \n",
        "    num = lnew[k-1]+lup[k]\n",
        "    lnew.append(num)\n",
        "    if num%2 == 0:\n",
        "      lnew_m2.append(0)\n",
        "    else:\n",
        "      lnew_m2.append(1)\n",
        "\n",
        "  tri.append([lnew])\n",
        "  tri_m2.append([lnew_m2])\n",
        "  lup = lnew\n",
        "\n",
        "print(tri)\n",
        "print(tri_m2)"
      ],
      "execution_count": 46,
      "outputs": [
        {
          "output_type": "stream",
          "text": [
            "[[1, 1, 1, 1, 1, 1], [[1, 2, 3, 4, 5]], [[1, 3, 6, 10]], [[1, 4, 10]], [[1, 5]], [[1]]]\n",
            "[[1, 1, 1, 1, 1, 1], [[1, 0, 1, 0, 1]], [[1, 1, 0, 0]], [[1, 0, 0]], [[1, 1]], [[1]]]\n"
          ],
          "name": "stdout"
        }
      ]
    },
    {
      "cell_type": "code",
      "metadata": {
        "colab": {
          "base_uri": "https://localhost:8080/"
        },
        "id": "1M_WpCPfqPTr",
        "outputId": "2a9ed72d-8acf-41b2-b8ec-06fb05494ebf"
      },
      "source": [
        "r = 10\n",
        "lup = [1] * r\n",
        "mt = np.zeros((r,r))\n",
        "mt[0,:] = 1\n",
        "for j in range(1,r):\n",
        "  n = r - j\n",
        "  mt[j,0] = 1\n",
        "\n",
        "  for k in range(1,n): \n",
        "    mt[j,k] = mt[j,k-1]+mt[j-1,k]\n",
        "\n",
        "mt"
      ],
      "execution_count": 47,
      "outputs": [
        {
          "output_type": "execute_result",
          "data": {
            "text/plain": [
              "array([[  1.,   1.,   1.,   1.,   1.,   1.,   1.,   1.,   1.,   1.],\n",
              "       [  1.,   2.,   3.,   4.,   5.,   6.,   7.,   8.,   9.,   0.],\n",
              "       [  1.,   3.,   6.,  10.,  15.,  21.,  28.,  36.,   0.,   0.],\n",
              "       [  1.,   4.,  10.,  20.,  35.,  56.,  84.,   0.,   0.,   0.],\n",
              "       [  1.,   5.,  15.,  35.,  70., 126.,   0.,   0.,   0.,   0.],\n",
              "       [  1.,   6.,  21.,  56., 126.,   0.,   0.,   0.,   0.,   0.],\n",
              "       [  1.,   7.,  28.,  84.,   0.,   0.,   0.,   0.,   0.,   0.],\n",
              "       [  1.,   8.,  36.,   0.,   0.,   0.,   0.,   0.,   0.,   0.],\n",
              "       [  1.,   9.,   0.,   0.,   0.,   0.,   0.,   0.,   0.,   0.],\n",
              "       [  1.,   0.,   0.,   0.,   0.,   0.,   0.,   0.,   0.,   0.]])"
            ]
          },
          "metadata": {
            "tags": []
          },
          "execution_count": 47
        }
      ]
    },
    {
      "cell_type": "code",
      "metadata": {
        "id": "-C0C8JSvqeXU"
      },
      "source": [
        "from PIL import Image"
      ],
      "execution_count": 52,
      "outputs": []
    },
    {
      "cell_type": "code",
      "metadata": {
        "id": "9BBckiv9qQhx"
      },
      "source": [
        "def triangle(r, mod=2):\n",
        "  lup = [1] * r\n",
        "  mt = np.zeros((r,r))\n",
        "  mt[0,:] = 1\n",
        "  for j in range(1,r):\n",
        "    n = r - j\n",
        "    mt[j,0] = 1\n",
        "\n",
        "    for k in range(1,n): \n",
        "      mt[j,k] = mt[j,k-1]+mt[j-1,k]\n",
        "  mod_array = mt%(mod)\n",
        "  others = 200//(mod-1) #number\n",
        "  image_array = others*mod_array #multiply the matrix by that number\n",
        "  image_array = image_array.astype(np.uint8)\n",
        "  image_triangle = Image.fromarray(image_array)\n",
        "  display(image_triangle)"
      ],
      "execution_count": 53,
      "outputs": []
    },
    {
      "cell_type": "code",
      "metadata": {
        "colab": {
          "base_uri": "https://localhost:8080/",
          "height": 117
        },
        "id": "wsf0EWt5qUWz",
        "outputId": "15ae031d-43bb-4434-fd7d-a9565afe0598"
      },
      "source": [
        "triangle(100)"
      ],
      "execution_count": 54,
      "outputs": [
        {
          "output_type": "display_data",
          "data": {
            "image/png": "[encoded data removed]",
            "text/plain": [
              "<PIL.Image.Image image mode=L size=100x100 at 0x7FDC050F29D0>"
            ]
          },
          "metadata": {
            "tags": []
          }
        }
      ]
    },
    {
      "cell_type": "markdown",
      "metadata": {
        "id": "6bCXVCofrJoV"
      },
      "source": [
        "Now the second part is taught in office hour."
      ]
    },
    {
      "cell_type": "code",
      "metadata": {
        "id": "6QRNl4J2rIa6"
      },
      "source": [
        "import numpy as np"
      ],
      "execution_count": 55,
      "outputs": []
    },
    {
      "cell_type": "code",
      "metadata": {
        "colab": {
          "base_uri": "https://localhost:8080/"
        },
        "id": "3yRLgCDerRlc",
        "outputId": "b48c8cda-cc6f-4a22-af1c-54b5acd24a50"
      },
      "source": [
        "r = 10\n",
        "Pascal = np.zeros((r,r))\n",
        "print(Pascal)"
      ],
      "execution_count": 56,
      "outputs": [
        {
          "output_type": "stream",
          "text": [
            "[[0. 0. 0. 0. 0. 0. 0. 0. 0. 0.]\n",
            " [0. 0. 0. 0. 0. 0. 0. 0. 0. 0.]\n",
            " [0. 0. 0. 0. 0. 0. 0. 0. 0. 0.]\n",
            " [0. 0. 0. 0. 0. 0. 0. 0. 0. 0.]\n",
            " [0. 0. 0. 0. 0. 0. 0. 0. 0. 0.]\n",
            " [0. 0. 0. 0. 0. 0. 0. 0. 0. 0.]\n",
            " [0. 0. 0. 0. 0. 0. 0. 0. 0. 0.]\n",
            " [0. 0. 0. 0. 0. 0. 0. 0. 0. 0.]\n",
            " [0. 0. 0. 0. 0. 0. 0. 0. 0. 0.]\n",
            " [0. 0. 0. 0. 0. 0. 0. 0. 0. 0.]]\n"
          ],
          "name": "stdout"
        }
      ]
    },
    {
      "cell_type": "code",
      "metadata": {
        "id": "MYxnyLibrVWp"
      },
      "source": [
        "Pascal[0,:] = np.array([1]*r)"
      ],
      "execution_count": 57,
      "outputs": []
    },
    {
      "cell_type": "code",
      "metadata": {
        "colab": {
          "base_uri": "https://localhost:8080/"
        },
        "id": "NuVmbLyErXc9",
        "outputId": "05a5ad0f-0eef-4522-ef04-8a7265e779c6"
      },
      "source": [
        "for row in range(1,r):\n",
        "  Pascal[row,0] = 1 # Set first column-value to 1.\n",
        "  n = r - row\n",
        "  for column in range(1,n):\n",
        "     Pascal[row,column] = Pascal[row-1,column] + Pascal[row, column-1]\n",
        "print(Pascal.astype(np.uint64)) "
      ],
      "execution_count": 58,
      "outputs": [
        {
          "output_type": "stream",
          "text": [
            "[[  1   1   1   1   1   1   1   1   1   1]\n",
            " [  1   2   3   4   5   6   7   8   9   0]\n",
            " [  1   3   6  10  15  21  28  36   0   0]\n",
            " [  1   4  10  20  35  56  84   0   0   0]\n",
            " [  1   5  15  35  70 126   0   0   0   0]\n",
            " [  1   6  21  56 126   0   0   0   0   0]\n",
            " [  1   7  28  84   0   0   0   0   0   0]\n",
            " [  1   8  36   0   0   0   0   0   0   0]\n",
            " [  1   9   0   0   0   0   0   0   0   0]\n",
            " [  1   0   0   0   0   0   0   0   0   0]]\n"
          ],
          "name": "stdout"
        }
      ]
    },
    {
      "cell_type": "code",
      "metadata": {
        "colab": {
          "base_uri": "https://localhost:8080/"
        },
        "id": "4PTKAYKcrZgt",
        "outputId": "4bff25e4-dcc8-483b-8dbe-c530c890839b"
      },
      "source": [
        "A = Pascal.astype(np.uint64)%2\n",
        "print(A)"
      ],
      "execution_count": 59,
      "outputs": [
        {
          "output_type": "stream",
          "text": [
            "[[1 1 1 1 1 1 1 1 1 1]\n",
            " [1 0 1 0 1 0 1 0 1 0]\n",
            " [1 1 0 0 1 1 0 0 0 0]\n",
            " [1 0 0 0 1 0 0 0 0 0]\n",
            " [1 1 1 1 0 0 0 0 0 0]\n",
            " [1 0 1 0 0 0 0 0 0 0]\n",
            " [1 1 0 0 0 0 0 0 0 0]\n",
            " [1 0 0 0 0 0 0 0 0 0]\n",
            " [1 1 0 0 0 0 0 0 0 0]\n",
            " [1 0 0 0 0 0 0 0 0 0]]\n"
          ],
          "name": "stdout"
        }
      ]
    },
    {
      "cell_type": "code",
      "metadata": {
        "colab": {
          "base_uri": "https://localhost:8080/"
        },
        "id": "KPYAn84grbiu",
        "outputId": "124dba5c-f77e-4353-de5f-8287a2c603b1"
      },
      "source": [
        "def Pascal_triangle(N) :\n",
        "  Pascal = np.zeros((N,N))\n",
        "  Pascal[0,:] = np.array([1]*N)\n",
        "  for row in range(1,N):\n",
        "    Pascal[row,0] = 1 # Set first column-value to 1.\n",
        "    n = N - row\n",
        "    for column in range(1,n):\n",
        "      Pascal[row,column] = Pascal[row-1,column] + Pascal[row, column-1]\n",
        "\n",
        "  return Pascal\n",
        "print(Pascal_triangle(15).astype(np.uint64))"
      ],
      "execution_count": 60,
      "outputs": [
        {
          "output_type": "stream",
          "text": [
            "[[   1    1    1    1    1    1    1    1    1    1    1    1    1    1\n",
            "     1]\n",
            " [   1    2    3    4    5    6    7    8    9   10   11   12   13   14\n",
            "     0]\n",
            " [   1    3    6   10   15   21   28   36   45   55   66   78   91    0\n",
            "     0]\n",
            " [   1    4   10   20   35   56   84  120  165  220  286  364    0    0\n",
            "     0]\n",
            " [   1    5   15   35   70  126  210  330  495  715 1001    0    0    0\n",
            "     0]\n",
            " [   1    6   21   56  126  252  462  792 1287 2002    0    0    0    0\n",
            "     0]\n",
            " [   1    7   28   84  210  462  924 1716 3003    0    0    0    0    0\n",
            "     0]\n",
            " [   1    8   36  120  330  792 1716 3432    0    0    0    0    0    0\n",
            "     0]\n",
            " [   1    9   45  165  495 1287 3003    0    0    0    0    0    0    0\n",
            "     0]\n",
            " [   1   10   55  220  715 2002    0    0    0    0    0    0    0    0\n",
            "     0]\n",
            " [   1   11   66  286 1001    0    0    0    0    0    0    0    0    0\n",
            "     0]\n",
            " [   1   12   78  364    0    0    0    0    0    0    0    0    0    0\n",
            "     0]\n",
            " [   1   13   91    0    0    0    0    0    0    0    0    0    0    0\n",
            "     0]\n",
            " [   1   14    0    0    0    0    0    0    0    0    0    0    0    0\n",
            "     0]\n",
            " [   1    0    0    0    0    0    0    0    0    0    0    0    0    0\n",
            "     0]]\n"
          ],
          "name": "stdout"
        }
      ]
    },
    {
      "cell_type": "code",
      "metadata": {
        "id": "Oky6d_10rdrP"
      },
      "source": [
        "from PIL import Image"
      ],
      "execution_count": 61,
      "outputs": []
    },
    {
      "cell_type": "code",
      "metadata": {
        "id": "HJk7JmoQreE-"
      },
      "source": [
        "def triangle_array(N, mod=2, A=True):\n",
        "  if A:\n",
        "    A = Pascal_triangle(N)\n",
        "  mod_array = A%mod\n",
        "  others = 200//(mod-1) #number\n",
        "  image_array = others*mod_array #multiply the matrix by that number\n",
        "  image_array = image_array.astype(np.uint8)\n",
        "  image_triangle = Image.fromarray(image_array)\n",
        "  display(image_triangle)"
      ],
      "execution_count": 62,
      "outputs": []
    },
    {
      "cell_type": "code",
      "metadata": {
        "colab": {
          "base_uri": "https://localhost:8080/",
          "height": 167
        },
        "id": "PxQ4AfUxrhyy",
        "outputId": "c90e04fe-8d82-4272-c79d-0828b63772c1"
      },
      "source": [
        "triangle_array(150)"
      ],
      "execution_count": 63,
      "outputs": [
        {
          "output_type": "display_data",
          "data": {
            "image/png": "[encoded data removed]",
            "text/plain": [
              "<PIL.Image.Image image mode=L size=150x150 at 0x7FDC04F530D0>"
            ]
          },
          "metadata": {
            "tags": []
          }
        }
      ]
    },
    {
      "cell_type": "markdown",
      "metadata": {
        "id": "qjBNKFCd95sS"
      },
      "source": [
        "# Challenge 5\n",
        "\n",
        "Often when visualizing time-series data, it makes sense to look not at day-by-day changes, but rather at a 7-day rolling average.  For example, when looking at Covid-19 cases, there are reporting fluctuations from day to day, so instead it is usually better to look at the average number of cases over the previous 7 days.\n",
        "\n",
        "Write a function `def rolling(A, window=7):` which takes as input a one-dimensional numpy array `A`, and a parameter `window` whose default value is `7`.  The function must return an array `R` whose length is shorter than the length of `A`.  The entry `R[j]` should be the **average** of `A[j]`, `A[j+1]`, etc., up to `A[j+window-1]`.  \n",
        "\n",
        "Then use this function and matplotlib to produce a plot:  a line plot of the array `A` produced below, and a line plot of the 7-day rolling average `R` produced by your function.  These plots should be on the same figure, and clearly labeled.\n"
      ]
    },
    {
      "cell_type": "code",
      "metadata": {
        "id": "lu-pNl8SbeEG"
      },
      "source": [
        "# Here is the code to produce your test array A.\n",
        "# Please use this array in your plot!\n",
        "\n",
        "x_array = np.arange(300)\n",
        "A = 5*(x_array/200)**2\n",
        "A = A + np.random.random(len(A))"
      ],
      "execution_count": null,
      "outputs": []
    },
    {
      "cell_type": "code",
      "metadata": {
        "id": "oq5NDBV4_tCs"
      },
      "source": [
        "# Please use this code to import matplotlib.\n",
        "import matplotlib.pyplot as plt"
      ],
      "execution_count": null,
      "outputs": []
    },
    {
      "cell_type": "code",
      "metadata": {
        "id": "9BM_gTge_6rb"
      },
      "source": [
        "# Here is a plot of the array, to get you started.  \n",
        "plt.plot(x_array, A)\n",
        "\n",
        "# Now it's time to write your function to produce the 7-day rolling average, add it to the plot, and make everything clear and labeled."
      ],
      "execution_count": null,
      "outputs": []
    },
    {
      "cell_type": "code",
      "metadata": {
        "id": "3OlNFd1xJ1CV"
      },
      "source": [
        ""
      ],
      "execution_count": null,
      "outputs": []
    }
  ]
}