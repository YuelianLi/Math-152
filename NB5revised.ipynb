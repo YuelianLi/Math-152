{
  "nbformat": 4,
  "nbformat_minor": 0,
  "metadata": {
    "colab": {
      "name": "NB5revised",
      "provenance": [],
      "include_colab_link": true
    },
    "kernelspec": {
      "name": "python3",
      "display_name": "Python 3"
    },
    "language_info": {
      "name": "python"
    }
  },
  "cells": [
    {
      "cell_type": "markdown",
      "metadata": {
        "id": "view-in-github",
        "colab_type": "text"
      },
      "source": [
        "<a href=\"https://colab.research.google.com/github/YuelianLi/Math-152/blob/main/NB5revised.ipynb\" target=\"_parent\"><img src=\"https://colab.research.google.com/assets/colab-badge.svg\" alt=\"Open In Colab\"/></a>"
      ]
    },
    {
      "cell_type": "markdown",
      "metadata": {
        "id": "BA1h3zNtO0wL"
      },
      "source": [
        "## Challenge 1\n",
        "\n",
        "If $N$ is a positive integer, then $r_3(N)$ is the number of ways that $N$ can be expressed as the sum of three squares.  Order and sign matter, so for example\n",
        "$$6 = 1^2 + 1^2 + 2^2 = (-1)^2 + 1^2 + 2^2 = 2^2 + (-1)^2 + (-1)^2 = \\cdots$$\n",
        "These are all different ways of expressing 6 as the sum of three squares.  In fact, $r_3(6) = 8 \\cdot 3 = 24$.  The 8 comes from the fact that there are eight sign-choices, and the 3 comes from the three orderings (1,1,2) and (1,2,1) and (2,1,1).\n",
        "\n",
        "In other words, $r_3(N)$ is the number of elements in the following set:\n",
        "$$\\{ (a,b,c) \\in {\\mathbb Z}^3 : a^2 + b^2 + c^2 = N \\}.$$\n",
        "\n",
        "Write a function that computes $r_3(N)$ as efficiently as you can, for somewhat large values of $N$ (e.g., $N \\approx 1000$).\n",
        "\n",
        "You can check whether your function is behaving correctly, by comparing to the values found at the [Online Encyclopedia of Integer Sequences](https://oeis.org/A005875)."
      ]
    },
    {
      "cell_type": "markdown",
      "metadata": {
        "id": "ylJ0j1ntdgaS"
      },
      "source": [
        "###The revised code:\n",
        "\n",
        "If you only allow students to revise the homework instead of writing a new one(?)"
      ]
    },
    {
      "cell_type": "code",
      "metadata": {
        "id": "F2tMRHVcPcYx"
      },
      "source": [
        "import numpy as np\n",
        "def rep_three(N):\n",
        "  abc = list()\n",
        "  for a in range(0,int(np.sqrt(N))+1):\n",
        "    for b in range(a,int(np.sqrt(N))+1):\n",
        "      for c in range(b,int(np.sqrt(N))+1):\n",
        "        if a**2 + b**2 + c**2 == N:\n",
        "          abc.append((a,b,c))\n",
        "\n",
        "#print(abcs)\n",
        "  R = 0\n",
        "  for n in abc:\n",
        "    if (n[0] == 0) & (n[1] == 0) & (n[2] == 0):\n",
        "      R += 1\n",
        "    elif (n[0] == n[1] == 0) | (n[1] == n[2] == 0) | (n[0] == n[2] == 0):\n",
        "      R += 2\n",
        "    elif (n[0] == 0) | (n[1] == 0) | (n[2] == 0):\n",
        "      R += 4\n",
        "    else:\n",
        "      R += 8\n",
        "\n",
        "  return R, abc # The result of your function should be R."
      ],
      "execution_count": 157,
      "outputs": []
    },
    {
      "cell_type": "code",
      "metadata": {
        "colab": {
          "base_uri": "https://localhost:8080/"
        },
        "id": "dgcoFaRyPdDR",
        "outputId": "030fa3e4-0d93-4d3e-c1ce-96057a094748"
      },
      "source": [
        "rep_three(6)"
      ],
      "execution_count": 158,
      "outputs": [
        {
          "output_type": "execute_result",
          "data": {
            "text/plain": [
              "(8, [(1, 1, 2)])"
            ]
          },
          "metadata": {
            "tags": []
          },
          "execution_count": 158
        }
      ]
    },
    {
      "cell_type": "code",
      "metadata": {
        "colab": {
          "base_uri": "https://localhost:8080/"
        },
        "id": "O33_dZ8GPfUS",
        "outputId": "0c7e2c6a-86d4-4595-b311-ed8e25a926f6"
      },
      "source": [
        "rep_three(100)"
      ],
      "execution_count": 159,
      "outputs": [
        {
          "output_type": "execute_result",
          "data": {
            "text/plain": [
              "(6, [(0, 0, 10), (0, 6, 8)])"
            ]
          },
          "metadata": {
            "tags": []
          },
          "execution_count": 159
        }
      ]
    },
    {
      "cell_type": "code",
      "metadata": {
        "colab": {
          "base_uri": "https://localhost:8080/"
        },
        "id": "AR_CihgjcaNU",
        "outputId": "0569d434-4cfc-4af7-a45e-66815c016f64"
      },
      "source": [
        "%timeit(rep_three(100))"
      ],
      "execution_count": 160,
      "outputs": [
        {
          "output_type": "stream",
          "text": [
            "The slowest run took 5.27 times longer than the fastest. This could mean that an intermediate result is being cached.\n",
            "1000 loops, best of 5: 326 µs per loop\n"
          ],
          "name": "stdout"
        }
      ]
    },
    {
      "cell_type": "code",
      "metadata": {
        "colab": {
          "base_uri": "https://localhost:8080/"
        },
        "id": "pVYIOcslPhAd",
        "outputId": "c5314f07-6359-4e6f-ac35-f462a42a7730"
      },
      "source": [
        "rep_three(1000)"
      ],
      "execution_count": 161,
      "outputs": [
        {
          "output_type": "execute_result",
          "data": {
            "text/plain": [
              "(24, [(0, 10, 30), (0, 18, 26), (6, 8, 30), (10, 18, 24)])"
            ]
          },
          "metadata": {
            "tags": []
          },
          "execution_count": 161
        }
      ]
    },
    {
      "cell_type": "code",
      "metadata": {
        "colab": {
          "base_uri": "https://localhost:8080/"
        },
        "id": "kIthy2Dab4EJ",
        "outputId": "56f0ccad-4f0a-4a85-ce07-4f7b3299c405"
      },
      "source": [
        "%timeit(rep_three(1000))"
      ],
      "execution_count": 162,
      "outputs": [
        {
          "output_type": "stream",
          "text": [
            "100 loops, best of 5: 5.35 ms per loop\n"
          ],
          "name": "stdout"
        }
      ]
    },
    {
      "cell_type": "markdown",
      "metadata": {
        "id": "zTa6LWA5dqIg"
      },
      "source": [
        "###The new code:"
      ]
    },
    {
      "cell_type": "code",
      "metadata": {
        "id": "PKgKyHAabIBj"
      },
      "source": [
        "import numpy as np\n",
        "def rep_three(N):\n",
        "  abc = list()\n",
        "  R=0\n",
        "  for a in range(-int(np.sqrt(N)), int(np.sqrt(N))+1):\n",
        "    for b in range(-int(np.sqrt(N-abs(a))),int(np.sqrt(N-abs(a)))+1):\n",
        "      for c in range(-int(np.sqrt(N-abs(a)-abs(b))),int(np.sqrt(N-abs(a)-abs(a)))+1):\n",
        "        if a**2 + b**2 + c**2 == N:\n",
        "          abc.append((a,b,c))\n",
        "          R+=1\n",
        "\n",
        "  return R, abc # The result of your function should be R."
      ],
      "execution_count": 226,
      "outputs": []
    },
    {
      "cell_type": "code",
      "metadata": {
        "colab": {
          "base_uri": "https://localhost:8080/"
        },
        "id": "ik-tcWC6Z8Eu",
        "outputId": "ca1fc968-d93b-4f8d-90b7-aade754aae5e"
      },
      "source": [
        "rep_three(6)"
      ],
      "execution_count": 227,
      "outputs": [
        {
          "output_type": "execute_result",
          "data": {
            "text/plain": [
              "(24,\n",
              " [(-2, -1, -1),\n",
              "  (-2, -1, 1),\n",
              "  (-2, 1, -1),\n",
              "  (-2, 1, 1),\n",
              "  (-1, -2, -1),\n",
              "  (-1, -2, 1),\n",
              "  (-1, -1, -2),\n",
              "  (-1, -1, 2),\n",
              "  (-1, 1, -2),\n",
              "  (-1, 1, 2),\n",
              "  (-1, 2, -1),\n",
              "  (-1, 2, 1),\n",
              "  (1, -2, -1),\n",
              "  (1, -2, 1),\n",
              "  (1, -1, -2),\n",
              "  (1, -1, 2),\n",
              "  (1, 1, -2),\n",
              "  (1, 1, 2),\n",
              "  (1, 2, -1),\n",
              "  (1, 2, 1),\n",
              "  (2, -1, -1),\n",
              "  (2, -1, 1),\n",
              "  (2, 1, -1),\n",
              "  (2, 1, 1)])"
            ]
          },
          "metadata": {
            "tags": []
          },
          "execution_count": 227
        }
      ]
    },
    {
      "cell_type": "code",
      "metadata": {
        "colab": {
          "base_uri": "https://localhost:8080/"
        },
        "id": "o-N_la9ObxJV",
        "outputId": "b531e0dc-8ed9-49ef-d87a-7062a6dbd076"
      },
      "source": [
        "rep_three(100)"
      ],
      "execution_count": 228,
      "outputs": [
        {
          "output_type": "execute_result",
          "data": {
            "text/plain": [
              "(30,\n",
              " [(-10, 0, 0),\n",
              "  (-8, -6, 0),\n",
              "  (-8, 0, -6),\n",
              "  (-8, 0, 6),\n",
              "  (-8, 6, 0),\n",
              "  (-6, -8, 0),\n",
              "  (-6, 0, -8),\n",
              "  (-6, 0, 8),\n",
              "  (-6, 8, 0),\n",
              "  (0, -10, 0),\n",
              "  (0, -8, -6),\n",
              "  (0, -8, 6),\n",
              "  (0, -6, -8),\n",
              "  (0, -6, 8),\n",
              "  (0, 0, -10),\n",
              "  (0, 0, 10),\n",
              "  (0, 6, -8),\n",
              "  (0, 6, 8),\n",
              "  (0, 8, -6),\n",
              "  (0, 8, 6),\n",
              "  (0, 10, 0),\n",
              "  (6, -8, 0),\n",
              "  (6, 0, -8),\n",
              "  (6, 0, 8),\n",
              "  (6, 8, 0),\n",
              "  (8, -6, 0),\n",
              "  (8, 0, -6),\n",
              "  (8, 0, 6),\n",
              "  (8, 6, 0),\n",
              "  (10, 0, 0)])"
            ]
          },
          "metadata": {
            "tags": []
          },
          "execution_count": 228
        }
      ]
    },
    {
      "cell_type": "code",
      "metadata": {
        "colab": {
          "base_uri": "https://localhost:8080/"
        },
        "id": "d8ezqQUQcfaR",
        "outputId": "b8577392-da63-4512-eb52-425dec305217"
      },
      "source": [
        "%timeit(rep_three(100))"
      ],
      "execution_count": 229,
      "outputs": [
        {
          "output_type": "stream",
          "text": [
            "100 loops, best of 5: 6.79 ms per loop\n"
          ],
          "name": "stdout"
        }
      ]
    },
    {
      "cell_type": "code",
      "metadata": {
        "colab": {
          "base_uri": "https://localhost:8080/"
        },
        "id": "FnUEUYxab0Rz",
        "outputId": "c5bd0080-159f-45dc-e669-faf128e2070f"
      },
      "source": [
        "rep_three(1000)"
      ],
      "execution_count": 230,
      "outputs": [
        {
          "output_type": "execute_result",
          "data": {
            "text/plain": [
              "(144,\n",
              " [(-30, -10, 0),\n",
              "  (-30, -8, -6),\n",
              "  (-30, -8, 6),\n",
              "  (-30, -6, -8),\n",
              "  (-30, -6, 8),\n",
              "  (-30, 0, -10),\n",
              "  (-30, 0, 10),\n",
              "  (-30, 6, -8),\n",
              "  (-30, 6, 8),\n",
              "  (-30, 8, -6),\n",
              "  (-30, 8, 6),\n",
              "  (-30, 10, 0),\n",
              "  (-26, -18, 0),\n",
              "  (-26, 0, -18),\n",
              "  (-26, 0, 18),\n",
              "  (-26, 18, 0),\n",
              "  (-24, -18, -10),\n",
              "  (-24, -18, 10),\n",
              "  (-24, -10, -18),\n",
              "  (-24, -10, 18),\n",
              "  (-24, 10, -18),\n",
              "  (-24, 10, 18),\n",
              "  (-24, 18, -10),\n",
              "  (-24, 18, 10),\n",
              "  (-18, -26, 0),\n",
              "  (-18, -24, -10),\n",
              "  (-18, -24, 10),\n",
              "  (-18, -10, -24),\n",
              "  (-18, -10, 24),\n",
              "  (-18, 0, -26),\n",
              "  (-18, 0, 26),\n",
              "  (-18, 10, -24),\n",
              "  (-18, 10, 24),\n",
              "  (-18, 24, -10),\n",
              "  (-18, 24, 10),\n",
              "  (-18, 26, 0),\n",
              "  (-10, -30, 0),\n",
              "  (-10, -24, -18),\n",
              "  (-10, -24, 18),\n",
              "  (-10, -18, -24),\n",
              "  (-10, -18, 24),\n",
              "  (-10, 0, -30),\n",
              "  (-10, 0, 30),\n",
              "  (-10, 18, -24),\n",
              "  (-10, 18, 24),\n",
              "  (-10, 24, -18),\n",
              "  (-10, 24, 18),\n",
              "  (-10, 30, 0),\n",
              "  (-8, -30, -6),\n",
              "  (-8, -30, 6),\n",
              "  (-8, -6, -30),\n",
              "  (-8, -6, 30),\n",
              "  (-8, 6, -30),\n",
              "  (-8, 6, 30),\n",
              "  (-8, 30, -6),\n",
              "  (-8, 30, 6),\n",
              "  (-6, -30, -8),\n",
              "  (-6, -30, 8),\n",
              "  (-6, -8, -30),\n",
              "  (-6, -8, 30),\n",
              "  (-6, 8, -30),\n",
              "  (-6, 8, 30),\n",
              "  (-6, 30, -8),\n",
              "  (-6, 30, 8),\n",
              "  (0, -30, -10),\n",
              "  (0, -30, 10),\n",
              "  (0, -26, -18),\n",
              "  (0, -26, 18),\n",
              "  (0, -18, -26),\n",
              "  (0, -18, 26),\n",
              "  (0, -10, -30),\n",
              "  (0, -10, 30),\n",
              "  (0, 10, -30),\n",
              "  (0, 10, 30),\n",
              "  (0, 18, -26),\n",
              "  (0, 18, 26),\n",
              "  (0, 26, -18),\n",
              "  (0, 26, 18),\n",
              "  (0, 30, -10),\n",
              "  (0, 30, 10),\n",
              "  (6, -30, -8),\n",
              "  (6, -30, 8),\n",
              "  (6, -8, -30),\n",
              "  (6, -8, 30),\n",
              "  (6, 8, -30),\n",
              "  (6, 8, 30),\n",
              "  (6, 30, -8),\n",
              "  (6, 30, 8),\n",
              "  (8, -30, -6),\n",
              "  (8, -30, 6),\n",
              "  (8, -6, -30),\n",
              "  (8, -6, 30),\n",
              "  (8, 6, -30),\n",
              "  (8, 6, 30),\n",
              "  (8, 30, -6),\n",
              "  (8, 30, 6),\n",
              "  (10, -30, 0),\n",
              "  (10, -24, -18),\n",
              "  (10, -24, 18),\n",
              "  (10, -18, -24),\n",
              "  (10, -18, 24),\n",
              "  (10, 0, -30),\n",
              "  (10, 0, 30),\n",
              "  (10, 18, -24),\n",
              "  (10, 18, 24),\n",
              "  (10, 24, -18),\n",
              "  (10, 24, 18),\n",
              "  (10, 30, 0),\n",
              "  (18, -26, 0),\n",
              "  (18, -24, -10),\n",
              "  (18, -24, 10),\n",
              "  (18, -10, -24),\n",
              "  (18, -10, 24),\n",
              "  (18, 0, -26),\n",
              "  (18, 0, 26),\n",
              "  (18, 10, -24),\n",
              "  (18, 10, 24),\n",
              "  (18, 24, -10),\n",
              "  (18, 24, 10),\n",
              "  (18, 26, 0),\n",
              "  (24, -18, -10),\n",
              "  (24, -18, 10),\n",
              "  (24, -10, -18),\n",
              "  (24, -10, 18),\n",
              "  (24, 10, -18),\n",
              "  (24, 10, 18),\n",
              "  (24, 18, -10),\n",
              "  (24, 18, 10),\n",
              "  (26, -18, 0),\n",
              "  (26, 0, -18),\n",
              "  (26, 0, 18),\n",
              "  (26, 18, 0),\n",
              "  (30, -10, 0),\n",
              "  (30, -8, -6),\n",
              "  (30, -8, 6),\n",
              "  (30, -6, -8),\n",
              "  (30, -6, 8),\n",
              "  (30, 0, -10),\n",
              "  (30, 0, 10),\n",
              "  (30, 6, -8),\n",
              "  (30, 6, 8),\n",
              "  (30, 8, -6),\n",
              "  (30, 8, 6),\n",
              "  (30, 10, 0)])"
            ]
          },
          "metadata": {
            "tags": []
          },
          "execution_count": 230
        }
      ]
    },
    {
      "cell_type": "code",
      "metadata": {
        "colab": {
          "base_uri": "https://localhost:8080/"
        },
        "id": "M3qZIRtmb-9U",
        "outputId": "a9f8076a-92df-45b4-9839-e3c1d3f987d3"
      },
      "source": [
        "%timeit(rep_three(1000))"
      ],
      "execution_count": 231,
      "outputs": [
        {
          "output_type": "stream",
          "text": [
            "1 loop, best of 5: 201 ms per loop\n"
          ],
          "name": "stdout"
        }
      ]
    },
    {
      "cell_type": "markdown",
      "metadata": {
        "id": "phK1CgdgmWgL"
      },
      "source": [
        "###The third code(if you donnot like the second code either):\n",
        "\n",
        "rep_three(100) is faster than the second code, but rep_three(1000) has more loops than the second code."
      ]
    },
    {
      "cell_type": "code",
      "metadata": {
        "id": "LLgDxiUrllU5"
      },
      "source": [
        "import numpy as np\n",
        "def rep_three(N):\n",
        "  abc = list()\n",
        "  R=0\n",
        "  for a in range(-int(np.sqrt(N)), int(np.sqrt(N))+1):\n",
        "    for b in range(-int(np.sqrt(N-a**2)),int(np.sqrt(N-a**2))+1):\n",
        "      for c in range(-int(np.sqrt(N-a**2-b**2)),int(np.sqrt(N-a**2-b**2))+1):\n",
        "        if a**2 + b**2 + c**2 == N:\n",
        "          abc.append((a,b,c))\n",
        "          R+=1\n",
        "\n",
        "  return R, abc # The result of your function should be R."
      ],
      "execution_count": 233,
      "outputs": []
    },
    {
      "cell_type": "code",
      "metadata": {
        "colab": {
          "base_uri": "https://localhost:8080/"
        },
        "id": "2isVb672h7YX",
        "outputId": "6fcfe66b-61de-4dbc-f3f7-5a49b1dd5343"
      },
      "source": [
        "rep_three(100)"
      ],
      "execution_count": 234,
      "outputs": [
        {
          "output_type": "execute_result",
          "data": {
            "text/plain": [
              "(30,\n",
              " [(-10, 0, 0),\n",
              "  (-8, -6, 0),\n",
              "  (-8, 0, -6),\n",
              "  (-8, 0, 6),\n",
              "  (-8, 6, 0),\n",
              "  (-6, -8, 0),\n",
              "  (-6, 0, -8),\n",
              "  (-6, 0, 8),\n",
              "  (-6, 8, 0),\n",
              "  (0, -10, 0),\n",
              "  (0, -8, -6),\n",
              "  (0, -8, 6),\n",
              "  (0, -6, -8),\n",
              "  (0, -6, 8),\n",
              "  (0, 0, -10),\n",
              "  (0, 0, 10),\n",
              "  (0, 6, -8),\n",
              "  (0, 6, 8),\n",
              "  (0, 8, -6),\n",
              "  (0, 8, 6),\n",
              "  (0, 10, 0),\n",
              "  (6, -8, 0),\n",
              "  (6, 0, -8),\n",
              "  (6, 0, 8),\n",
              "  (6, 8, 0),\n",
              "  (8, -6, 0),\n",
              "  (8, 0, -6),\n",
              "  (8, 0, 6),\n",
              "  (8, 6, 0),\n",
              "  (10, 0, 0)])"
            ]
          },
          "metadata": {
            "tags": []
          },
          "execution_count": 234
        }
      ]
    },
    {
      "cell_type": "code",
      "metadata": {
        "colab": {
          "base_uri": "https://localhost:8080/"
        },
        "id": "pTIRkq0dh_wl",
        "outputId": "854b3fc1-6047-4ecc-f058-5a5eeb563d3a"
      },
      "source": [
        "%timeit(rep_three(100))"
      ],
      "execution_count": 235,
      "outputs": [
        {
          "output_type": "stream",
          "text": [
            "100 loops, best of 5: 4.27 ms per loop\n"
          ],
          "name": "stdout"
        }
      ]
    },
    {
      "cell_type": "code",
      "metadata": {
        "colab": {
          "base_uri": "https://localhost:8080/"
        },
        "id": "sFYNDU1yiYly",
        "outputId": "76aaa053-646a-4c84-e70c-4ecf6a0c56ad"
      },
      "source": [
        "rep_three(1000)"
      ],
      "execution_count": 236,
      "outputs": [
        {
          "output_type": "execute_result",
          "data": {
            "text/plain": [
              "(144,\n",
              " [(-30, -10, 0),\n",
              "  (-30, -8, -6),\n",
              "  (-30, -8, 6),\n",
              "  (-30, -6, -8),\n",
              "  (-30, -6, 8),\n",
              "  (-30, 0, -10),\n",
              "  (-30, 0, 10),\n",
              "  (-30, 6, -8),\n",
              "  (-30, 6, 8),\n",
              "  (-30, 8, -6),\n",
              "  (-30, 8, 6),\n",
              "  (-30, 10, 0),\n",
              "  (-26, -18, 0),\n",
              "  (-26, 0, -18),\n",
              "  (-26, 0, 18),\n",
              "  (-26, 18, 0),\n",
              "  (-24, -18, -10),\n",
              "  (-24, -18, 10),\n",
              "  (-24, -10, -18),\n",
              "  (-24, -10, 18),\n",
              "  (-24, 10, -18),\n",
              "  (-24, 10, 18),\n",
              "  (-24, 18, -10),\n",
              "  (-24, 18, 10),\n",
              "  (-18, -26, 0),\n",
              "  (-18, -24, -10),\n",
              "  (-18, -24, 10),\n",
              "  (-18, -10, -24),\n",
              "  (-18, -10, 24),\n",
              "  (-18, 0, -26),\n",
              "  (-18, 0, 26),\n",
              "  (-18, 10, -24),\n",
              "  (-18, 10, 24),\n",
              "  (-18, 24, -10),\n",
              "  (-18, 24, 10),\n",
              "  (-18, 26, 0),\n",
              "  (-10, -30, 0),\n",
              "  (-10, -24, -18),\n",
              "  (-10, -24, 18),\n",
              "  (-10, -18, -24),\n",
              "  (-10, -18, 24),\n",
              "  (-10, 0, -30),\n",
              "  (-10, 0, 30),\n",
              "  (-10, 18, -24),\n",
              "  (-10, 18, 24),\n",
              "  (-10, 24, -18),\n",
              "  (-10, 24, 18),\n",
              "  (-10, 30, 0),\n",
              "  (-8, -30, -6),\n",
              "  (-8, -30, 6),\n",
              "  (-8, -6, -30),\n",
              "  (-8, -6, 30),\n",
              "  (-8, 6, -30),\n",
              "  (-8, 6, 30),\n",
              "  (-8, 30, -6),\n",
              "  (-8, 30, 6),\n",
              "  (-6, -30, -8),\n",
              "  (-6, -30, 8),\n",
              "  (-6, -8, -30),\n",
              "  (-6, -8, 30),\n",
              "  (-6, 8, -30),\n",
              "  (-6, 8, 30),\n",
              "  (-6, 30, -8),\n",
              "  (-6, 30, 8),\n",
              "  (0, -30, -10),\n",
              "  (0, -30, 10),\n",
              "  (0, -26, -18),\n",
              "  (0, -26, 18),\n",
              "  (0, -18, -26),\n",
              "  (0, -18, 26),\n",
              "  (0, -10, -30),\n",
              "  (0, -10, 30),\n",
              "  (0, 10, -30),\n",
              "  (0, 10, 30),\n",
              "  (0, 18, -26),\n",
              "  (0, 18, 26),\n",
              "  (0, 26, -18),\n",
              "  (0, 26, 18),\n",
              "  (0, 30, -10),\n",
              "  (0, 30, 10),\n",
              "  (6, -30, -8),\n",
              "  (6, -30, 8),\n",
              "  (6, -8, -30),\n",
              "  (6, -8, 30),\n",
              "  (6, 8, -30),\n",
              "  (6, 8, 30),\n",
              "  (6, 30, -8),\n",
              "  (6, 30, 8),\n",
              "  (8, -30, -6),\n",
              "  (8, -30, 6),\n",
              "  (8, -6, -30),\n",
              "  (8, -6, 30),\n",
              "  (8, 6, -30),\n",
              "  (8, 6, 30),\n",
              "  (8, 30, -6),\n",
              "  (8, 30, 6),\n",
              "  (10, -30, 0),\n",
              "  (10, -24, -18),\n",
              "  (10, -24, 18),\n",
              "  (10, -18, -24),\n",
              "  (10, -18, 24),\n",
              "  (10, 0, -30),\n",
              "  (10, 0, 30),\n",
              "  (10, 18, -24),\n",
              "  (10, 18, 24),\n",
              "  (10, 24, -18),\n",
              "  (10, 24, 18),\n",
              "  (10, 30, 0),\n",
              "  (18, -26, 0),\n",
              "  (18, -24, -10),\n",
              "  (18, -24, 10),\n",
              "  (18, -10, -24),\n",
              "  (18, -10, 24),\n",
              "  (18, 0, -26),\n",
              "  (18, 0, 26),\n",
              "  (18, 10, -24),\n",
              "  (18, 10, 24),\n",
              "  (18, 24, -10),\n",
              "  (18, 24, 10),\n",
              "  (18, 26, 0),\n",
              "  (24, -18, -10),\n",
              "  (24, -18, 10),\n",
              "  (24, -10, -18),\n",
              "  (24, -10, 18),\n",
              "  (24, 10, -18),\n",
              "  (24, 10, 18),\n",
              "  (24, 18, -10),\n",
              "  (24, 18, 10),\n",
              "  (26, -18, 0),\n",
              "  (26, 0, -18),\n",
              "  (26, 0, 18),\n",
              "  (26, 18, 0),\n",
              "  (30, -10, 0),\n",
              "  (30, -8, -6),\n",
              "  (30, -8, 6),\n",
              "  (30, -6, -8),\n",
              "  (30, -6, 8),\n",
              "  (30, 0, -10),\n",
              "  (30, 0, 10),\n",
              "  (30, 6, -8),\n",
              "  (30, 6, 8),\n",
              "  (30, 8, -6),\n",
              "  (30, 8, 6),\n",
              "  (30, 10, 0)])"
            ]
          },
          "metadata": {
            "tags": []
          },
          "execution_count": 236
        }
      ]
    },
    {
      "cell_type": "code",
      "metadata": {
        "colab": {
          "base_uri": "https://localhost:8080/"
        },
        "id": "r90adIi0iajO",
        "outputId": "ddc90305-c78a-4344-c0dd-0fb1f1fc82b3"
      },
      "source": [
        "%timeit(rep_three(1000))"
      ],
      "execution_count": 237,
      "outputs": [
        {
          "output_type": "stream",
          "text": [
            "10 loops, best of 5: 112 ms per loop\n"
          ],
          "name": "stdout"
        }
      ]
    },
    {
      "cell_type": "markdown",
      "metadata": {
        "id": "fCoMrM8Tlubg"
      },
      "source": [
        "# Challenge 4\n",
        "\n",
        "Pascal's triangle has $1$ in the first row, then $1, 1$ in the second rod, then $1,2,1$ in the third row, etc.  One can place these numbers in a triangle, with \"rows\" as diagonals, as drawn below.\n",
        "\n",
        "1 1 1 1 1 1\n",
        "\n",
        "1 2 3 4 5\n",
        "\n",
        "1 3 6 10\n",
        "\n",
        "1 4 10\n",
        "\n",
        "1 5\n",
        "\n",
        "1\n",
        "\n",
        "Et cetera.\n",
        "\n",
        "Turn these numbers into black and white dots, depending on whether they are even (black) or odd (white).  This produces an image like the following:\n",
        "\n",
        "X X X X X X\n",
        "\n",
        "X O X O X\n",
        "\n",
        "X X O O\n",
        "\n",
        "X O O\n",
        "\n",
        "X X\n",
        "\n",
        "X\n",
        "\n",
        "Now perform this in PIL, to create an image that fills the top-left triangle in an image of at least 200 x 200 pixels.  You should *not* be computing giant numbers like 200 factorial!  Each row of Pascal's triangle can be computed from the previous by addition... and you can perform this \"mod 2\" all the way through.\n",
        "\n",
        "Extra fun:  instead of black/white dots for even/odd, try colors based on remainders after dividing by three, by four, etc.\n"
      ]
    },
    {
      "cell_type": "markdown",
      "metadata": {
        "id": "Sksgag6feA-i"
      },
      "source": [
        "###The revised code:"
      ]
    },
    {
      "cell_type": "code",
      "metadata": {
        "id": "PiF0lQtPlo0-"
      },
      "source": [
        "import numpy as np"
      ],
      "execution_count": 112,
      "outputs": []
    },
    {
      "cell_type": "code",
      "metadata": {
        "colab": {
          "base_uri": "https://localhost:8080/"
        },
        "id": "FyJHjO-yl5kq",
        "outputId": "1894280f-8d6e-497f-b064-e2af80d828e5"
      },
      "source": [
        "def Pascal_triangle(N) :\n",
        "  Pascal = np.zeros((N,N))\n",
        "  Pascal[0,:] = np.array([1]*N)\n",
        "  for row in range(1,N):\n",
        "    Pascal[row,0] = 1 # Set first column-value to 1.\n",
        "    n = N-1 - row\n",
        "    for column in range(1,n):\n",
        "      Pascal[row,column] = Pascal[row-1,column] + Pascal[row, column-1]\n",
        "\n",
        "  return Pascal\n",
        "print(Pascal.astype(np.uint64))"
      ],
      "execution_count": 113,
      "outputs": [
        {
          "output_type": "stream",
          "text": [
            "[[ 1  1  1  1  1  1  1  1  1  1]\n",
            " [ 1  2  3  4  5  6  7  8  0  0]\n",
            " [ 1  3  6 10 15 21 28  0  0  0]\n",
            " [ 1  4 10 20 35 56  0  0  0  0]\n",
            " [ 1  5 15 35 70  0  0  0  0  0]\n",
            " [ 1  6 21 56  0  0  0  0  0  0]\n",
            " [ 1  7 28  0  0  0  0  0  0  0]\n",
            " [ 1  8  0  0  0  0  0  0  0  0]\n",
            " [ 1  0  0  0  0  0  0  0  0  0]\n",
            " [ 1  0  0  0  0  0  0  0  0  0]]\n"
          ],
          "name": "stdout"
        }
      ]
    },
    {
      "cell_type": "code",
      "metadata": {
        "id": "GPUYF-oCHHFu"
      },
      "source": [
        "from PIL import Image"
      ],
      "execution_count": 114,
      "outputs": []
    },
    {
      "cell_type": "code",
      "metadata": {
        "id": "hWsceFwfHJYj"
      },
      "source": [
        "def Pascal_triangle(N, mod):\n",
        "    Pascal = np.zeros((N, N))\n",
        "    Pascal[0, :] = np.array([1]*N)\n",
        "    for row in range(1, N):\n",
        "        Pascal[row, 0] = 1  # Set first column-value to 1.\n",
        "        n = N - 1 - row\n",
        "        for column in range(1, n):\n",
        "            Pascal[row, column] = (Pascal[row-1, column] + Pascal[row, column-1])%mod\n",
        "    return Pascal"
      ],
      "execution_count": 116,
      "outputs": []
    },
    {
      "cell_type": "code",
      "metadata": {
        "id": "pujzyqzkHQyS"
      },
      "source": [
        "def triangle_array(N, mod=2, A=True):\n",
        "    if A == True:\n",
        "        A = Pascal_triangle(N, mod)\n",
        "        A = A*257\n",
        "    image_triangle = Image.fromarray(A)\n",
        "    image_triangle = image_triangle.convert('RGB')\n",
        "    #this time i used this thing, since you required the rest of the place to be triangle instead of being omitted.\n",
        "    #if i use display, it cannot write mode F as PNG, but if i use image_array = image_array.astype(np.uint8) as last time i did,\n",
        "    #i will only omit a lot of numbers in the middle of the triangle.\n",
        "    #The default image mode is F. The pixel value required by F is a floating point number of 0-1, which is now a number of 0-257 and then converted to rgb, which can support 0-257\n",
        "    display(image_triangle)\n",
        "    #image_triangle.show()"
      ],
      "execution_count": 118,
      "outputs": []
    },
    {
      "cell_type": "code",
      "metadata": {
        "colab": {
          "base_uri": "https://localhost:8080/",
          "height": 274
        },
        "id": "MW8U7GnkHVov",
        "outputId": "ed88f83c-eb89-439f-fd9a-7b6044e97995"
      },
      "source": [
        "triangle_array(257)"
      ],
      "execution_count": 119,
      "outputs": [
        {
          "output_type": "display_data",
          "data": {
            "image/png": "[encoded data removed]",
            "text/plain": [
              "<PIL.Image.Image image mode=RGB size=257x257 at 0x7FEC2EA1E950>"
            ]
          },
          "metadata": {
            "tags": []
          }
        }
      ]
    },
    {
      "cell_type": "markdown",
      "metadata": {
        "id": "bFOYJcbwMr-x"
      },
      "source": [
        "###The new code for extra fun:"
      ]
    },
    {
      "cell_type": "code",
      "metadata": {
        "id": "YU8C0iSjSwpO"
      },
      "source": [
        "import numpy as np"
      ],
      "execution_count": 125,
      "outputs": []
    },
    {
      "cell_type": "code",
      "metadata": {
        "id": "jSaSy2XuSmvp"
      },
      "source": [
        "from PIL import Image "
      ],
      "execution_count": 120,
      "outputs": []
    },
    {
      "cell_type": "code",
      "metadata": {
        "id": "M_bBDOklSpyc"
      },
      "source": [
        "def Pascal_triangle(N, mod):\n",
        "    Pascal = np.zeros((N, N))\n",
        "    Pascal[0, :] = np.array([1]*N)\n",
        "    for row in range(1, N):\n",
        "        Pascal[row, 0] = 1  # Set first column-value to 1.\n",
        "        n = N - 1 - row\n",
        "        for column in range(1, n):\n",
        "            Pascal[row, column] = (Pascal[row-1, column] + Pascal[row, column-1])%mod\n",
        "    return Pascal"
      ],
      "execution_count": 122,
      "outputs": []
    },
    {
      "cell_type": "code",
      "metadata": {
        "id": "Y_yz7e6ltFlX"
      },
      "source": [
        "def colored_triangle_array(N, mod=2, A=True):\n",
        "    RGB = 255\n",
        "    if A == True:\n",
        "        A = Pascal_triangle(N, mod)\n",
        "        B = np.ones((N, N, 3), dtype=np.uint8)\n",
        "        for i in range(0,N):\n",
        "          for j in range(0,N):\n",
        "            if A[i,j] != 0:\n",
        "                temp = RGB / A[i,j]\n",
        "                B[i,j] = [RGB - temp, temp,temp / 2] #setting up digt color based on modded number in A\n",
        "            \n",
        "            else:\n",
        "                B[i,j] = [0,0,0]\n",
        "            \n",
        "    image_triangle = Image.fromarray(B)\n",
        "    display(image_triangle)"
      ],
      "execution_count": 123,
      "outputs": []
    },
    {
      "cell_type": "code",
      "metadata": {
        "id": "ayY6pJt6Km3I",
        "colab": {
          "base_uri": "https://localhost:8080/",
          "height": 317
        },
        "outputId": "4ff85520-6a2d-4ad9-8f86-d1bce038bb0e"
      },
      "source": [
        "colored_triangle_array(300,5)"
      ],
      "execution_count": 124,
      "outputs": [
        {
          "output_type": "display_data",
          "data": {
            "image/png": "[encoded data removed]",
            "text/plain": [
              "<PIL.Image.Image image mode=RGB size=300x300 at 0x7FEC2EA40910>"
            ]
          },
          "metadata": {
            "tags": []
          }
        }
      ]
    }
  ]
}