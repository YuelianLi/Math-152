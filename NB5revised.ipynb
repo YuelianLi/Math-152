{
  "nbformat": 4,
  "nbformat_minor": 0,
  "metadata": {
    "colab": {
      "name": "NB5revised",
      "provenance": [],
      "authorship_tag": "ABX9TyMB8OJPAtnQ8nKBBbkoxUwN",
      "include_colab_link": true
    },
    "kernelspec": {
      "name": "python3",
      "display_name": "Python 3"
    },
    "language_info": {
      "name": "python"
    }
  },
  "cells": [
    {
      "cell_type": "markdown",
      "metadata": {
        "id": "view-in-github",
        "colab_type": "text"
      },
      "source": [
        "<a href=\"https://colab.research.google.com/github/YuelianLi/Math-152/blob/main/NB5revised.ipynb\" target=\"_parent\"><img src=\"https://colab.research.google.com/assets/colab-badge.svg\" alt=\"Open In Colab\"/></a>"
      ]
    },
    {
      "cell_type": "markdown",
      "metadata": {
        "id": "BA1h3zNtO0wL"
      },
      "source": [
        "## Challenge 1\n",
        "\n",
        "If $N$ is a positive integer, then $r_3(N)$ is the number of ways that $N$ can be expressed as the sum of three squares.  Order and sign matter, so for example\n",
        "$$6 = 1^2 + 1^2 + 2^2 = (-1)^2 + 1^2 + 2^2 = 2^2 + (-1)^2 + (-1)^2 = \\cdots$$\n",
        "These are all different ways of expressing 6 as the sum of three squares.  In fact, $r_3(6) = 8 \\cdot 3 = 24$.  The 8 comes from the fact that there are eight sign-choices, and the 3 comes from the three orderings (1,1,2) and (1,2,1) and (2,1,1).\n",
        "\n",
        "In other words, $r_3(N)$ is the number of elements in the following set:\n",
        "$$\\{ (a,b,c) \\in {\\mathbb Z}^3 : a^2 + b^2 + c^2 = N \\}.$$\n",
        "\n",
        "Write a function that computes $r_3(N)$ as efficiently as you can, for somewhat large values of $N$ (e.g., $N \\approx 1000$).\n",
        "\n",
        "You can check whether your function is behaving correctly, by comparing to the values found at the [Online Encyclopedia of Integer Sequences](https://oeis.org/A005875)."
      ]
    },
    {
      "cell_type": "code",
      "metadata": {
        "id": "8NFjz9L_O6td"
      },
      "source": [
        "import numpy as np"
      ],
      "execution_count": 88,
      "outputs": []
    },
    {
      "cell_type": "code",
      "metadata": {
        "id": "F2tMRHVcPcYx"
      },
      "source": [
        "import numpy as np\n",
        "def rep_three(N):\n",
        "  abc = list()\n",
        "  for a in range(0, int(np.sqrt(N))+1):\n",
        "    for b in range(a,int(np.sqrt(N))+1):\n",
        "      for c in range(b,int(np.sqrt(N))+1):\n",
        "        if a**2 + b**2 + c**2 == N:\n",
        "          abc.append((a,b,c))\n",
        "\n",
        "#print(abcs)\n",
        "  R = 0\n",
        "  for n in abc:\n",
        "    if (n[0] == 0) & (n[1] == 0) & (n[2] == 0):\n",
        "      R += 1\n",
        "    elif (n[0] == n[1] == 0) | (n[1] == n[2] == 0) | (n[0] == n[2] == 0):\n",
        "      R += 2\n",
        "    elif (n[0] == 0) | (n[1] == 0) | (n[2] == 0):\n",
        "      R += 4\n",
        "    else:\n",
        "      R += 8\n",
        "\n",
        "  return R, abc # The result of your function should be R."
      ],
      "execution_count": 89,
      "outputs": []
    },
    {
      "cell_type": "code",
      "metadata": {
        "colab": {
          "base_uri": "https://localhost:8080/"
        },
        "id": "dgcoFaRyPdDR",
        "outputId": "fdc50da7-a400-4591-c3b6-08c07026cf85"
      },
      "source": [
        "rep_three(6)"
      ],
      "execution_count": 90,
      "outputs": [
        {
          "output_type": "execute_result",
          "data": {
            "text/plain": [
              "(8, [(1, 1, 2)])"
            ]
          },
          "metadata": {
            "tags": []
          },
          "execution_count": 90
        }
      ]
    },
    {
      "cell_type": "code",
      "metadata": {
        "colab": {
          "base_uri": "https://localhost:8080/"
        },
        "id": "O33_dZ8GPfUS",
        "outputId": "93a95fbe-0649-4006-ba74-22451b767126"
      },
      "source": [
        "rep_three(100)"
      ],
      "execution_count": 91,
      "outputs": [
        {
          "output_type": "execute_result",
          "data": {
            "text/plain": [
              "(6, [(0, 0, 10), (0, 6, 8)])"
            ]
          },
          "metadata": {
            "tags": []
          },
          "execution_count": 91
        }
      ]
    },
    {
      "cell_type": "code",
      "metadata": {
        "colab": {
          "base_uri": "https://localhost:8080/"
        },
        "id": "pVYIOcslPhAd",
        "outputId": "5a646134-8edb-4740-befd-050d51eb9285"
      },
      "source": [
        "rep_three(1000)"
      ],
      "execution_count": 92,
      "outputs": [
        {
          "output_type": "execute_result",
          "data": {
            "text/plain": [
              "(24, [(0, 10, 30), (0, 18, 26), (6, 8, 30), (10, 18, 24)])"
            ]
          },
          "metadata": {
            "tags": []
          },
          "execution_count": 92
        }
      ]
    },
    {
      "cell_type": "markdown",
      "metadata": {
        "id": "fCoMrM8Tlubg"
      },
      "source": [
        "# Challenge 4\n",
        "\n",
        "Pascal's triangle has $1$ in the first row, then $1, 1$ in the second rod, then $1,2,1$ in the third row, etc.  One can place these numbers in a triangle, with \"rows\" as diagonals, as drawn below.\n",
        "\n",
        "1 1 1 1 1 1\n",
        "\n",
        "1 2 3 4 5\n",
        "\n",
        "1 3 6 10\n",
        "\n",
        "1 4 10\n",
        "\n",
        "1 5\n",
        "\n",
        "1\n",
        "\n",
        "Et cetera.\n",
        "\n",
        "Turn these numbers into black and white dots, depending on whether they are even (black) or odd (white).  This produces an image like the following:\n",
        "\n",
        "X X X X X X\n",
        "\n",
        "X O X O X\n",
        "\n",
        "X X O O\n",
        "\n",
        "X O O\n",
        "\n",
        "X X\n",
        "\n",
        "X\n",
        "\n",
        "Now perform this in PIL, to create an image that fills the top-left triangle in an image of at least 200 x 200 pixels.  You should *not* be computing giant numbers like 200 factorial!  Each row of Pascal's triangle can be computed from the previous by addition... and you can perform this \"mod 2\" all the way through.\n",
        "\n",
        "Extra fun:  instead of black/white dots for even/odd, try colors based on remainders after dividing by three, by four, etc.\n"
      ]
    },
    {
      "cell_type": "code",
      "metadata": {
        "id": "PiF0lQtPlo0-"
      },
      "source": [
        "import numpy as np"
      ],
      "execution_count": 58,
      "outputs": []
    },
    {
      "cell_type": "code",
      "metadata": {
        "colab": {
          "base_uri": "https://localhost:8080/"
        },
        "id": "GRjYpRB7lzWH",
        "outputId": "7059653c-d5da-4c5b-e9b6-5f78b857fa08"
      },
      "source": [
        "r = 10\n",
        "Pascal = np.zeros((r,r))\n",
        "print(Pascal)"
      ],
      "execution_count": 59,
      "outputs": [
        {
          "output_type": "stream",
          "text": [
            "[[0. 0. 0. 0. 0. 0. 0. 0. 0. 0.]\n",
            " [0. 0. 0. 0. 0. 0. 0. 0. 0. 0.]\n",
            " [0. 0. 0. 0. 0. 0. 0. 0. 0. 0.]\n",
            " [0. 0. 0. 0. 0. 0. 0. 0. 0. 0.]\n",
            " [0. 0. 0. 0. 0. 0. 0. 0. 0. 0.]\n",
            " [0. 0. 0. 0. 0. 0. 0. 0. 0. 0.]\n",
            " [0. 0. 0. 0. 0. 0. 0. 0. 0. 0.]\n",
            " [0. 0. 0. 0. 0. 0. 0. 0. 0. 0.]\n",
            " [0. 0. 0. 0. 0. 0. 0. 0. 0. 0.]\n",
            " [0. 0. 0. 0. 0. 0. 0. 0. 0. 0.]]\n"
          ],
          "name": "stdout"
        }
      ]
    },
    {
      "cell_type": "code",
      "metadata": {
        "id": "UA4khyoil0R4"
      },
      "source": [
        "Pascal[0,:] = np.array([1]*r)"
      ],
      "execution_count": 60,
      "outputs": []
    },
    {
      "cell_type": "code",
      "metadata": {
        "colab": {
          "base_uri": "https://localhost:8080/"
        },
        "id": "3r1Mh1tal18W",
        "outputId": "90ff0515-5903-4177-c515-aaeedf672f24"
      },
      "source": [
        "for row in range(1,r):\n",
        "  Pascal[row,0] = 1 # Set first column-value to 1.\n",
        "  n = r-1 - row\n",
        "  for column in range(1,n):\n",
        "     Pascal[row,column] = Pascal[row-1,column] + Pascal[row, column-1]\n",
        "print(Pascal.astype(np.uint64)) "
      ],
      "execution_count": 61,
      "outputs": [
        {
          "output_type": "stream",
          "text": [
            "[[ 1  1  1  1  1  1  1  1  1  1]\n",
            " [ 1  2  3  4  5  6  7  8  0  0]\n",
            " [ 1  3  6 10 15 21 28  0  0  0]\n",
            " [ 1  4 10 20 35 56  0  0  0  0]\n",
            " [ 1  5 15 35 70  0  0  0  0  0]\n",
            " [ 1  6 21 56  0  0  0  0  0  0]\n",
            " [ 1  7 28  0  0  0  0  0  0  0]\n",
            " [ 1  8  0  0  0  0  0  0  0  0]\n",
            " [ 1  0  0  0  0  0  0  0  0  0]\n",
            " [ 1  0  0  0  0  0  0  0  0  0]]\n"
          ],
          "name": "stdout"
        }
      ]
    },
    {
      "cell_type": "code",
      "metadata": {
        "colab": {
          "base_uri": "https://localhost:8080/"
        },
        "id": "WPZuMl4hl3j-",
        "outputId": "1e13957e-8750-4ae6-c079-d67f82faf318"
      },
      "source": [
        "A = Pascal.astype(np.uint64)%2\n",
        "print(A)"
      ],
      "execution_count": 62,
      "outputs": [
        {
          "output_type": "stream",
          "text": [
            "[[1 1 1 1 1 1 1 1 1 1]\n",
            " [1 0 1 0 1 0 1 0 0 0]\n",
            " [1 1 0 0 1 1 0 0 0 0]\n",
            " [1 0 0 0 1 0 0 0 0 0]\n",
            " [1 1 1 1 0 0 0 0 0 0]\n",
            " [1 0 1 0 0 0 0 0 0 0]\n",
            " [1 1 0 0 0 0 0 0 0 0]\n",
            " [1 0 0 0 0 0 0 0 0 0]\n",
            " [1 0 0 0 0 0 0 0 0 0]\n",
            " [1 0 0 0 0 0 0 0 0 0]]\n"
          ],
          "name": "stdout"
        }
      ]
    },
    {
      "cell_type": "code",
      "metadata": {
        "colab": {
          "base_uri": "https://localhost:8080/"
        },
        "id": "FyJHjO-yl5kq",
        "outputId": "7ed9568b-d1d1-4fdf-fe35-c61b0c8f673c"
      },
      "source": [
        "def Pascal_triangle(N) :\n",
        "  Pascal = np.zeros((N,N))\n",
        "  Pascal[0,:] = np.array([1]*N)\n",
        "  for row in range(1,N):\n",
        "    Pascal[row,0] = 1 # Set first column-value to 1.\n",
        "    n = N-1 - row\n",
        "    for column in range(1,n):\n",
        "      Pascal[row,column] = Pascal[row-1,column] + Pascal[row, column-1]\n",
        "\n",
        "  return Pascal\n",
        "print(Pascal.astype(np.uint64))"
      ],
      "execution_count": 13,
      "outputs": [
        {
          "output_type": "stream",
          "text": [
            "[[ 1  1  1  1  1  1  1  1  1  1]\n",
            " [ 1  2  3  4  5  6  7  8  0  0]\n",
            " [ 1  3  6 10 15 21 28  0  0  0]\n",
            " [ 1  4 10 20 35 56  0  0  0  0]\n",
            " [ 1  5 15 35 70  0  0  0  0  0]\n",
            " [ 1  6 21 56  0  0  0  0  0  0]\n",
            " [ 1  7 28  0  0  0  0  0  0  0]\n",
            " [ 1  8  0  0  0  0  0  0  0  0]\n",
            " [ 1  0  0  0  0  0  0  0  0  0]\n",
            " [ 1  0  0  0  0  0  0  0  0  0]]\n"
          ],
          "name": "stdout"
        }
      ]
    },
    {
      "cell_type": "code",
      "metadata": {
        "id": "GPUYF-oCHHFu"
      },
      "source": [
        "from PIL import Image"
      ],
      "execution_count": 63,
      "outputs": []
    },
    {
      "cell_type": "code",
      "metadata": {
        "id": "yajpuxALHI2j"
      },
      "source": [
        "import numpy as np"
      ],
      "execution_count": 64,
      "outputs": []
    },
    {
      "cell_type": "code",
      "metadata": {
        "id": "hWsceFwfHJYj"
      },
      "source": [
        "def Pascal_triangle(N, mod):\n",
        "    Pascal = np.zeros((N, N))\n",
        "    Pascal[0, :] = np.array([1]*N)\n",
        "    for row in range(1, N):\n",
        "        Pascal[row, 0] = 1  # Set first column-value to 1.\n",
        "        n = N - 1 - row\n",
        "        for column in range(1, n):\n",
        "            Pascal[row, column] = (Pascal[row-1, column] + Pascal[row, column-1])%mod\n",
        "    return Pascal"
      ],
      "execution_count": 65,
      "outputs": []
    },
    {
      "cell_type": "code",
      "metadata": {
        "id": "pujzyqzkHQyS"
      },
      "source": [
        "def triangle_array(N, mod=2, A=True):\n",
        "    if A == True:\n",
        "        A = Pascal_triangle(N, mod)\n",
        "        A = A*260\n",
        "    image_triangle = Image.fromarray(A)\n",
        "    image_triangle = image_triangle.convert('RGB')\n",
        "    #this time i used this thing, since you required the rest of the place to be triangle instead of being omitted.\n",
        "    #if i use display, it cannot write mode F as PNG, but if i use image_array = image_array.astype(np.uint8) as last time i did,\n",
        "    #i will only omit a lot of numbers in the middle of the triangle.\n",
        "    #The default image mode is F. The pixel value required by F is a floating point number of 0-1, which is now a number of 0-260 and then converted to rgb, which can support 0-260\n",
        "    display(image_triangle)\n",
        "    #image_triangle.show()"
      ],
      "execution_count": 79,
      "outputs": []
    },
    {
      "cell_type": "code",
      "metadata": {
        "colab": {
          "base_uri": "https://localhost:8080/",
          "height": 277
        },
        "id": "MW8U7GnkHVov",
        "outputId": "fd38a6ce-2edc-4be0-f6de-66879f6420e4"
      },
      "source": [
        "triangle_array(260)"
      ],
      "execution_count": 80,
      "outputs": [
        {
          "output_type": "display_data",
          "data": {
            "image/png": "[encoded data removed]",
            "text/plain": [
              "<PIL.Image.Image image mode=RGB size=260x260 at 0x7F43DF8BC690>"
            ]
          },
          "metadata": {
            "tags": []
          }
        }
      ]
    },
    {
      "cell_type": "markdown",
      "metadata": {
        "id": "bFOYJcbwMr-x"
      },
      "source": [
        "###extra fun:"
      ]
    },
    {
      "cell_type": "code",
      "metadata": {
        "id": "pT_UaCflQJKk"
      },
      "source": [
        "def triangle_array_mod3(N, mod=3, A=True):\n",
        "    if A == True:\n",
        "        A = Pascal_triangle(N, mod)\n",
        "        A = A*260\n",
        "    image_triangle = Image.fromarray(A)\n",
        "    image_triangle = image_triangle.convert('RGB')\n",
        "    display(image_triangle)"
      ],
      "execution_count": 96,
      "outputs": []
    },
    {
      "cell_type": "code",
      "metadata": {
        "colab": {
          "base_uri": "https://localhost:8080/",
          "height": 117
        },
        "id": "Hl6eWoLRQ7V1",
        "outputId": "8fbfed1b-bcfa-485b-8fb9-50f7cb469321"
      },
      "source": [
        "triangle_array_mod3(100)"
      ],
      "execution_count": 97,
      "outputs": [
        {
          "output_type": "display_data",
          "data": {
            "image/png": "[encoded data removed]",
            "text/plain": [
              "<PIL.Image.Image image mode=RGB size=100x100 at 0x7F43DF821410>"
            ]
          },
          "metadata": {
            "tags": []
          }
        }
      ]
    }
  ]
}